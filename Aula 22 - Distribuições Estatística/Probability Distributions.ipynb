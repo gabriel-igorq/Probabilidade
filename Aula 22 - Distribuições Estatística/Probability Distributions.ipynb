{
 "cells": [
  {
   "cell_type": "markdown",
   "metadata": {},
   "source": [
    "## Discrete Distributions\n",
    "### Probability Mass Function "
   ]
  },
  {
   "cell_type": "code",
   "execution_count": 1,
   "metadata": {
    "scrolled": true
   },
   "outputs": [
    {
     "name": "stdout",
     "output_type": "stream",
     "text": [
      "Dice - 6 faces: pmf(X)\n",
      " {1: 1/6, 2: 1/6, 3: 1/6, 4: 1/6, 5: 1/6, 6: 1/6}\n"
     ]
    }
   ],
   "source": [
    "# pmf - probability mass function\n",
    "from sympy.stats import Die, density, FiniteRV\n",
    "\n",
    "X = Die('X',6)\n",
    "print(\"Dice - 6 faces: pmf(X)\\n\",density(X).dict)"
   ]
  },
  {
   "cell_type": "code",
   "execution_count": 2,
   "metadata": {},
   "outputs": [
    {
     "name": "stdout",
     "output_type": "stream",
     "text": [
      "Biased Dice - 6 faces: pmf(Y)\n",
      " {1: 0.2, 2: 0.1, 3: 0.3, 4: 0.1, 5: 0.2, 6: 0.1}\n"
     ]
    }
   ],
   "source": [
    "# pmf - probability mass function\n",
    "pmf = {1: 0.2, 2: 0.1, 3: 0.3, 4: 0.1, 5: 0.2, 6: 0.1}\n",
    "Y = FiniteRV('Y',pmf)\n",
    "print(\"Biased Dice - 6 faces: pmf(Y)\\n\",density(Y).dict)"
   ]
  },
  {
   "cell_type": "markdown",
   "metadata": {},
   "source": [
    "### Cumulative Distribution Function"
   ]
  },
  {
   "cell_type": "code",
   "execution_count": 3,
   "metadata": {},
   "outputs": [
    {
     "name": "stdout",
     "output_type": "stream",
     "text": [
      "Dice - 6 faces: pmf(X)\n",
      " {1: 1/6, 2: 1/6, 3: 1/6, 4: 1/6, 5: 1/6, 6: 1/6}\n",
      "Dice - 6 faces: cdf(X)\n",
      " {1: 1/6, 2: 1/3, 3: 1/2, 4: 2/3, 5: 5/6, 6: 1}\n"
     ]
    }
   ],
   "source": [
    "# cdf - cumulative distribution function\n",
    "from sympy.stats import cdf\n",
    "\n",
    "print(\"Dice - 6 faces: pmf(X)\\n\",density(X).dict)\n",
    "print(\"Dice - 6 faces: cdf(X)\\n\", cdf(X))"
   ]
  },
  {
   "cell_type": "code",
   "execution_count": 4,
   "metadata": {},
   "outputs": [
    {
     "name": "stdout",
     "output_type": "stream",
     "text": [
      "Biased Dice - 6 faces: pmf(Y)\n",
      " {1: 0.2, 2: 0.1, 3: 0.3, 4: 0.1, 5: 0.2, 6: 0.1}\n",
      "Biased Dice - 6 faces: cdf(Y)\n",
      " {1: 0.200000000000000, 2: 0.300000000000000, 3: 0.600000000000000, 4: 0.700000000000000, 5: 0.900000000000000, 6: 1.00000000000000}\n"
     ]
    }
   ],
   "source": [
    "print(\"Biased Dice - 6 faces: pmf(Y)\\n\",density(Y).dict)\n",
    "print(\"Biased Dice - 6 faces: cdf(Y)\\n\", cdf(Y))"
   ]
  },
  {
   "cell_type": "markdown",
   "metadata": {},
   "source": [
    "<br>\n",
    "<div class=\"alert alert-info\">\n",
    "<b>Exercise start </b>\n",
    "</div>\n",
    "\n",
    "1. Using cdf create a function that generate randomly a face of a 8 faces dice. \n",
    "    - face = my_dice(n,cdf)\n"
   ]
  },
  {
   "cell_type": "code",
   "execution_count": 5,
   "metadata": {},
   "outputs": [],
   "source": [
    "def my_dice(n, cdf):\n",
    "    for key,value in cdf.items():\n",
    "        if n <= value: return key"
   ]
  },
  {
   "cell_type": "code",
   "execution_count": 41,
   "metadata": {},
   "outputs": [
    {
     "name": "stdout",
     "output_type": "stream",
     "text": [
      "0.0266737389203211\n"
     ]
    },
    {
     "data": {
      "text/plain": [
       "1"
      ]
     },
     "execution_count": 41,
     "metadata": {},
     "output_type": "execute_result"
    }
   ],
   "source": [
    "from random import *\n",
    "\n",
    "x = random()\n",
    "print(x)\n",
    "D8 = Die(\"D8\", 8)\n",
    "face = my_dice(x,cdf(D8))\n",
    "face"
   ]
  },
  {
   "cell_type": "markdown",
   "metadata": {},
   "source": [
    "# DESAFIO DO SLIDE"
   ]
  },
  {
   "cell_type": "code",
   "execution_count": 50,
   "metadata": {},
   "outputs": [
    {
     "name": "stdout",
     "output_type": "stream",
     "text": [
      "{1: 1/8, 2: 1/8, 3: 1/8, 4: 1/8, 5: 1/8, 6: 1/8, 7: 1/8, 8: 1/8}\n",
      "{1: 1/8, 2: 1/4, 3: 3/8, 4: 1/2, 5: 5/8, 6: 3/4, 7: 7/8, 8: 1}\n"
     ]
    }
   ],
   "source": [
    "from sympy.stats import Die, density, FiniteRV, cdf\n",
    "Dado = Die('Dado',8)\n",
    "print(density(Dado).dict)\n",
    "print(cdf(Dado))"
   ]
  },
  {
   "cell_type": "code",
   "execution_count": 47,
   "metadata": {},
   "outputs": [
    {
     "name": "stdout",
     "output_type": "stream",
     "text": [
      "0.20064020651112746\n",
      "2\n"
     ]
    }
   ],
   "source": [
    "import random, numpy\n",
    "X =  random.uniform(0, 1)\n",
    "print(X)\n",
    "dic = cdf(Dado)\n",
    "\n",
    "for keys in dic:\n",
    "    if(keys >1):\n",
    "        if(X > dic[keys-1] and X <= dic[keys]):\n",
    "            print(keys);\n",
    "    else:\n",
    "        if(X <= dic[keys]):\n",
    "            print(keys)"
   ]
  },
  {
   "cell_type": "markdown",
   "metadata": {},
   "source": [
    "## Bernoulli Distribution\n",
    "\n",
    "$$\n",
    "\\begin{eqnarray*}\n",
    "P(X = x)  \\Leftrightarrow  f(x)  & = &\n",
    "\\begin{cases}\n",
    "               \\displaystyle q, \\ \\ \\ x = 0\\\\\n",
    "               p, \\ \\ \\ x = 1\n",
    "\\end{cases}\\\\\n",
    "P(X \\leq x) \\Leftrightarrow  F(x)  & = &\n",
    "\\begin{cases}\n",
    "               0, \\ \\ \\ x < 0\\\\\n",
    "               q, \\ \\ \\ 0 \\leq x < 1\\\\\n",
    "               1, \\ \\ \\ x \\geq 1\n",
    "\\end{cases}\n",
    "\\end{eqnarray*}\n",
    "$$"
   ]
  },
  {
   "cell_type": "code",
   "execution_count": 7,
   "metadata": {},
   "outputs": [
    {
     "name": "stdout",
     "output_type": "stream",
     "text": [
      "Bernoulli pmf(x):\n",
      " {1: 0.750000000000000, 0: 0.250000000000000}\n",
      "Bernoulli cdf(x): \n",
      " {0: 0.250000000000000, 1: 1.00000000000000}\n"
     ]
    }
   ],
   "source": [
    "from sympy.stats import Bernoulli, density, cdf\n",
    "from sympy import S\n",
    "\n",
    "X = Bernoulli('X', 3/4)\n",
    "print(\"Bernoulli pmf(x):\\n\", density(X).dict)\n",
    "print(\"Bernoulli cdf(x): \\n\", cdf(X))"
   ]
  },
  {
   "cell_type": "markdown",
   "metadata": {},
   "source": [
    "## Binomial Distribution\n",
    "\n",
    "$$\n",
    "\\begin{eqnarray*}\n",
    "P(X = k)  \\Leftrightarrow  f(k,n,p)  & = &\n",
    "\\begin{cases}\n",
    "               \\displaystyle \\binom{n}{k}p^k(1-p)^{n-k} \\ \\ \\ 0 \\leq k \\leq n\\\\\n",
    "               \\textrm{caso contrário}\n",
    "\\end{cases}\\\\\n",
    "P(X \\leq x) \\Leftrightarrow  F(k,n,p)  & = &\n",
    "               \\displaystyle \\sum_{i=0}^{k}\\binom{n}{i}p^k(1-p)^{n-k} \n",
    "\\end{eqnarray*}\n",
    "$$"
   ]
  },
  {
   "cell_type": "code",
   "execution_count": 8,
   "metadata": {},
   "outputs": [
    {
     "data": {
      "text/html": [
       "\n",
       "    <div class=\"bk-root\">\n",
       "        <a href=\"https://bokeh.pydata.org\" target=\"_blank\" class=\"bk-logo bk-logo-small bk-logo-notebook\"></a>\n",
       "        <span id=\"01cf3f64-6c05-4b42-ad1e-0532a90ef27d\">Loading BokehJS ...</span>\n",
       "    </div>"
      ]
     },
     "metadata": {},
     "output_type": "display_data"
    },
    {
     "data": {
      "application/javascript": [
       "\n",
       "(function(root) {\n",
       "  function now() {\n",
       "    return new Date();\n",
       "  }\n",
       "\n",
       "  var force = true;\n",
       "\n",
       "  if (typeof (root._bokeh_onload_callbacks) === \"undefined\" || force === true) {\n",
       "    root._bokeh_onload_callbacks = [];\n",
       "    root._bokeh_is_loading = undefined;\n",
       "  }\n",
       "\n",
       "  var JS_MIME_TYPE = 'application/javascript';\n",
       "  var HTML_MIME_TYPE = 'text/html';\n",
       "  var EXEC_MIME_TYPE = 'application/vnd.bokehjs_exec.v0+json';\n",
       "  var CLASS_NAME = 'output_bokeh rendered_html';\n",
       "\n",
       "  /**\n",
       "   * Render data to the DOM node\n",
       "   */\n",
       "  function render(props, node) {\n",
       "    var script = document.createElement(\"script\");\n",
       "    node.appendChild(script);\n",
       "  }\n",
       "\n",
       "  /**\n",
       "   * Handle when an output is cleared or removed\n",
       "   */\n",
       "  function handleClearOutput(event, handle) {\n",
       "    var cell = handle.cell;\n",
       "\n",
       "    var id = cell.output_area._bokeh_element_id;\n",
       "    var server_id = cell.output_area._bokeh_server_id;\n",
       "    // Clean up Bokeh references\n",
       "    if (id !== undefined) {\n",
       "      Bokeh.index[id].model.document.clear();\n",
       "      delete Bokeh.index[id];\n",
       "    }\n",
       "\n",
       "    if (server_id !== undefined) {\n",
       "      // Clean up Bokeh references\n",
       "      var cmd = \"from bokeh.io.state import curstate; print(curstate().uuid_to_server['\" + server_id + \"'].get_sessions()[0].document.roots[0]._id)\";\n",
       "      cell.notebook.kernel.execute(cmd, {\n",
       "        iopub: {\n",
       "          output: function(msg) {\n",
       "            var element_id = msg.content.text.trim();\n",
       "            Bokeh.index[element_id].model.document.clear();\n",
       "            delete Bokeh.index[element_id];\n",
       "          }\n",
       "        }\n",
       "      });\n",
       "      // Destroy server and session\n",
       "      var cmd = \"import bokeh.io.notebook as ion; ion.destroy_server('\" + server_id + \"')\";\n",
       "      cell.notebook.kernel.execute(cmd);\n",
       "    }\n",
       "  }\n",
       "\n",
       "  /**\n",
       "   * Handle when a new output is added\n",
       "   */\n",
       "  function handleAddOutput(event, handle) {\n",
       "    var output_area = handle.output_area;\n",
       "    var output = handle.output;\n",
       "\n",
       "    // limit handleAddOutput to display_data with EXEC_MIME_TYPE content only\n",
       "    if ((output.output_type != \"display_data\") || (!output.data.hasOwnProperty(EXEC_MIME_TYPE))) {\n",
       "      return\n",
       "    }\n",
       "\n",
       "    var toinsert = output_area.element.find(\".\" + CLASS_NAME.split(' ')[0]);\n",
       "\n",
       "    if (output.metadata[EXEC_MIME_TYPE][\"id\"] !== undefined) {\n",
       "      toinsert[0].firstChild.textContent = output.data[JS_MIME_TYPE];\n",
       "      // store reference to embed id on output_area\n",
       "      output_area._bokeh_element_id = output.metadata[EXEC_MIME_TYPE][\"id\"];\n",
       "    }\n",
       "    if (output.metadata[EXEC_MIME_TYPE][\"server_id\"] !== undefined) {\n",
       "      var bk_div = document.createElement(\"div\");\n",
       "      bk_div.innerHTML = output.data[HTML_MIME_TYPE];\n",
       "      var script_attrs = bk_div.children[0].attributes;\n",
       "      for (var i = 0; i < script_attrs.length; i++) {\n",
       "        toinsert[0].firstChild.setAttribute(script_attrs[i].name, script_attrs[i].value);\n",
       "      }\n",
       "      // store reference to server id on output_area\n",
       "      output_area._bokeh_server_id = output.metadata[EXEC_MIME_TYPE][\"server_id\"];\n",
       "    }\n",
       "  }\n",
       "\n",
       "  function register_renderer(events, OutputArea) {\n",
       "\n",
       "    function append_mime(data, metadata, element) {\n",
       "      // create a DOM node to render to\n",
       "      var toinsert = this.create_output_subarea(\n",
       "        metadata,\n",
       "        CLASS_NAME,\n",
       "        EXEC_MIME_TYPE\n",
       "      );\n",
       "      this.keyboard_manager.register_events(toinsert);\n",
       "      // Render to node\n",
       "      var props = {data: data, metadata: metadata[EXEC_MIME_TYPE]};\n",
       "      render(props, toinsert[0]);\n",
       "      element.append(toinsert);\n",
       "      return toinsert\n",
       "    }\n",
       "\n",
       "    /* Handle when an output is cleared or removed */\n",
       "    events.on('clear_output.CodeCell', handleClearOutput);\n",
       "    events.on('delete.Cell', handleClearOutput);\n",
       "\n",
       "    /* Handle when a new output is added */\n",
       "    events.on('output_added.OutputArea', handleAddOutput);\n",
       "\n",
       "    /**\n",
       "     * Register the mime type and append_mime function with output_area\n",
       "     */\n",
       "    OutputArea.prototype.register_mime_type(EXEC_MIME_TYPE, append_mime, {\n",
       "      /* Is output safe? */\n",
       "      safe: true,\n",
       "      /* Index of renderer in `output_area.display_order` */\n",
       "      index: 0\n",
       "    });\n",
       "  }\n",
       "\n",
       "  // register the mime type if in Jupyter Notebook environment and previously unregistered\n",
       "  if (root.Jupyter !== undefined) {\n",
       "    var events = require('base/js/events');\n",
       "    var OutputArea = require('notebook/js/outputarea').OutputArea;\n",
       "\n",
       "    if (OutputArea.prototype.mime_types().indexOf(EXEC_MIME_TYPE) == -1) {\n",
       "      register_renderer(events, OutputArea);\n",
       "    }\n",
       "  }\n",
       "\n",
       "  \n",
       "  if (typeof (root._bokeh_timeout) === \"undefined\" || force === true) {\n",
       "    root._bokeh_timeout = Date.now() + 5000;\n",
       "    root._bokeh_failed_load = false;\n",
       "  }\n",
       "\n",
       "  var NB_LOAD_WARNING = {'data': {'text/html':\n",
       "     \"<div style='background-color: #fdd'>\\n\"+\n",
       "     \"<p>\\n\"+\n",
       "     \"BokehJS does not appear to have successfully loaded. If loading BokehJS from CDN, this \\n\"+\n",
       "     \"may be due to a slow or bad network connection. Possible fixes:\\n\"+\n",
       "     \"</p>\\n\"+\n",
       "     \"<ul>\\n\"+\n",
       "     \"<li>re-rerun `output_notebook()` to attempt to load from CDN again, or</li>\\n\"+\n",
       "     \"<li>use INLINE resources instead, as so:</li>\\n\"+\n",
       "     \"</ul>\\n\"+\n",
       "     \"<code>\\n\"+\n",
       "     \"from bokeh.resources import INLINE\\n\"+\n",
       "     \"output_notebook(resources=INLINE)\\n\"+\n",
       "     \"</code>\\n\"+\n",
       "     \"</div>\"}};\n",
       "\n",
       "  function display_loaded() {\n",
       "    var el = document.getElementById(\"01cf3f64-6c05-4b42-ad1e-0532a90ef27d\");\n",
       "    if (el != null) {\n",
       "      el.textContent = \"BokehJS is loading...\";\n",
       "    }\n",
       "    if (root.Bokeh !== undefined) {\n",
       "      if (el != null) {\n",
       "        el.textContent = \"BokehJS \" + root.Bokeh.version + \" successfully loaded.\";\n",
       "      }\n",
       "    } else if (Date.now() < root._bokeh_timeout) {\n",
       "      setTimeout(display_loaded, 100)\n",
       "    }\n",
       "  }\n",
       "\n",
       "\n",
       "  function run_callbacks() {\n",
       "    try {\n",
       "      root._bokeh_onload_callbacks.forEach(function(callback) { callback() });\n",
       "    }\n",
       "    finally {\n",
       "      delete root._bokeh_onload_callbacks\n",
       "    }\n",
       "    console.info(\"Bokeh: all callbacks have finished\");\n",
       "  }\n",
       "\n",
       "  function load_libs(js_urls, callback) {\n",
       "    root._bokeh_onload_callbacks.push(callback);\n",
       "    if (root._bokeh_is_loading > 0) {\n",
       "      console.log(\"Bokeh: BokehJS is being loaded, scheduling callback at\", now());\n",
       "      return null;\n",
       "    }\n",
       "    if (js_urls == null || js_urls.length === 0) {\n",
       "      run_callbacks();\n",
       "      return null;\n",
       "    }\n",
       "    console.log(\"Bokeh: BokehJS not loaded, scheduling load and callback at\", now());\n",
       "    root._bokeh_is_loading = js_urls.length;\n",
       "    for (var i = 0; i < js_urls.length; i++) {\n",
       "      var url = js_urls[i];\n",
       "      var s = document.createElement('script');\n",
       "      s.src = url;\n",
       "      s.async = false;\n",
       "      s.onreadystatechange = s.onload = function() {\n",
       "        root._bokeh_is_loading--;\n",
       "        if (root._bokeh_is_loading === 0) {\n",
       "          console.log(\"Bokeh: all BokehJS libraries loaded\");\n",
       "          run_callbacks()\n",
       "        }\n",
       "      };\n",
       "      s.onerror = function() {\n",
       "        console.warn(\"failed to load library \" + url);\n",
       "      };\n",
       "      console.log(\"Bokeh: injecting script tag for BokehJS library: \", url);\n",
       "      document.getElementsByTagName(\"head\")[0].appendChild(s);\n",
       "    }\n",
       "  };var element = document.getElementById(\"01cf3f64-6c05-4b42-ad1e-0532a90ef27d\");\n",
       "  if (element == null) {\n",
       "    console.log(\"Bokeh: ERROR: autoload.js configured with elementid '01cf3f64-6c05-4b42-ad1e-0532a90ef27d' but no matching script tag was found. \")\n",
       "    return false;\n",
       "  }\n",
       "\n",
       "  var js_urls = [\"https://cdn.pydata.org/bokeh/release/bokeh-0.12.13.min.js\", \"https://cdn.pydata.org/bokeh/release/bokeh-widgets-0.12.13.min.js\", \"https://cdn.pydata.org/bokeh/release/bokeh-tables-0.12.13.min.js\", \"https://cdn.pydata.org/bokeh/release/bokeh-gl-0.12.13.min.js\"];\n",
       "\n",
       "  var inline_js = [\n",
       "    function(Bokeh) {\n",
       "      Bokeh.set_log_level(\"info\");\n",
       "    },\n",
       "    \n",
       "    function(Bokeh) {\n",
       "      \n",
       "    },\n",
       "    function(Bokeh) {\n",
       "      console.log(\"Bokeh: injecting CSS: https://cdn.pydata.org/bokeh/release/bokeh-0.12.13.min.css\");\n",
       "      Bokeh.embed.inject_css(\"https://cdn.pydata.org/bokeh/release/bokeh-0.12.13.min.css\");\n",
       "      console.log(\"Bokeh: injecting CSS: https://cdn.pydata.org/bokeh/release/bokeh-widgets-0.12.13.min.css\");\n",
       "      Bokeh.embed.inject_css(\"https://cdn.pydata.org/bokeh/release/bokeh-widgets-0.12.13.min.css\");\n",
       "      console.log(\"Bokeh: injecting CSS: https://cdn.pydata.org/bokeh/release/bokeh-tables-0.12.13.min.css\");\n",
       "      Bokeh.embed.inject_css(\"https://cdn.pydata.org/bokeh/release/bokeh-tables-0.12.13.min.css\");\n",
       "    }\n",
       "  ];\n",
       "\n",
       "  function run_inline_js() {\n",
       "    \n",
       "    if ((root.Bokeh !== undefined) || (force === true)) {\n",
       "      for (var i = 0; i < inline_js.length; i++) {\n",
       "        inline_js[i].call(root, root.Bokeh);\n",
       "      }if (force === true) {\n",
       "        display_loaded();\n",
       "      }} else if (Date.now() < root._bokeh_timeout) {\n",
       "      setTimeout(run_inline_js, 100);\n",
       "    } else if (!root._bokeh_failed_load) {\n",
       "      console.log(\"Bokeh: BokehJS failed to load within specified timeout.\");\n",
       "      root._bokeh_failed_load = true;\n",
       "    } else if (force !== true) {\n",
       "      var cell = $(document.getElementById(\"01cf3f64-6c05-4b42-ad1e-0532a90ef27d\")).parents('.cell').data().cell;\n",
       "      cell.output_area.append_execute_result(NB_LOAD_WARNING)\n",
       "    }\n",
       "\n",
       "  }\n",
       "\n",
       "  if (root._bokeh_is_loading === 0) {\n",
       "    console.log(\"Bokeh: BokehJS loaded, going straight to plotting\");\n",
       "    run_inline_js();\n",
       "  } else {\n",
       "    load_libs(js_urls, function() {\n",
       "      console.log(\"Bokeh: BokehJS plotting callback run at\", now());\n",
       "      run_inline_js();\n",
       "    });\n",
       "  }\n",
       "}(window));"
      ],
      "application/vnd.bokehjs_load.v0+json": "\n(function(root) {\n  function now() {\n    return new Date();\n  }\n\n  var force = true;\n\n  if (typeof (root._bokeh_onload_callbacks) === \"undefined\" || force === true) {\n    root._bokeh_onload_callbacks = [];\n    root._bokeh_is_loading = undefined;\n  }\n\n  \n\n  \n  if (typeof (root._bokeh_timeout) === \"undefined\" || force === true) {\n    root._bokeh_timeout = Date.now() + 5000;\n    root._bokeh_failed_load = false;\n  }\n\n  var NB_LOAD_WARNING = {'data': {'text/html':\n     \"<div style='background-color: #fdd'>\\n\"+\n     \"<p>\\n\"+\n     \"BokehJS does not appear to have successfully loaded. If loading BokehJS from CDN, this \\n\"+\n     \"may be due to a slow or bad network connection. Possible fixes:\\n\"+\n     \"</p>\\n\"+\n     \"<ul>\\n\"+\n     \"<li>re-rerun `output_notebook()` to attempt to load from CDN again, or</li>\\n\"+\n     \"<li>use INLINE resources instead, as so:</li>\\n\"+\n     \"</ul>\\n\"+\n     \"<code>\\n\"+\n     \"from bokeh.resources import INLINE\\n\"+\n     \"output_notebook(resources=INLINE)\\n\"+\n     \"</code>\\n\"+\n     \"</div>\"}};\n\n  function display_loaded() {\n    var el = document.getElementById(\"01cf3f64-6c05-4b42-ad1e-0532a90ef27d\");\n    if (el != null) {\n      el.textContent = \"BokehJS is loading...\";\n    }\n    if (root.Bokeh !== undefined) {\n      if (el != null) {\n        el.textContent = \"BokehJS \" + root.Bokeh.version + \" successfully loaded.\";\n      }\n    } else if (Date.now() < root._bokeh_timeout) {\n      setTimeout(display_loaded, 100)\n    }\n  }\n\n\n  function run_callbacks() {\n    try {\n      root._bokeh_onload_callbacks.forEach(function(callback) { callback() });\n    }\n    finally {\n      delete root._bokeh_onload_callbacks\n    }\n    console.info(\"Bokeh: all callbacks have finished\");\n  }\n\n  function load_libs(js_urls, callback) {\n    root._bokeh_onload_callbacks.push(callback);\n    if (root._bokeh_is_loading > 0) {\n      console.log(\"Bokeh: BokehJS is being loaded, scheduling callback at\", now());\n      return null;\n    }\n    if (js_urls == null || js_urls.length === 0) {\n      run_callbacks();\n      return null;\n    }\n    console.log(\"Bokeh: BokehJS not loaded, scheduling load and callback at\", now());\n    root._bokeh_is_loading = js_urls.length;\n    for (var i = 0; i < js_urls.length; i++) {\n      var url = js_urls[i];\n      var s = document.createElement('script');\n      s.src = url;\n      s.async = false;\n      s.onreadystatechange = s.onload = function() {\n        root._bokeh_is_loading--;\n        if (root._bokeh_is_loading === 0) {\n          console.log(\"Bokeh: all BokehJS libraries loaded\");\n          run_callbacks()\n        }\n      };\n      s.onerror = function() {\n        console.warn(\"failed to load library \" + url);\n      };\n      console.log(\"Bokeh: injecting script tag for BokehJS library: \", url);\n      document.getElementsByTagName(\"head\")[0].appendChild(s);\n    }\n  };var element = document.getElementById(\"01cf3f64-6c05-4b42-ad1e-0532a90ef27d\");\n  if (element == null) {\n    console.log(\"Bokeh: ERROR: autoload.js configured with elementid '01cf3f64-6c05-4b42-ad1e-0532a90ef27d' but no matching script tag was found. \")\n    return false;\n  }\n\n  var js_urls = [\"https://cdn.pydata.org/bokeh/release/bokeh-0.12.13.min.js\", \"https://cdn.pydata.org/bokeh/release/bokeh-widgets-0.12.13.min.js\", \"https://cdn.pydata.org/bokeh/release/bokeh-tables-0.12.13.min.js\", \"https://cdn.pydata.org/bokeh/release/bokeh-gl-0.12.13.min.js\"];\n\n  var inline_js = [\n    function(Bokeh) {\n      Bokeh.set_log_level(\"info\");\n    },\n    \n    function(Bokeh) {\n      \n    },\n    function(Bokeh) {\n      console.log(\"Bokeh: injecting CSS: https://cdn.pydata.org/bokeh/release/bokeh-0.12.13.min.css\");\n      Bokeh.embed.inject_css(\"https://cdn.pydata.org/bokeh/release/bokeh-0.12.13.min.css\");\n      console.log(\"Bokeh: injecting CSS: https://cdn.pydata.org/bokeh/release/bokeh-widgets-0.12.13.min.css\");\n      Bokeh.embed.inject_css(\"https://cdn.pydata.org/bokeh/release/bokeh-widgets-0.12.13.min.css\");\n      console.log(\"Bokeh: injecting CSS: https://cdn.pydata.org/bokeh/release/bokeh-tables-0.12.13.min.css\");\n      Bokeh.embed.inject_css(\"https://cdn.pydata.org/bokeh/release/bokeh-tables-0.12.13.min.css\");\n    }\n  ];\n\n  function run_inline_js() {\n    \n    if ((root.Bokeh !== undefined) || (force === true)) {\n      for (var i = 0; i < inline_js.length; i++) {\n        inline_js[i].call(root, root.Bokeh);\n      }if (force === true) {\n        display_loaded();\n      }} else if (Date.now() < root._bokeh_timeout) {\n      setTimeout(run_inline_js, 100);\n    } else if (!root._bokeh_failed_load) {\n      console.log(\"Bokeh: BokehJS failed to load within specified timeout.\");\n      root._bokeh_failed_load = true;\n    } else if (force !== true) {\n      var cell = $(document.getElementById(\"01cf3f64-6c05-4b42-ad1e-0532a90ef27d\")).parents('.cell').data().cell;\n      cell.output_area.append_execute_result(NB_LOAD_WARNING)\n    }\n\n  }\n\n  if (root._bokeh_is_loading === 0) {\n    console.log(\"Bokeh: BokehJS loaded, going straight to plotting\");\n    run_inline_js();\n  } else {\n    load_libs(js_urls, function() {\n      console.log(\"Bokeh: BokehJS plotting callback run at\", now());\n      run_inline_js();\n    });\n  }\n}(window));"
     },
     "metadata": {},
     "output_type": "display_data"
    }
   ],
   "source": [
    "import numpy as np\n",
    "from scipy.stats import binom, geom\n",
    "from bokeh.plotting import Figure\n",
    "\n",
    "from bokeh.io import show,output_notebook\n",
    "from bokeh.models import HoverTool\n",
    "from bokeh.layouts import row\n",
    "\n",
    "import random\n",
    "output_notebook()"
   ]
  },
  {
   "cell_type": "code",
   "execution_count": 9,
   "metadata": {
    "scrolled": true
   },
   "outputs": [
    {
     "data": {
      "text/html": [
       "\n",
       "<div class=\"bk-root\">\n",
       "    <div class=\"bk-plotdiv\" id=\"40298b88-7a65-42ec-abbf-2a7f7d317c98\"></div>\n",
       "</div>"
      ]
     },
     "metadata": {},
     "output_type": "display_data"
    },
    {
     "data": {
      "application/javascript": [
       "(function(root) {\n",
       "  function embed_document(root) {\n",
       "    \n",
       "  var docs_json = {\"20c3fe38-97b6-4466-8f89-6fba35ad5cc1\":{\"roots\":{\"references\":[{\"attributes\":{\"active_drag\":\"auto\",\"active_inspect\":\"auto\",\"active_scroll\":\"auto\",\"active_tap\":\"auto\",\"tools\":[{\"id\":\"b5d4d400-f188-4537-8612-2f4854292936\",\"type\":\"PanTool\"},{\"id\":\"9e9a13f1-ef47-4683-9b4e-5c6571bd2894\",\"type\":\"WheelZoomTool\"},{\"id\":\"7ab1d250-bf62-4173-90d7-96a783f8755a\",\"type\":\"ResetTool\"},{\"id\":\"b803bbcf-0e12-47c8-8367-a2d55764b364\",\"type\":\"SaveTool\"}]},\"id\":\"91a62d1b-fce1-4362-81ab-b121bf0ddb8b\",\"type\":\"Toolbar\"},{\"attributes\":{\"data_source\":{\"id\":\"03fa540c-2227-4fea-b252-5e7012a226d2\",\"type\":\"ColumnDataSource\"},\"glyph\":{\"id\":\"c59b5d34-80f0-48be-8505-cc4809b3ff6a\",\"type\":\"Circle\"},\"hover_glyph\":null,\"muted_glyph\":null,\"nonselection_glyph\":{\"id\":\"53fd2cb1-3199-4dc5-a14b-fa1144f2cbe5\",\"type\":\"Circle\"},\"selection_glyph\":null,\"view\":{\"id\":\"d19e9983-0df5-4494-b8be-52835d59efd3\",\"type\":\"CDSView\"}},\"id\":\"ab000bc6-1b95-4c03-9597-741b22d255b6\",\"type\":\"GlyphRenderer\"},{\"attributes\":{},\"id\":\"98187f8f-0930-4bad-ac3a-f768b9327c72\",\"type\":\"LinearScale\"},{\"attributes\":{\"callback\":null},\"id\":\"6c2b43c1-3f31-4f1f-9a01-cf66761e8936\",\"type\":\"DataRange1d\"},{\"attributes\":{\"fill_alpha\":{\"value\":0.1},\"fill_color\":{\"value\":\"#1f77b4\"},\"line_alpha\":{\"value\":0.1},\"line_color\":{\"value\":\"#1f77b4\"},\"size\":{\"units\":\"screen\",\"value\":7},\"x\":{\"field\":\"x\"},\"y\":{\"field\":\"y\"}},\"id\":\"53fd2cb1-3199-4dc5-a14b-fa1144f2cbe5\",\"type\":\"Circle\"},{\"attributes\":{},\"id\":\"b9d5cc7c-eee6-4069-9d0f-059a55e042b8\",\"type\":\"LinearScale\"},{\"attributes\":{\"active_drag\":\"auto\",\"active_inspect\":\"auto\",\"active_scroll\":\"auto\",\"active_tap\":\"auto\",\"tools\":[{\"id\":\"6eaf824c-49a3-419b-bad8-e24e6a6274d0\",\"type\":\"HoverTool\"},{\"id\":\"3dc5372d-985a-4164-ae66-15e02ad9d7eb\",\"type\":\"PanTool\"},{\"id\":\"c91ad440-4592-456f-8c02-3090b9a90a19\",\"type\":\"WheelZoomTool\"},{\"id\":\"4767a318-9860-4fa7-a066-ab4570545fd9\",\"type\":\"ResetTool\"},{\"id\":\"33feb60b-db22-41c2-9a20-b1a211a70878\",\"type\":\"SaveTool\"}]},\"id\":\"2dc9e47d-1478-4135-9424-182302978fde\",\"type\":\"Toolbar\"},{\"attributes\":{\"axis_label\":\"k\",\"formatter\":{\"id\":\"678f560c-ba63-4702-b115-b75246f9b531\",\"type\":\"BasicTickFormatter\"},\"plot\":{\"id\":\"32b30251-fbbe-4cba-8bbd-734ea3f6885b\",\"subtype\":\"Figure\",\"type\":\"Plot\"},\"ticker\":{\"id\":\"c16a9a2c-b5a2-4f04-aebc-9c503842865c\",\"type\":\"BasicTicker\"}},\"id\":\"af4bb2f6-2e63-4f12-8b8f-fb2a1fab816a\",\"type\":\"LinearAxis\"},{\"attributes\":{},\"id\":\"c16a9a2c-b5a2-4f04-aebc-9c503842865c\",\"type\":\"BasicTicker\"},{\"attributes\":{\"plot\":{\"id\":\"32b30251-fbbe-4cba-8bbd-734ea3f6885b\",\"subtype\":\"Figure\",\"type\":\"Plot\"},\"ticker\":{\"id\":\"c16a9a2c-b5a2-4f04-aebc-9c503842865c\",\"type\":\"BasicTicker\"}},\"id\":\"b7e367f6-9a54-4b41-86ec-6785aa4f463c\",\"type\":\"Grid\"},{\"attributes\":{\"axis_label\":\"f(k,n,p)\",\"formatter\":{\"id\":\"e4b5231c-4614-4961-9dc8-e18df7c9c2fd\",\"type\":\"BasicTickFormatter\"},\"plot\":{\"id\":\"32b30251-fbbe-4cba-8bbd-734ea3f6885b\",\"subtype\":\"Figure\",\"type\":\"Plot\"},\"ticker\":{\"id\":\"3b3b4f5e-85d7-45df-b87d-bdbfc3f05db4\",\"type\":\"BasicTicker\"}},\"id\":\"a1190e9f-4d09-4365-ac13-a2468269dd57\",\"type\":\"LinearAxis\"},{\"attributes\":{},\"id\":\"3b3b4f5e-85d7-45df-b87d-bdbfc3f05db4\",\"type\":\"BasicTicker\"},{\"attributes\":{\"dimension\":1,\"plot\":{\"id\":\"32b30251-fbbe-4cba-8bbd-734ea3f6885b\",\"subtype\":\"Figure\",\"type\":\"Plot\"},\"ticker\":{\"id\":\"3b3b4f5e-85d7-45df-b87d-bdbfc3f05db4\",\"type\":\"BasicTicker\"}},\"id\":\"fe40058e-9672-4f57-abd6-be055c9470bd\",\"type\":\"Grid\"},{\"attributes\":{},\"id\":\"b5d4d400-f188-4537-8612-2f4854292936\",\"type\":\"PanTool\"},{\"attributes\":{\"callback\":null},\"id\":\"84dedb34-f55c-45c0-9576-d6ceb8079261\",\"type\":\"DataRange1d\"},{\"attributes\":{\"callback\":null,\"end\":1.05,\"start\":-0.05},\"id\":\"ca7bdd0a-19d4-41f8-bf28-9b2c87e76349\",\"type\":\"Range1d\"},{\"attributes\":{},\"id\":\"10669819-1dc6-40de-8d25-f593ae9fabc4\",\"type\":\"LinearScale\"},{\"attributes\":{},\"id\":\"9e9a13f1-ef47-4683-9b4e-5c6571bd2894\",\"type\":\"WheelZoomTool\"},{\"attributes\":{},\"id\":\"7ab1d250-bf62-4173-90d7-96a783f8755a\",\"type\":\"ResetTool\"},{\"attributes\":{},\"id\":\"b803bbcf-0e12-47c8-8367-a2d55764b364\",\"type\":\"SaveTool\"},{\"attributes\":{},\"id\":\"87c3e8f6-43d9-4fd5-bb4d-f804af4c5bc3\",\"type\":\"LinearScale\"},{\"attributes\":{\"callback\":null,\"column_names\":[\"x\",\"y\"],\"data\":{\"x\":{\"__ndarray__\":\"AAAAAAEAAAACAAAAAwAAAAQAAAAFAAAABgAAAAcAAAAIAAAACQAAAAoAAAALAAAADAAAAA0AAAAOAAAADwAAABAAAAARAAAAEgAAABMAAAAUAAAA\",\"dtype\":\"int32\",\"shape\":[21]},\"y\":{\"__ndarray__\":\"AAAAAAAAsD79///////zPvr/////vyc/+f/////PUT/0/////+xyP9f/////R44/8P/////soj8NAAAAAO2yPwAAAAAgwb4/9f///7+AxD/5////n43GP/X///+/gMQ/AAAAACDBvj8NAAAAAO2yP/D/////7KI/1/////9Hjj/0/////+xyP/n/////z1E/+v////+/Jz/9///////zPgAAAAAAALA+\",\"dtype\":\"float64\",\"shape\":[21]}}},\"id\":\"03fa540c-2227-4fea-b252-5e7012a226d2\",\"type\":\"ColumnDataSource\"},{\"attributes\":{\"plot\":{\"id\":\"e0f1fbad-4f1d-4748-b45f-96f5c0f212ed\",\"subtype\":\"Figure\",\"type\":\"Plot\"},\"ticker\":{\"id\":\"655d46a5-6e4d-4105-aa69-62ebc7c8c168\",\"type\":\"BasicTicker\"}},\"id\":\"af9e759d-3e9a-4670-98c7-2c3ebd0d13ed\",\"type\":\"Grid\"},{\"attributes\":{\"axis_label\":\"k\",\"formatter\":{\"id\":\"51d57add-95fb-4e09-b0fa-8c969abf5577\",\"type\":\"BasicTickFormatter\"},\"plot\":{\"id\":\"e0f1fbad-4f1d-4748-b45f-96f5c0f212ed\",\"subtype\":\"Figure\",\"type\":\"Plot\"},\"ticker\":{\"id\":\"655d46a5-6e4d-4105-aa69-62ebc7c8c168\",\"type\":\"BasicTicker\"}},\"id\":\"386227b5-fb56-4337-b03d-87c6bc9ef6f0\",\"type\":\"LinearAxis\"},{\"attributes\":{},\"id\":\"655d46a5-6e4d-4105-aa69-62ebc7c8c168\",\"type\":\"BasicTicker\"},{\"attributes\":{\"axis_label\":\"F(k,n,p)\",\"formatter\":{\"id\":\"36774e9b-20b5-4d8c-8062-d98dc781dbb6\",\"type\":\"BasicTickFormatter\"},\"plot\":{\"id\":\"e0f1fbad-4f1d-4748-b45f-96f5c0f212ed\",\"subtype\":\"Figure\",\"type\":\"Plot\"},\"ticker\":{\"id\":\"7c7ef721-f24e-424d-89a0-4da22a33f6ab\",\"type\":\"BasicTicker\"}},\"id\":\"a74eb521-cfe5-4703-9773-ef3289fcabad\",\"type\":\"LinearAxis\"},{\"attributes\":{},\"id\":\"7c7ef721-f24e-424d-89a0-4da22a33f6ab\",\"type\":\"BasicTicker\"},{\"attributes\":{\"dimension\":1,\"plot\":{\"id\":\"e0f1fbad-4f1d-4748-b45f-96f5c0f212ed\",\"subtype\":\"Figure\",\"type\":\"Plot\"},\"ticker\":{\"id\":\"7c7ef721-f24e-424d-89a0-4da22a33f6ab\",\"type\":\"BasicTicker\"}},\"id\":\"af81b8f9-9c09-4ea0-8356-7eb66ace8d60\",\"type\":\"Grid\"},{\"attributes\":{},\"id\":\"3dc5372d-985a-4164-ae66-15e02ad9d7eb\",\"type\":\"PanTool\"},{\"attributes\":{},\"id\":\"c91ad440-4592-456f-8c02-3090b9a90a19\",\"type\":\"WheelZoomTool\"},{\"attributes\":{},\"id\":\"4767a318-9860-4fa7-a066-ab4570545fd9\",\"type\":\"ResetTool\"},{\"attributes\":{},\"id\":\"33feb60b-db22-41c2-9a20-b1a211a70878\",\"type\":\"SaveTool\"},{\"attributes\":{},\"id\":\"e4b5231c-4614-4961-9dc8-e18df7c9c2fd\",\"type\":\"BasicTickFormatter\"},{\"attributes\":{\"click_policy\":\"hide\",\"items\":[{\"id\":\"19451dd2-4b2a-4a43-a78c-174dde3510dc\",\"type\":\"LegendItem\"},{\"id\":\"a696358d-2525-4fe7-9fdd-d379719a5193\",\"type\":\"LegendItem\"}],\"location\":\"top_left\",\"plot\":{\"id\":\"32b30251-fbbe-4cba-8bbd-734ea3f6885b\",\"subtype\":\"Figure\",\"type\":\"Plot\"}},\"id\":\"246e000f-e296-4609-a447-b57191cb75c2\",\"type\":\"Legend\"},{\"attributes\":{\"data_source\":{\"id\":\"0c640276-c651-4235-aeca-4957d8e06d3c\",\"type\":\"ColumnDataSource\"},\"glyph\":{\"id\":\"aa98af80-0414-4f26-a967-6dce54d387dc\",\"type\":\"Circle\"},\"hover_glyph\":null,\"muted_glyph\":null,\"nonselection_glyph\":{\"id\":\"e2d0f6b6-da99-4ddd-88d1-38d2b21ff1d9\",\"type\":\"Circle\"},\"selection_glyph\":null,\"view\":{\"id\":\"d3e1a32f-ea56-4bee-9b9d-5182d1c55c7c\",\"type\":\"CDSView\"}},\"id\":\"4fd7aa21-3cc6-4ab4-8181-80829919cb86\",\"type\":\"GlyphRenderer\"},{\"attributes\":{\"label\":{\"value\":\"n=20,p=0.50\"},\"renderers\":[{\"id\":\"ab000bc6-1b95-4c03-9597-741b22d255b6\",\"type\":\"GlyphRenderer\"},{\"id\":\"bb254713-d57e-4ce5-a4f7-cc130009b7c0\",\"type\":\"GlyphRenderer\"}]},\"id\":\"19451dd2-4b2a-4a43-a78c-174dde3510dc\",\"type\":\"LegendItem\"},{\"attributes\":{\"plot\":null,\"text\":\"Binomial Distribution\"},\"id\":\"73b4feeb-f212-49c7-8dfe-b619b9b40080\",\"type\":\"Title\"},{\"attributes\":{\"callback\":null,\"column_names\":[\"x\",\"y\"],\"data\":{\"x\":{\"__ndarray__\":\"AAAAAAEAAAACAAAAAwAAAAQAAAAFAAAABgAAAAcAAAAIAAAACQAAAAoAAAALAAAADAAAAA0AAAAOAAAADwAAABAAAAARAAAAEgAAABMAAAAUAAAA\",\"dtype\":\"int32\",\"shape\":[21]},\"y\":{\"__ndarray__\":\"L2BteTYrwz2bgb8bWvQbPsr9jcBDXWM+AT58SJvxoD6FVy8n0wDVPnMeG61emgM/ETdyvHSWLD/eSu1tGa1QP4uIvDWAnW8/avjn8PGWiD9TB39Kg46fPz4XLFIPvLA/vCjNzxpJvT/q9T1niQbFP2pJyE2gh8g/wohUBPzkxj8Y+dJtorHAP50lZUaeVLI/oQFI36CDnD8LIYGTkAN8P8kNAd91JUo/\",\"dtype\":\"float64\",\"shape\":[21]}}},\"id\":\"2eba1223-193b-4375-a7ab-b3eee1735e92\",\"type\":\"ColumnDataSource\"},{\"attributes\":{\"fill_color\":{\"value\":\"red\"},\"line_color\":{\"value\":\"red\"},\"size\":{\"units\":\"screen\",\"value\":7},\"x\":{\"field\":\"x\"},\"y\":{\"field\":\"y\"}},\"id\":\"edfff12d-d36b-4f33-b69b-0f0452c80ac6\",\"type\":\"Circle\"},{\"attributes\":{\"line_color\":{\"value\":\"dodgerblue\"},\"line_width\":{\"value\":3},\"x0\":{\"field\":\"x0\"},\"x1\":{\"field\":\"x1\"},\"y0\":{\"value\":0},\"y1\":{\"field\":\"y1\"}},\"id\":\"0cc337ad-b812-455d-93fa-57a37e75bd70\",\"type\":\"Segment\"},{\"attributes\":{\"fill_color\":{\"value\":\"dodgerblue\"},\"line_color\":{\"value\":\"dodgerblue\"},\"size\":{\"units\":\"screen\",\"value\":7},\"x\":{\"field\":\"x\"},\"y\":{\"field\":\"y\"}},\"id\":\"c59b5d34-80f0-48be-8505-cc4809b3ff6a\",\"type\":\"Circle\"},{\"attributes\":{\"fill_color\":{\"value\":\"dodgerblue\"},\"line_color\":{\"value\":\"dodgerblue\"},\"size\":{\"units\":\"screen\",\"value\":7},\"x\":{\"field\":\"x\"},\"y\":{\"field\":\"y\"}},\"id\":\"fd20659c-e2c9-4a1c-b68a-f5a967ed2a53\",\"type\":\"Circle\"},{\"attributes\":{\"line_alpha\":{\"value\":0.1},\"line_color\":{\"value\":\"#1f77b4\"},\"line_width\":{\"value\":3},\"x0\":{\"field\":\"x0\"},\"x1\":{\"field\":\"x1\"},\"y0\":{\"value\":0},\"y1\":{\"field\":\"y1\"}},\"id\":\"8741304c-8e8c-4a40-9db7-3a119c3aa534\",\"type\":\"Segment\"},{\"attributes\":{\"fill_alpha\":{\"value\":0.1},\"fill_color\":{\"value\":\"#1f77b4\"},\"line_alpha\":{\"value\":0.1},\"line_color\":{\"value\":\"#1f77b4\"},\"size\":{\"units\":\"screen\",\"value\":7},\"x\":{\"field\":\"x\"},\"y\":{\"field\":\"y\"}},\"id\":\"57a276bb-c5c1-42f1-ae53-c402016a6506\",\"type\":\"Circle\"},{\"attributes\":{\"data_source\":{\"id\":\"a8ede5fa-638f-420c-8f0a-c4ce16bdbba5\",\"type\":\"ColumnDataSource\"},\"glyph\":{\"id\":\"0cc337ad-b812-455d-93fa-57a37e75bd70\",\"type\":\"Segment\"},\"hover_glyph\":null,\"muted_glyph\":null,\"nonselection_glyph\":{\"id\":\"8741304c-8e8c-4a40-9db7-3a119c3aa534\",\"type\":\"Segment\"},\"selection_glyph\":null,\"view\":{\"id\":\"7f8d52fa-6572-4799-b4b6-5dbc1866171a\",\"type\":\"CDSView\"}},\"id\":\"bb254713-d57e-4ce5-a4f7-cc130009b7c0\",\"type\":\"GlyphRenderer\"},{\"attributes\":{},\"id\":\"678f560c-ba63-4702-b115-b75246f9b531\",\"type\":\"BasicTickFormatter\"},{\"attributes\":{\"line_color\":{\"value\":\"red\"},\"line_width\":{\"value\":3},\"x0\":{\"field\":\"x0\"},\"x1\":{\"field\":\"x1\"},\"y0\":{\"value\":0},\"y1\":{\"field\":\"y1\"}},\"id\":\"cd533b6f-a608-4e74-9c43-731b94451194\",\"type\":\"Segment\"},{\"attributes\":{\"source\":{\"id\":\"03fa540c-2227-4fea-b252-5e7012a226d2\",\"type\":\"ColumnDataSource\"}},\"id\":\"d19e9983-0df5-4494-b8be-52835d59efd3\",\"type\":\"CDSView\"},{\"attributes\":{\"source\":{\"id\":\"2eba1223-193b-4375-a7ab-b3eee1735e92\",\"type\":\"ColumnDataSource\"}},\"id\":\"019e429e-7a8e-4ec7-8a50-0be9fe6accf4\",\"type\":\"CDSView\"},{\"attributes\":{\"source\":{\"id\":\"a8ede5fa-638f-420c-8f0a-c4ce16bdbba5\",\"type\":\"ColumnDataSource\"}},\"id\":\"7f8d52fa-6572-4799-b4b6-5dbc1866171a\",\"type\":\"CDSView\"},{\"attributes\":{\"data_source\":{\"id\":\"e48a75ba-e6f2-4abe-913c-e8a17d5e847d\",\"type\":\"ColumnDataSource\"},\"glyph\":{\"id\":\"cd533b6f-a608-4e74-9c43-731b94451194\",\"type\":\"Segment\"},\"hover_glyph\":null,\"muted_glyph\":null,\"nonselection_glyph\":{\"id\":\"3a9ed5ae-3c56-4408-8368-edf6949c3d79\",\"type\":\"Segment\"},\"selection_glyph\":null,\"view\":{\"id\":\"4ddc23e9-fbf8-46e5-b58e-1630711a3cc5\",\"type\":\"CDSView\"}},\"id\":\"61ba0308-74f1-42d0-b388-41d115824207\",\"type\":\"GlyphRenderer\"},{\"attributes\":{\"data_source\":{\"id\":\"2eba1223-193b-4375-a7ab-b3eee1735e92\",\"type\":\"ColumnDataSource\"},\"glyph\":{\"id\":\"edfff12d-d36b-4f33-b69b-0f0452c80ac6\",\"type\":\"Circle\"},\"hover_glyph\":null,\"muted_glyph\":null,\"nonselection_glyph\":{\"id\":\"57a276bb-c5c1-42f1-ae53-c402016a6506\",\"type\":\"Circle\"},\"selection_glyph\":null,\"view\":{\"id\":\"019e429e-7a8e-4ec7-8a50-0be9fe6accf4\",\"type\":\"CDSView\"}},\"id\":\"8682641c-1058-4930-b119-25fda54fb90f\",\"type\":\"GlyphRenderer\"},{\"attributes\":{\"label\":{\"value\":\"n=20,p=0.70\"},\"renderers\":[{\"id\":\"8682641c-1058-4930-b119-25fda54fb90f\",\"type\":\"GlyphRenderer\"},{\"id\":\"61ba0308-74f1-42d0-b388-41d115824207\",\"type\":\"GlyphRenderer\"}]},\"id\":\"a696358d-2525-4fe7-9fdd-d379719a5193\",\"type\":\"LegendItem\"},{\"attributes\":{\"fill_alpha\":{\"value\":0.1},\"fill_color\":{\"value\":\"#1f77b4\"},\"line_alpha\":{\"value\":0.1},\"line_color\":{\"value\":\"#1f77b4\"},\"size\":{\"units\":\"screen\",\"value\":7},\"x\":{\"field\":\"x\"},\"y\":{\"field\":\"y\"}},\"id\":\"a6a671da-8c97-4a95-8b27-66abe12a8438\",\"type\":\"Circle\"},{\"attributes\":{\"callback\":null,\"column_names\":[\"x\",\"y\"],\"data\":{\"x\":{\"__ndarray__\":\"AAAAAAEAAAACAAAAAwAAAAQAAAAFAAAABgAAAAcAAAAIAAAACQAAAAoAAAALAAAADAAAAA0AAAAOAAAADwAAABAAAAARAAAAEgAAABMAAAAUAAAA\",\"dtype\":\"int32\",\"shape\":[21]},\"y\":{\"__ndarray__\":\"AAAAAAAAsD7////////0PgIAAAAAYCo///////8bVT///////zN4PwAAAAAAMZU//f///3+FrT//////39fAPwEAAAA4HNA/+////5dc2j8CAAAAtNHiPwAAAADk8ec/AAAAAAjK6z8AAAAAqCfuPwAAAAB4Vu8/AAAAAJjP7z8AAAAAcvXvPwAAAABa/u8/AAAAANb/7z8AAAAA/v/vPwAAAAAAAPA/\",\"dtype\":\"float64\",\"shape\":[21]}}},\"id\":\"edbceeee-56ce-4651-91bd-87b25611632d\",\"type\":\"ColumnDataSource\"},{\"attributes\":{\"data_source\":{\"id\":\"edbceeee-56ce-4651-91bd-87b25611632d\",\"type\":\"ColumnDataSource\"},\"glyph\":{\"id\":\"fd20659c-e2c9-4a1c-b68a-f5a967ed2a53\",\"type\":\"Circle\"},\"hover_glyph\":null,\"muted_glyph\":null,\"nonselection_glyph\":{\"id\":\"a6a671da-8c97-4a95-8b27-66abe12a8438\",\"type\":\"Circle\"},\"selection_glyph\":null,\"view\":{\"id\":\"0c7c88f4-1b75-4fd5-a76e-32b7adfdb3f3\",\"type\":\"CDSView\"}},\"id\":\"2f7aa509-44e4-4e30-abc0-9d4c87dab245\",\"type\":\"GlyphRenderer\"},{\"attributes\":{\"source\":{\"id\":\"edbceeee-56ce-4651-91bd-87b25611632d\",\"type\":\"ColumnDataSource\"}},\"id\":\"0c7c88f4-1b75-4fd5-a76e-32b7adfdb3f3\",\"type\":\"CDSView\"},{\"attributes\":{\"line_alpha\":{\"value\":0.1},\"line_color\":{\"value\":\"#1f77b4\"},\"line_width\":{\"value\":3},\"x0\":{\"field\":\"x0\"},\"x1\":{\"field\":\"x1\"},\"y0\":{\"value\":0},\"y1\":{\"field\":\"y1\"}},\"id\":\"3a9ed5ae-3c56-4408-8368-edf6949c3d79\",\"type\":\"Segment\"},{\"attributes\":{\"source\":{\"id\":\"e48a75ba-e6f2-4abe-913c-e8a17d5e847d\",\"type\":\"ColumnDataSource\"}},\"id\":\"4ddc23e9-fbf8-46e5-b58e-1630711a3cc5\",\"type\":\"CDSView\"},{\"attributes\":{},\"id\":\"51d57add-95fb-4e09-b0fa-8c969abf5577\",\"type\":\"BasicTickFormatter\"},{\"attributes\":{\"fill_color\":{\"value\":\"red\"},\"line_color\":{\"value\":\"red\"},\"size\":{\"units\":\"screen\",\"value\":7},\"x\":{\"field\":\"x\"},\"y\":{\"field\":\"y\"}},\"id\":\"aa98af80-0414-4f26-a967-6dce54d387dc\",\"type\":\"Circle\"},{\"attributes\":{\"plot\":null,\"text\":\"\"},\"id\":\"eb5b356b-09b8-480b-b24d-d4bc66dfff3d\",\"type\":\"Title\"},{\"attributes\":{\"below\":[{\"id\":\"af4bb2f6-2e63-4f12-8b8f-fb2a1fab816a\",\"type\":\"LinearAxis\"}],\"left\":[{\"id\":\"a1190e9f-4d09-4365-ac13-a2468269dd57\",\"type\":\"LinearAxis\"}],\"plot_height\":300,\"plot_width\":400,\"renderers\":[{\"id\":\"af4bb2f6-2e63-4f12-8b8f-fb2a1fab816a\",\"type\":\"LinearAxis\"},{\"id\":\"b7e367f6-9a54-4b41-86ec-6785aa4f463c\",\"type\":\"Grid\"},{\"id\":\"a1190e9f-4d09-4365-ac13-a2468269dd57\",\"type\":\"LinearAxis\"},{\"id\":\"fe40058e-9672-4f57-abd6-be055c9470bd\",\"type\":\"Grid\"},{\"id\":\"246e000f-e296-4609-a447-b57191cb75c2\",\"type\":\"Legend\"},{\"id\":\"ab000bc6-1b95-4c03-9597-741b22d255b6\",\"type\":\"GlyphRenderer\"},{\"id\":\"bb254713-d57e-4ce5-a4f7-cc130009b7c0\",\"type\":\"GlyphRenderer\"},{\"id\":\"8682641c-1058-4930-b119-25fda54fb90f\",\"type\":\"GlyphRenderer\"},{\"id\":\"61ba0308-74f1-42d0-b388-41d115824207\",\"type\":\"GlyphRenderer\"}],\"title\":{\"id\":\"73b4feeb-f212-49c7-8dfe-b619b9b40080\",\"type\":\"Title\"},\"toolbar\":{\"id\":\"91a62d1b-fce1-4362-81ab-b121bf0ddb8b\",\"type\":\"Toolbar\"},\"x_range\":{\"id\":\"84dedb34-f55c-45c0-9576-d6ceb8079261\",\"type\":\"DataRange1d\"},\"x_scale\":{\"id\":\"98187f8f-0930-4bad-ac3a-f768b9327c72\",\"type\":\"LinearScale\"},\"y_range\":{\"id\":\"6c2b43c1-3f31-4f1f-9a01-cf66761e8936\",\"type\":\"DataRange1d\"},\"y_scale\":{\"id\":\"b9d5cc7c-eee6-4069-9d0f-059a55e042b8\",\"type\":\"LinearScale\"}},\"id\":\"32b30251-fbbe-4cba-8bbd-734ea3f6885b\",\"subtype\":\"Figure\",\"type\":\"Plot\"},{\"attributes\":{},\"id\":\"36774e9b-20b5-4d8c-8062-d98dc781dbb6\",\"type\":\"BasicTickFormatter\"},{\"attributes\":{\"fill_alpha\":{\"value\":0.1},\"fill_color\":{\"value\":\"#1f77b4\"},\"line_alpha\":{\"value\":0.1},\"line_color\":{\"value\":\"#1f77b4\"},\"size\":{\"units\":\"screen\",\"value\":7},\"x\":{\"field\":\"x\"},\"y\":{\"field\":\"y\"}},\"id\":\"e2d0f6b6-da99-4ddd-88d1-38d2b21ff1d9\",\"type\":\"Circle\"},{\"attributes\":{\"callback\":null,\"column_names\":[\"x0\",\"x1\",\"y1\"],\"data\":{\"x0\":{\"__ndarray__\":\"AAAAAAEAAAACAAAAAwAAAAQAAAAFAAAABgAAAAcAAAAIAAAACQAAAAoAAAALAAAADAAAAA0AAAAOAAAADwAAABAAAAARAAAAEgAAABMAAAAUAAAA\",\"dtype\":\"int32\",\"shape\":[21]},\"x1\":{\"__ndarray__\":\"AAAAAAEAAAACAAAAAwAAAAQAAAAFAAAABgAAAAcAAAAIAAAACQAAAAoAAAALAAAADAAAAA0AAAAOAAAADwAAABAAAAARAAAAEgAAABMAAAAUAAAA\",\"dtype\":\"int32\",\"shape\":[21]},\"y1\":{\"__ndarray__\":\"L2BteTYrwz2bgb8bWvQbPsr9jcBDXWM+AT58SJvxoD6FVy8n0wDVPnMeG61emgM/ETdyvHSWLD/eSu1tGa1QP4uIvDWAnW8/avjn8PGWiD9TB39Kg46fPz4XLFIPvLA/vCjNzxpJvT/q9T1niQbFP2pJyE2gh8g/wohUBPzkxj8Y+dJtorHAP50lZUaeVLI/oQFI36CDnD8LIYGTkAN8P8kNAd91JUo/\",\"dtype\":\"float64\",\"shape\":[21]}}},\"id\":\"e48a75ba-e6f2-4abe-913c-e8a17d5e847d\",\"type\":\"ColumnDataSource\"},{\"attributes\":{\"source\":{\"id\":\"0c640276-c651-4235-aeca-4957d8e06d3c\",\"type\":\"ColumnDataSource\"}},\"id\":\"d3e1a32f-ea56-4bee-9b9d-5182d1c55c7c\",\"type\":\"CDSView\"},{\"attributes\":{\"below\":[{\"id\":\"386227b5-fb56-4337-b03d-87c6bc9ef6f0\",\"type\":\"LinearAxis\"}],\"left\":[{\"id\":\"a74eb521-cfe5-4703-9773-ef3289fcabad\",\"type\":\"LinearAxis\"}],\"plot_height\":300,\"plot_width\":400,\"renderers\":[{\"id\":\"386227b5-fb56-4337-b03d-87c6bc9ef6f0\",\"type\":\"LinearAxis\"},{\"id\":\"af9e759d-3e9a-4670-98c7-2c3ebd0d13ed\",\"type\":\"Grid\"},{\"id\":\"a74eb521-cfe5-4703-9773-ef3289fcabad\",\"type\":\"LinearAxis\"},{\"id\":\"af81b8f9-9c09-4ea0-8356-7eb66ace8d60\",\"type\":\"Grid\"},{\"id\":\"2f7aa509-44e4-4e30-abc0-9d4c87dab245\",\"type\":\"GlyphRenderer\"},{\"id\":\"4fd7aa21-3cc6-4ab4-8181-80829919cb86\",\"type\":\"GlyphRenderer\"}],\"title\":{\"id\":\"eb5b356b-09b8-480b-b24d-d4bc66dfff3d\",\"type\":\"Title\"},\"toolbar\":{\"id\":\"2dc9e47d-1478-4135-9424-182302978fde\",\"type\":\"Toolbar\"},\"x_range\":{\"id\":\"84dedb34-f55c-45c0-9576-d6ceb8079261\",\"type\":\"DataRange1d\"},\"x_scale\":{\"id\":\"10669819-1dc6-40de-8d25-f593ae9fabc4\",\"type\":\"LinearScale\"},\"y_range\":{\"id\":\"ca7bdd0a-19d4-41f8-bf28-9b2c87e76349\",\"type\":\"Range1d\"},\"y_scale\":{\"id\":\"87c3e8f6-43d9-4fd5-bb4d-f804af4c5bc3\",\"type\":\"LinearScale\"}},\"id\":\"e0f1fbad-4f1d-4748-b45f-96f5c0f212ed\",\"subtype\":\"Figure\",\"type\":\"Plot\"},{\"attributes\":{\"callback\":null,\"column_names\":[\"x\",\"y\"],\"data\":{\"x\":{\"__ndarray__\":\"AAAAAAEAAAACAAAAAwAAAAQAAAAFAAAABgAAAAcAAAAIAAAACQAAAAoAAAALAAAADAAAAA0AAAAOAAAADwAAABAAAAARAAAAEgAAABMAAAAUAAAA\",\"dtype\":\"int32\",\"shape\":[21]},\"y\":{\"__ndarray__\":\"NWBteTYrwz2i7IrPs40cPi5VCl+xQWQ+YeNsXrY1oj4B9PzyiUfXPgu9eutPgwY/QnOoW6QbMT+sZ9eEAvRUPzgeFLzAC3U/yQN5J2mOkT+XBfw4do6oPxMaqm5KA70/a6E7nzImzT+uyzwDXhbZPzR4EBUXreI/bpolFlZm6D+6WJqxvpLsP239ZnpS3e4/ej1hgW/B7z+9P4iidvnvPwAAAAAAAPA/\",\"dtype\":\"float64\",\"shape\":[21]}}},\"id\":\"0c640276-c651-4235-aeca-4957d8e06d3c\",\"type\":\"ColumnDataSource\"},{\"attributes\":{\"callback\":null,\"tooltips\":[[\"\",\"$y\"]]},\"id\":\"6eaf824c-49a3-419b-bad8-e24e6a6274d0\",\"type\":\"HoverTool\"},{\"attributes\":{\"callback\":null,\"column_names\":[\"x0\",\"x1\",\"y1\"],\"data\":{\"x0\":{\"__ndarray__\":\"AAAAAAEAAAACAAAAAwAAAAQAAAAFAAAABgAAAAcAAAAIAAAACQAAAAoAAAALAAAADAAAAA0AAAAOAAAADwAAABAAAAARAAAAEgAAABMAAAAUAAAA\",\"dtype\":\"int32\",\"shape\":[21]},\"x1\":{\"__ndarray__\":\"AAAAAAEAAAACAAAAAwAAAAQAAAAFAAAABgAAAAcAAAAIAAAACQAAAAoAAAALAAAADAAAAA0AAAAOAAAADwAAABAAAAARAAAAEgAAABMAAAAUAAAA\",\"dtype\":\"int32\",\"shape\":[21]},\"y1\":{\"__ndarray__\":\"AAAAAAAAsD79///////zPvr/////vyc/+f/////PUT/0/////+xyP9f/////R44/8P/////soj8NAAAAAO2yPwAAAAAgwb4/9f///7+AxD/5////n43GP/X///+/gMQ/AAAAACDBvj8NAAAAAO2yP/D/////7KI/1/////9Hjj/0/////+xyP/n/////z1E/+v////+/Jz/9///////zPgAAAAAAALA+\",\"dtype\":\"float64\",\"shape\":[21]}}},\"id\":\"a8ede5fa-638f-420c-8f0a-c4ce16bdbba5\",\"type\":\"ColumnDataSource\"},{\"attributes\":{\"children\":[{\"id\":\"32b30251-fbbe-4cba-8bbd-734ea3f6885b\",\"subtype\":\"Figure\",\"type\":\"Plot\"},{\"id\":\"e0f1fbad-4f1d-4748-b45f-96f5c0f212ed\",\"subtype\":\"Figure\",\"type\":\"Plot\"}]},\"id\":\"24ab704d-c18f-44ff-a2bb-69be5add3e1c\",\"type\":\"Row\"}],\"root_ids\":[\"24ab704d-c18f-44ff-a2bb-69be5add3e1c\"]},\"title\":\"Bokeh Application\",\"version\":\"0.12.13\"}};\n",
       "  var render_items = [{\"docid\":\"20c3fe38-97b6-4466-8f89-6fba35ad5cc1\",\"elementid\":\"40298b88-7a65-42ec-abbf-2a7f7d317c98\",\"modelid\":\"24ab704d-c18f-44ff-a2bb-69be5add3e1c\"}];\n",
       "  root.Bokeh.embed.embed_items_notebook(docs_json, render_items);\n",
       "\n",
       "  }\n",
       "  if (root.Bokeh !== undefined) {\n",
       "    embed_document(root);\n",
       "  } else {\n",
       "    var attempts = 0;\n",
       "    var timer = setInterval(function(root) {\n",
       "      if (root.Bokeh !== undefined) {\n",
       "        embed_document(root);\n",
       "        clearInterval(timer);\n",
       "      }\n",
       "      attempts++;\n",
       "      if (attempts > 100) {\n",
       "        console.log(\"Bokeh: ERROR: Unable to run BokehJS code because BokehJS library is missing\")\n",
       "        clearInterval(timer);\n",
       "      }\n",
       "    }, 10, root)\n",
       "  }\n",
       "})(window);"
      ],
      "application/vnd.bokehjs_exec.v0+json": ""
     },
     "metadata": {
      "application/vnd.bokehjs_exec.v0+json": {
       "id": "24ab704d-c18f-44ff-a2bb-69be5add3e1c"
      }
     },
     "output_type": "display_data"
    }
   ],
   "source": [
    "k = np.arange(21)\n",
    "n = 20\n",
    "p1 = 0.50\n",
    "p2 = 0.70\n",
    "\n",
    "# Tools for plots\n",
    "tools='pan,wheel_zoom,reset,save'\n",
    "\n",
    "# Set up plots\n",
    "fig_1 = Figure(width=400, height=300, tools=tools, title=\"Binomial Distribution\")\n",
    "fig_2 = Figure(width=400, height=300, tools=[tools,HoverTool(tooltips=[\n",
    "                (\"\", \"$y\")\n",
    "                ])], \n",
    "               y_range=[-0.05, 1.05])\n",
    "\n",
    "fig_1.xaxis.axis_label = 'k'\n",
    "fig_1.yaxis.axis_label = 'f(k,n,p)' \n",
    "\n",
    "fig_2.xaxis.axis_label = 'k'\n",
    "fig_2.yaxis.axis_label = 'F(k,n,p)'\n",
    "\n",
    "# Figure #1\n",
    "y1 = binom.pmf(k,n,p1)\n",
    "fig_1.circle(k, y1, size=7, color='dodgerblue',legend=\"n=20,p=0.50\")\n",
    "fig_1.segment(x0=k, x1=k, y0=0, y1=y1, line_width=3, \n",
    "              color='dodgerblue', legend=\"n=20,p=0.50\")\n",
    "\n",
    "y2 = binom.pmf(k,n,p2)\n",
    "fig_1.circle(k, y2, size=7, color='red',legend=\"n=20,p=0.70\")\n",
    "fig_1.segment(x0=k, x1=k, y0=0, y1=y2, line_width=3, \n",
    "              color='red', legend=\"n=20,p=0.70\")\n",
    "\n",
    "fig_1.legend.location = \"top_left\"\n",
    "fig_1.legend.click_policy=\"hide\"\n",
    "\n",
    "#Figure #2\n",
    "y3 = binom.cdf(k,n,p1)\n",
    "fig_2.circle(k, y3, size=7, color='dodgerblue')\n",
    "\n",
    "y4 = binom.cdf(k,n,p2)\n",
    "fig_2.circle(k, y4, size=7, color='red')\n",
    "\n",
    "# Link the x-axes\n",
    "fig_1.x_range = fig_2.x_range\n",
    "\n",
    "\n",
    "show(row([fig_1, fig_2]))"
   ]
  },
  {
   "cell_type": "markdown",
   "metadata": {},
   "source": [
    "In this example, we'll construct probability distributions. But first, let's look at the dataset we'll be using.\n",
    "\n",
    "In many countries, there are bikesharing programs where anyone can rent a bike from a depot, and return it at other depots throughout a city. There is one such program in Washington, D.C., in the US. We'll be looking at the number of bikes that were rented by day. Here are the relevant columns:\n",
    "\n",
    "- <span style=\"background-color: #F9EBEA; color:##C0392B\">dteday</span> the date that we're looking at.\n",
    "- <span style=\"background-color: #F9EBEA; color:##C0392B\">cnt</span> the total number of bikes rented.\n",
    "\n",
    "This data was collected by <span style=\"background-color: #F9EBEA; color:##C0392B\">Hadi Fanaee-T</span> at the <span style=\"background-color: #F9EBEA; color:##C0392B\">University of Porto</span>, and can be downloaded [here](http://archive.ics.uci.edu/ml/datasets/Bike+Sharing+Dataset)."
   ]
  },
  {
   "cell_type": "code",
   "execution_count": 10,
   "metadata": {
    "scrolled": true
   },
   "outputs": [
    {
     "data": {
      "text/html": [
       "<div>\n",
       "<style scoped>\n",
       "    .dataframe tbody tr th:only-of-type {\n",
       "        vertical-align: middle;\n",
       "    }\n",
       "\n",
       "    .dataframe tbody tr th {\n",
       "        vertical-align: top;\n",
       "    }\n",
       "\n",
       "    .dataframe thead th {\n",
       "        text-align: right;\n",
       "    }\n",
       "</style>\n",
       "<table border=\"1\" class=\"dataframe\">\n",
       "  <thead>\n",
       "    <tr style=\"text-align: right;\">\n",
       "      <th></th>\n",
       "      <th>instant</th>\n",
       "      <th>dteday</th>\n",
       "      <th>season</th>\n",
       "      <th>yr</th>\n",
       "      <th>mnth</th>\n",
       "      <th>holiday</th>\n",
       "      <th>weekday</th>\n",
       "      <th>workingday</th>\n",
       "      <th>weathersit</th>\n",
       "      <th>temp</th>\n",
       "      <th>atemp</th>\n",
       "      <th>hum</th>\n",
       "      <th>windspeed</th>\n",
       "      <th>casual</th>\n",
       "      <th>registered</th>\n",
       "      <th>cnt</th>\n",
       "    </tr>\n",
       "  </thead>\n",
       "  <tbody>\n",
       "    <tr>\n",
       "      <th>0</th>\n",
       "      <td>1</td>\n",
       "      <td>2011-01-01</td>\n",
       "      <td>1</td>\n",
       "      <td>0</td>\n",
       "      <td>1</td>\n",
       "      <td>0</td>\n",
       "      <td>6</td>\n",
       "      <td>0</td>\n",
       "      <td>2</td>\n",
       "      <td>0.344167</td>\n",
       "      <td>0.363625</td>\n",
       "      <td>0.805833</td>\n",
       "      <td>0.160446</td>\n",
       "      <td>331</td>\n",
       "      <td>654</td>\n",
       "      <td>985</td>\n",
       "    </tr>\n",
       "    <tr>\n",
       "      <th>1</th>\n",
       "      <td>2</td>\n",
       "      <td>2011-01-02</td>\n",
       "      <td>1</td>\n",
       "      <td>0</td>\n",
       "      <td>1</td>\n",
       "      <td>0</td>\n",
       "      <td>0</td>\n",
       "      <td>0</td>\n",
       "      <td>2</td>\n",
       "      <td>0.363478</td>\n",
       "      <td>0.353739</td>\n",
       "      <td>0.696087</td>\n",
       "      <td>0.248539</td>\n",
       "      <td>131</td>\n",
       "      <td>670</td>\n",
       "      <td>801</td>\n",
       "    </tr>\n",
       "    <tr>\n",
       "      <th>2</th>\n",
       "      <td>3</td>\n",
       "      <td>2011-01-03</td>\n",
       "      <td>1</td>\n",
       "      <td>0</td>\n",
       "      <td>1</td>\n",
       "      <td>0</td>\n",
       "      <td>1</td>\n",
       "      <td>1</td>\n",
       "      <td>1</td>\n",
       "      <td>0.196364</td>\n",
       "      <td>0.189405</td>\n",
       "      <td>0.437273</td>\n",
       "      <td>0.248309</td>\n",
       "      <td>120</td>\n",
       "      <td>1229</td>\n",
       "      <td>1349</td>\n",
       "    </tr>\n",
       "    <tr>\n",
       "      <th>3</th>\n",
       "      <td>4</td>\n",
       "      <td>2011-01-04</td>\n",
       "      <td>1</td>\n",
       "      <td>0</td>\n",
       "      <td>1</td>\n",
       "      <td>0</td>\n",
       "      <td>2</td>\n",
       "      <td>1</td>\n",
       "      <td>1</td>\n",
       "      <td>0.200000</td>\n",
       "      <td>0.212122</td>\n",
       "      <td>0.590435</td>\n",
       "      <td>0.160296</td>\n",
       "      <td>108</td>\n",
       "      <td>1454</td>\n",
       "      <td>1562</td>\n",
       "    </tr>\n",
       "    <tr>\n",
       "      <th>4</th>\n",
       "      <td>5</td>\n",
       "      <td>2011-01-05</td>\n",
       "      <td>1</td>\n",
       "      <td>0</td>\n",
       "      <td>1</td>\n",
       "      <td>0</td>\n",
       "      <td>3</td>\n",
       "      <td>1</td>\n",
       "      <td>1</td>\n",
       "      <td>0.226957</td>\n",
       "      <td>0.229270</td>\n",
       "      <td>0.436957</td>\n",
       "      <td>0.186900</td>\n",
       "      <td>82</td>\n",
       "      <td>1518</td>\n",
       "      <td>1600</td>\n",
       "    </tr>\n",
       "  </tbody>\n",
       "</table>\n",
       "</div>"
      ],
      "text/plain": [
       "   instant      dteday  season  yr  mnth  holiday  weekday  workingday  \\\n",
       "0        1  2011-01-01       1   0     1        0        6           0   \n",
       "1        2  2011-01-02       1   0     1        0        0           0   \n",
       "2        3  2011-01-03       1   0     1        0        1           1   \n",
       "3        4  2011-01-04       1   0     1        0        2           1   \n",
       "4        5  2011-01-05       1   0     1        0        3           1   \n",
       "\n",
       "   weathersit      temp     atemp       hum  windspeed  casual  registered  \\\n",
       "0           2  0.344167  0.363625  0.805833   0.160446     331         654   \n",
       "1           2  0.363478  0.353739  0.696087   0.248539     131         670   \n",
       "2           1  0.196364  0.189405  0.437273   0.248309     120        1229   \n",
       "3           1  0.200000  0.212122  0.590435   0.160296     108        1454   \n",
       "4           1  0.226957  0.229270  0.436957   0.186900      82        1518   \n",
       "\n",
       "    cnt  \n",
       "0   985  \n",
       "1   801  \n",
       "2  1349  \n",
       "3  1562  \n",
       "4  1600  "
      ]
     },
     "execution_count": 10,
     "metadata": {},
     "output_type": "execute_result"
    }
   ],
   "source": [
    "import pandas as pd\n",
    "bikes = pd.read_csv(\"bike_rental_day.csv\")\n",
    "bikes.head()"
   ]
  },
  {
   "cell_type": "markdown",
   "metadata": {},
   "source": [
    "<br>\n",
    "<div class=\"alert alert-info\">\n",
    "<b>Exercise Start.</b>\n",
    "</div>\n",
    "\n",
    "**Description**:\n",
    "\n",
    "1. Find the probability of there being more than <span style=\"background-color: #F9EBEA; color:##C0392B\">5000</span> riders in a single day (using the <span style=\"background-color: #F9EBEA; color:##C0392B\">cnt</span> column). \n",
    "2. Assign the result to <span style=\"background-color: #F9EBEA; color:##C0392B\">prob\\_over\\_5000</span>\n",
    "3. What is the probability that the bikesharing system has in a month at least 10 days with more than 5k riders?\n"
   ]
  },
  {
   "cell_type": "code",
   "execution_count": null,
   "metadata": {},
   "outputs": [],
   "source": []
  },
  {
   "cell_type": "markdown",
   "metadata": {},
   "source": [
    "## Geometric Distribution\n",
    "\n",
    "\n",
    "$$\n",
    "\\begin{eqnarray*}\n",
    "P(X = k)  \\Leftrightarrow  f(k,p)  & = &\n",
    "\\begin{cases}\n",
    "               \\displaystyle (1-p)^{k-1}*p \\ \\ \\ k = 1,2,3,\\ldots \\\\\n",
    "               \\textrm{caso contrário}\n",
    "\\end{cases}\\\\\n",
    "P(X \\leq k) \\Leftrightarrow  F(k,p)  & = &\n",
    "               \\displaystyle \\sum_{i=1}^{k}  (1-p)^{k-1}*p \\\\\n",
    "               & = & 1 - (1-p)^k\n",
    "\\end{eqnarray*}\n",
    "$$"
   ]
  },
  {
   "cell_type": "code",
   "execution_count": 11,
   "metadata": {
    "scrolled": true
   },
   "outputs": [
    {
     "data": {
      "text/html": [
       "\n",
       "<div class=\"bk-root\">\n",
       "    <div class=\"bk-plotdiv\" id=\"be96caca-7357-4b03-ace2-cf1ae1796a15\"></div>\n",
       "</div>"
      ]
     },
     "metadata": {},
     "output_type": "display_data"
    },
    {
     "data": {
      "application/javascript": [
       "(function(root) {\n",
       "  function embed_document(root) {\n",
       "    \n",
       "  var docs_json = {\"706468a6-85c1-4f02-b2de-8f322b0c2420\":{\"roots\":{\"references\":[{\"attributes\":{},\"id\":\"d567a254-8ba5-4799-a55d-c3d427d0e38c\",\"type\":\"ResetTool\"},{\"attributes\":{},\"id\":\"c28bb40d-899f-45fe-a2c0-9a3054f0070c\",\"type\":\"BasicTickFormatter\"},{\"attributes\":{},\"id\":\"b69a80ae-1836-4d29-8e4e-83ee3be1cb26\",\"type\":\"SaveTool\"},{\"attributes\":{\"source\":{\"id\":\"0004806c-431b-4974-bb44-e32c134a3d09\",\"type\":\"ColumnDataSource\"}},\"id\":\"bda23644-df2b-40c2-9674-462cf2f20c92\",\"type\":\"CDSView\"},{\"attributes\":{\"label\":{\"value\":\"p=0.30\"},\"renderers\":[{\"id\":\"3011b59b-fb3f-45c2-a09a-b26029f2c861\",\"type\":\"GlyphRenderer\"},{\"id\":\"9a2e16ef-2bf4-4a0b-b969-ac1f4a74f873\",\"type\":\"GlyphRenderer\"}]},\"id\":\"6e6ac7f6-80b7-481f-9f6a-a5a57522b6be\",\"type\":\"LegendItem\"},{\"attributes\":{},\"id\":\"8b811a2e-99d9-409d-9d2b-3cd2dcf35b74\",\"type\":\"BasicTickFormatter\"},{\"attributes\":{\"click_policy\":\"hide\",\"items\":[{\"id\":\"6e6ac7f6-80b7-481f-9f6a-a5a57522b6be\",\"type\":\"LegendItem\"},{\"id\":\"3aab1960-5346-4286-84f0-e00bf4ed1cf5\",\"type\":\"LegendItem\"}],\"plot\":{\"id\":\"04c0aff6-62ed-46a4-b75a-1ebe9e89cfb8\",\"subtype\":\"Figure\",\"type\":\"Plot\"}},\"id\":\"4669c931-570c-4bb6-b920-b14637839388\",\"type\":\"Legend\"},{\"attributes\":{\"callback\":null,\"column_names\":[\"x0\",\"x1\",\"y1\"],\"data\":{\"x0\":{\"__ndarray__\":\"AQAAAAIAAAADAAAABAAAAAUAAAAGAAAABwAAAAgAAAAJAAAACgAAAAsAAAAMAAAADQAAAA4AAAAPAAAAEAAAABEAAAASAAAAEwAAABQAAAAVAAAA\",\"dtype\":\"int32\",\"shape\":[21]},\"x1\":{\"__ndarray__\":\"AQAAAAIAAAADAAAABAAAAAUAAAAGAAAABwAAAAgAAAAJAAAACgAAAAsAAAAMAAAADQAAAA4AAAAPAAAAEAAAABEAAAASAAAAEwAAABQAAAAVAAAA\",\"dtype\":\"int32\",\"shape\":[21]},\"y1\":{\"__ndarray__\":\"ZmZmZmZm5j/iehSuR+HKP1XjpZvEILA/mt2Th4Vakz+61hcJbTl3P+A0tteC3ls/VLnT57S4QD/MRDEW2RAkP1wfO7Q3FAg/PL8TpQ/l7D5YDD+WPFbRPgRC5U3izbQ+oLWskA/3mD5bQM/gRfV9PgSNr1OQ+WE+0kJsZOCRRT7K6YF4QOIpPlvlm5CADw8+a1Yqveai8j3nmv/iFF3WPRftZRAZ1ro9\",\"dtype\":\"float64\",\"shape\":[21]}}},\"id\":\"b5c92de0-7df9-4b72-85b3-237722b39cb5\",\"type\":\"ColumnDataSource\"},{\"attributes\":{\"fill_color\":{\"value\":\"red\"},\"line_color\":{\"value\":\"red\"},\"size\":{\"units\":\"screen\",\"value\":7},\"x\":{\"field\":\"x\"},\"y\":{\"field\":\"y\"}},\"id\":\"c9fae7e4-d519-4e3f-bf31-c4e08ca77009\",\"type\":\"Circle\"},{\"attributes\":{\"line_alpha\":{\"value\":0.1},\"line_color\":{\"value\":\"#1f77b4\"},\"line_width\":{\"value\":3},\"x0\":{\"field\":\"x0\"},\"x1\":{\"field\":\"x1\"},\"y0\":{\"value\":0},\"y1\":{\"field\":\"y1\"}},\"id\":\"9dbfab76-a588-40af-abbf-d6d5b56f9acd\",\"type\":\"Segment\"},{\"attributes\":{\"line_color\":{\"value\":\"dodgerblue\"},\"line_width\":{\"value\":3},\"x0\":{\"field\":\"x0\"},\"x1\":{\"field\":\"x1\"},\"y0\":{\"value\":0},\"y1\":{\"field\":\"y1\"}},\"id\":\"8ed9c6f5-cedc-4e59-9ac6-d4617efe5868\",\"type\":\"Segment\"},{\"attributes\":{\"callback\":null,\"column_names\":[\"x\",\"y\"],\"data\":{\"x\":{\"__ndarray__\":\"AQAAAAIAAAADAAAABAAAAAUAAAAGAAAABwAAAAgAAAAJAAAACgAAAAsAAAAMAAAADQAAAA4AAAAPAAAAEAAAABEAAAASAAAAEwAAABQAAAAVAAAA\",\"dtype\":\"int32\",\"shape\":[21]},\"y\":{\"__ndarray__\":\"ZmZmZmZm5j/iehSuR+HKP1XjpZvEILA/mt2Th4Vakz+61hcJbTl3P+A0tteC3ls/VLnT57S4QD/MRDEW2RAkP1wfO7Q3FAg/PL8TpQ/l7D5YDD+WPFbRPgRC5U3izbQ+oLWskA/3mD5bQM/gRfV9PgSNr1OQ+WE+0kJsZOCRRT7K6YF4QOIpPlvlm5CADw8+a1Yqveai8j3nmv/iFF3WPRftZRAZ1ro9\",\"dtype\":\"float64\",\"shape\":[21]}}},\"id\":\"a255795b-c938-42ba-9b3a-832cc43cfde2\",\"type\":\"ColumnDataSource\"},{\"attributes\":{\"data_source\":{\"id\":\"45823c2e-2142-486c-aa73-5af973c82c33\",\"type\":\"ColumnDataSource\"},\"glyph\":{\"id\":\"8ed9c6f5-cedc-4e59-9ac6-d4617efe5868\",\"type\":\"Segment\"},\"hover_glyph\":null,\"muted_glyph\":null,\"nonselection_glyph\":{\"id\":\"9dbfab76-a588-40af-abbf-d6d5b56f9acd\",\"type\":\"Segment\"},\"selection_glyph\":null,\"view\":{\"id\":\"175ae3f7-0b25-4b2f-8d14-58e5925d0bd7\",\"type\":\"CDSView\"}},\"id\":\"9a2e16ef-2bf4-4a0b-b969-ac1f4a74f873\",\"type\":\"GlyphRenderer\"},{\"attributes\":{\"source\":{\"id\":\"a255795b-c938-42ba-9b3a-832cc43cfde2\",\"type\":\"ColumnDataSource\"}},\"id\":\"00b19038-8177-451f-9837-31b024be874c\",\"type\":\"CDSView\"},{\"attributes\":{\"data_source\":{\"id\":\"a255795b-c938-42ba-9b3a-832cc43cfde2\",\"type\":\"ColumnDataSource\"},\"glyph\":{\"id\":\"c9fae7e4-d519-4e3f-bf31-c4e08ca77009\",\"type\":\"Circle\"},\"hover_glyph\":null,\"muted_glyph\":null,\"nonselection_glyph\":{\"id\":\"73d26c16-1370-4bbe-96d1-5b9063adff88\",\"type\":\"Circle\"},\"selection_glyph\":null,\"view\":{\"id\":\"00b19038-8177-451f-9837-31b024be874c\",\"type\":\"CDSView\"}},\"id\":\"d2fee645-9e76-4250-87f5-542aa4cbcada\",\"type\":\"GlyphRenderer\"},{\"attributes\":{\"source\":{\"id\":\"45823c2e-2142-486c-aa73-5af973c82c33\",\"type\":\"ColumnDataSource\"}},\"id\":\"175ae3f7-0b25-4b2f-8d14-58e5925d0bd7\",\"type\":\"CDSView\"},{\"attributes\":{\"fill_color\":{\"value\":\"dodgerblue\"},\"line_color\":{\"value\":\"dodgerblue\"},\"size\":{\"units\":\"screen\",\"value\":7},\"x\":{\"field\":\"x\"},\"y\":{\"field\":\"y\"}},\"id\":\"4aa36d14-52cb-4dc4-ab45-cca9f7b8d039\",\"type\":\"Circle\"},{\"attributes\":{\"fill_alpha\":{\"value\":0.1},\"fill_color\":{\"value\":\"#1f77b4\"},\"line_alpha\":{\"value\":0.1},\"line_color\":{\"value\":\"#1f77b4\"},\"size\":{\"units\":\"screen\",\"value\":7},\"x\":{\"field\":\"x\"},\"y\":{\"field\":\"y\"}},\"id\":\"73d26c16-1370-4bbe-96d1-5b9063adff88\",\"type\":\"Circle\"},{\"attributes\":{\"fill_color\":{\"value\":\"red\"},\"line_color\":{\"value\":\"red\"},\"size\":{\"units\":\"screen\",\"value\":7},\"x\":{\"field\":\"x\"},\"y\":{\"field\":\"y\"}},\"id\":\"2f25811b-8842-4d13-8b26-f69a17bf72f5\",\"type\":\"Circle\"},{\"attributes\":{\"label\":{\"value\":\"p=0.70\"},\"renderers\":[{\"id\":\"d2fee645-9e76-4250-87f5-542aa4cbcada\",\"type\":\"GlyphRenderer\"},{\"id\":\"00ead507-0af5-47a6-a7cb-6ba19349760e\",\"type\":\"GlyphRenderer\"}]},\"id\":\"3aab1960-5346-4286-84f0-e00bf4ed1cf5\",\"type\":\"LegendItem\"},{\"attributes\":{\"callback\":null,\"column_names\":[\"x\",\"y\"],\"data\":{\"x\":{\"__ndarray__\":\"AQAAAAIAAAADAAAABAAAAAUAAAAGAAAABwAAAAgAAAAJAAAACgAAAAsAAAAMAAAADQAAAA4AAAAPAAAAEAAAABEAAAASAAAAEwAAABQAAAAVAAAA\",\"dtype\":\"int32\",\"shape\":[21]},\"y\":{\"__ndarray__\":\"MzMzMzMz0z9SuB6F61HgP6AaL90kBuU/cF8HzhlR6D8C9tGpK5/qPwH5Eio4POw/tBTag1pd7T9L20tcvyfuP4EZNVpste4/2pGLpZgY7z/msuFzBF7vP6FjhLecju8/JKzc5qCw7z9/eJqhcMjvP4yHUqQb2e8/ryugjMbk7z+UHnBi8ezvP5tIG/io8u8/oH95eqn27z+9P4iidvnvP2r5+KRs++8/\",\"dtype\":\"float64\",\"shape\":[21]}}},\"id\":\"55ac2fab-2529-40ed-9579-4ac956df173f\",\"type\":\"ColumnDataSource\"},{\"attributes\":{\"data_source\":{\"id\":\"b5c92de0-7df9-4b72-85b3-237722b39cb5\",\"type\":\"ColumnDataSource\"},\"glyph\":{\"id\":\"94551223-607c-43fc-bc71-47bdffc71f9c\",\"type\":\"Segment\"},\"hover_glyph\":null,\"muted_glyph\":null,\"nonselection_glyph\":{\"id\":\"85da49de-d7f7-4c60-9c3c-79acc08d7651\",\"type\":\"Segment\"},\"selection_glyph\":null,\"view\":{\"id\":\"beb96888-c8df-4c37-961b-8d9a6f578207\",\"type\":\"CDSView\"}},\"id\":\"00ead507-0af5-47a6-a7cb-6ba19349760e\",\"type\":\"GlyphRenderer\"},{\"attributes\":{\"line_color\":{\"value\":\"red\"},\"line_width\":{\"value\":3},\"x0\":{\"field\":\"x0\"},\"x1\":{\"field\":\"x1\"},\"y0\":{\"value\":0},\"y1\":{\"field\":\"y1\"}},\"id\":\"94551223-607c-43fc-bc71-47bdffc71f9c\",\"type\":\"Segment\"},{\"attributes\":{\"line_alpha\":{\"value\":0.1},\"line_color\":{\"value\":\"#1f77b4\"},\"line_width\":{\"value\":3},\"x0\":{\"field\":\"x0\"},\"x1\":{\"field\":\"x1\"},\"y0\":{\"value\":0},\"y1\":{\"field\":\"y1\"}},\"id\":\"85da49de-d7f7-4c60-9c3c-79acc08d7651\",\"type\":\"Segment\"},{\"attributes\":{\"fill_alpha\":{\"value\":0.1},\"fill_color\":{\"value\":\"#1f77b4\"},\"line_alpha\":{\"value\":0.1},\"line_color\":{\"value\":\"#1f77b4\"},\"size\":{\"units\":\"screen\",\"value\":7},\"x\":{\"field\":\"x\"},\"y\":{\"field\":\"y\"}},\"id\":\"7ecbdfae-a5e3-449b-9670-38dee2033129\",\"type\":\"Circle\"},{\"attributes\":{\"data_source\":{\"id\":\"55ac2fab-2529-40ed-9579-4ac956df173f\",\"type\":\"ColumnDataSource\"},\"glyph\":{\"id\":\"4aa36d14-52cb-4dc4-ab45-cca9f7b8d039\",\"type\":\"Circle\"},\"hover_glyph\":null,\"muted_glyph\":null,\"nonselection_glyph\":{\"id\":\"7ecbdfae-a5e3-449b-9670-38dee2033129\",\"type\":\"Circle\"},\"selection_glyph\":null,\"view\":{\"id\":\"bb327642-4d0f-4433-80ef-6e77063a15cd\",\"type\":\"CDSView\"}},\"id\":\"51a4cb67-404b-4cff-acb4-c02cb6c4e196\",\"type\":\"GlyphRenderer\"},{\"attributes\":{\"source\":{\"id\":\"b5c92de0-7df9-4b72-85b3-237722b39cb5\",\"type\":\"ColumnDataSource\"}},\"id\":\"beb96888-c8df-4c37-961b-8d9a6f578207\",\"type\":\"CDSView\"},{\"attributes\":{},\"id\":\"13f8b98a-5777-49fd-8236-9df77b4c5270\",\"type\":\"BasicTickFormatter\"},{\"attributes\":{\"source\":{\"id\":\"55ac2fab-2529-40ed-9579-4ac956df173f\",\"type\":\"ColumnDataSource\"}},\"id\":\"bb327642-4d0f-4433-80ef-6e77063a15cd\",\"type\":\"CDSView\"},{\"attributes\":{\"plot\":null,\"text\":\"\"},\"id\":\"76378ab5-5cf5-45a1-b845-da64ebf0b85d\",\"type\":\"Title\"},{\"attributes\":{\"source\":{\"id\":\"30540a9a-b625-41c8-9acf-6dfe00406605\",\"type\":\"ColumnDataSource\"}},\"id\":\"f33cae45-6fcc-4202-b426-7addc993eb11\",\"type\":\"CDSView\"},{\"attributes\":{\"callback\":null,\"tooltips\":[[\"\",\"$y\"]]},\"id\":\"9d61e810-f899-4518-8d4b-78c172efe7ec\",\"type\":\"HoverTool\"},{\"attributes\":{},\"id\":\"eca115f5-c44d-48f2-8baf-bd44c09e5e11\",\"type\":\"BasicTickFormatter\"},{\"attributes\":{\"axis_label\":\"F(k,p)\",\"formatter\":{\"id\":\"eca115f5-c44d-48f2-8baf-bd44c09e5e11\",\"type\":\"BasicTickFormatter\"},\"plot\":{\"id\":\"ceb56942-965f-4818-a292-13effbeb7896\",\"subtype\":\"Figure\",\"type\":\"Plot\"},\"ticker\":{\"id\":\"7173027b-b40e-49f3-b4ac-efc3fab1acf9\",\"type\":\"BasicTicker\"}},\"id\":\"eefa360b-542c-4717-a38f-eaf510c2a853\",\"type\":\"LinearAxis\"},{\"attributes\":{\"data_source\":{\"id\":\"30540a9a-b625-41c8-9acf-6dfe00406605\",\"type\":\"ColumnDataSource\"},\"glyph\":{\"id\":\"2f25811b-8842-4d13-8b26-f69a17bf72f5\",\"type\":\"Circle\"},\"hover_glyph\":null,\"muted_glyph\":null,\"nonselection_glyph\":{\"id\":\"6d5e2616-c2ee-463c-b818-013be9196d0e\",\"type\":\"Circle\"},\"selection_glyph\":null,\"view\":{\"id\":\"f33cae45-6fcc-4202-b426-7addc993eb11\",\"type\":\"CDSView\"}},\"id\":\"09eb47e2-975f-4511-bde0-c7b769214725\",\"type\":\"GlyphRenderer\"},{\"attributes\":{\"callback\":null,\"column_names\":[\"x\",\"y\"],\"data\":{\"x\":{\"__ndarray__\":\"AQAAAAIAAAADAAAABAAAAAUAAAAGAAAABwAAAAgAAAAJAAAACgAAAAsAAAAMAAAADQAAAA4AAAAPAAAAEAAAABEAAAASAAAAEwAAABQAAAAVAAAA\",\"dtype\":\"int32\",\"shape\":[21]},\"y\":{\"__ndarray__\":\"MzMzMzMz0z/hehSuR+HKPzaJQWDl0MI/fybChqdXuj+MtFTejnCyP/YvEATI0Kk/LLtxnCUSoj/X0jgOm0yZP8nGJ72ftZE/TRae1RLLiD/PQoiV81qBP4hdWNEhTHg/eEEkrBcCcT+oW8y9us9nP/UMD7gCq2A/V0VIm9BVVz8jyuWfq1VQP/0aqKxW3kY/5BLceAkCQD8/5wB2QGk2P1fdmgsnYC8/\",\"dtype\":\"float64\",\"shape\":[21]}}},\"id\":\"0004806c-431b-4974-bb44-e32c134a3d09\",\"type\":\"ColumnDataSource\"},{\"attributes\":{\"below\":[{\"id\":\"c5cf186d-48c6-44ca-9f20-5ef91b2119a7\",\"type\":\"LinearAxis\"}],\"left\":[{\"id\":\"62cc042b-e652-45fc-8f41-f415e301101d\",\"type\":\"LinearAxis\"}],\"plot_height\":300,\"plot_width\":400,\"renderers\":[{\"id\":\"c5cf186d-48c6-44ca-9f20-5ef91b2119a7\",\"type\":\"LinearAxis\"},{\"id\":\"1140e0f7-0ed3-4051-81a0-cf59a8b75466\",\"type\":\"Grid\"},{\"id\":\"62cc042b-e652-45fc-8f41-f415e301101d\",\"type\":\"LinearAxis\"},{\"id\":\"fb34daca-2424-4be1-8a0d-c1a80f8bab98\",\"type\":\"Grid\"},{\"id\":\"4669c931-570c-4bb6-b920-b14637839388\",\"type\":\"Legend\"},{\"id\":\"3011b59b-fb3f-45c2-a09a-b26029f2c861\",\"type\":\"GlyphRenderer\"},{\"id\":\"9a2e16ef-2bf4-4a0b-b969-ac1f4a74f873\",\"type\":\"GlyphRenderer\"},{\"id\":\"d2fee645-9e76-4250-87f5-542aa4cbcada\",\"type\":\"GlyphRenderer\"},{\"id\":\"00ead507-0af5-47a6-a7cb-6ba19349760e\",\"type\":\"GlyphRenderer\"}],\"title\":{\"id\":\"2b6cdd80-0cdc-458f-aa2c-4ecc61b27198\",\"type\":\"Title\"},\"toolbar\":{\"id\":\"4def9240-12e3-46fc-a78b-63d82f5ec910\",\"type\":\"Toolbar\"},\"x_range\":{\"id\":\"4c9bc2b7-0af8-4380-8bea-9d8206c47994\",\"type\":\"DataRange1d\"},\"x_scale\":{\"id\":\"60db117e-f779-4534-a0ba-92f61d3e8ed4\",\"type\":\"LinearScale\"},\"y_range\":{\"id\":\"ea5815c8-1c8c-484c-982c-2067d2e62c43\",\"type\":\"DataRange1d\"},\"y_scale\":{\"id\":\"1cb3e2a1-29d4-4693-b46f-81e23ab378fc\",\"type\":\"LinearScale\"}},\"id\":\"04c0aff6-62ed-46a4-b75a-1ebe9e89cfb8\",\"subtype\":\"Figure\",\"type\":\"Plot\"},{\"attributes\":{\"callback\":null,\"column_names\":[\"x\",\"y\"],\"data\":{\"x\":{\"__ndarray__\":\"AQAAAAIAAAADAAAABAAAAAUAAAAGAAAABwAAAAgAAAAJAAAACgAAAAsAAAAMAAAADQAAAA4AAAAPAAAAEAAAABEAAAASAAAAEwAAABQAAAAVAAAA\",\"dtype\":\"int32\",\"shape\":[21]},\"y\":{\"__ndarray__\":\"ZmZmZmZm5j8fhetRuB7tP4lBYOXQIu8/duCcEaW97z8jEK/rF+zvPz7rGi0H+u8/LOBUWjX+7z9AQ+Zndv/vPy0UxbjW/+8/QbnUnfP/7z9gBPNI/P/vPx1Or+L+/+8/ospnqv//7z9kVlLm///vP7jmS/j//+8/0V6w/f//7z/Ygk7////vP9rAyv///+8/qAbw////7z8yNfv////vP/aP/v///+8/\",\"dtype\":\"float64\",\"shape\":[21]}}},\"id\":\"30540a9a-b625-41c8-9acf-6dfe00406605\",\"type\":\"ColumnDataSource\"},{\"attributes\":{\"callback\":null},\"id\":\"4c9bc2b7-0af8-4380-8bea-9d8206c47994\",\"type\":\"DataRange1d\"},{\"attributes\":{\"plot\":null,\"text\":\"Geometric Distribution\"},\"id\":\"2b6cdd80-0cdc-458f-aa2c-4ecc61b27198\",\"type\":\"Title\"},{\"attributes\":{\"fill_alpha\":{\"value\":0.1},\"fill_color\":{\"value\":\"#1f77b4\"},\"line_alpha\":{\"value\":0.1},\"line_color\":{\"value\":\"#1f77b4\"},\"size\":{\"units\":\"screen\",\"value\":7},\"x\":{\"field\":\"x\"},\"y\":{\"field\":\"y\"}},\"id\":\"6d5e2616-c2ee-463c-b818-013be9196d0e\",\"type\":\"Circle\"},{\"attributes\":{\"active_drag\":\"auto\",\"active_inspect\":\"auto\",\"active_scroll\":\"auto\",\"active_tap\":\"auto\",\"tools\":[{\"id\":\"dd7a9b28-3c0f-46a3-b39e-136d2feb2f9c\",\"type\":\"PanTool\"},{\"id\":\"112e5da9-0200-46c8-9e59-4b2ba1f7b14b\",\"type\":\"WheelZoomTool\"},{\"id\":\"652015f6-b226-4a25-9de7-4a5c60bce9eb\",\"type\":\"ResetTool\"},{\"id\":\"24a3cb92-0ce1-4167-9d18-32d770d8c33c\",\"type\":\"SaveTool\"}]},\"id\":\"4def9240-12e3-46fc-a78b-63d82f5ec910\",\"type\":\"Toolbar\"},{\"attributes\":{\"children\":[{\"id\":\"04c0aff6-62ed-46a4-b75a-1ebe9e89cfb8\",\"subtype\":\"Figure\",\"type\":\"Plot\"},{\"id\":\"ceb56942-965f-4818-a292-13effbeb7896\",\"subtype\":\"Figure\",\"type\":\"Plot\"}]},\"id\":\"0e820b24-9160-4415-97cd-837c966cd3e8\",\"type\":\"Row\"},{\"attributes\":{\"below\":[{\"id\":\"ce119781-45cd-4c4d-b0b9-8342cf9d9923\",\"type\":\"LinearAxis\"}],\"left\":[{\"id\":\"eefa360b-542c-4717-a38f-eaf510c2a853\",\"type\":\"LinearAxis\"}],\"plot_height\":300,\"plot_width\":400,\"renderers\":[{\"id\":\"ce119781-45cd-4c4d-b0b9-8342cf9d9923\",\"type\":\"LinearAxis\"},{\"id\":\"4ea901ee-6cbb-4a3a-87dd-ab6fcfa0ef6b\",\"type\":\"Grid\"},{\"id\":\"eefa360b-542c-4717-a38f-eaf510c2a853\",\"type\":\"LinearAxis\"},{\"id\":\"44413730-20e7-4a7a-87fc-9cdc4cb340a7\",\"type\":\"Grid\"},{\"id\":\"51a4cb67-404b-4cff-acb4-c02cb6c4e196\",\"type\":\"GlyphRenderer\"},{\"id\":\"09eb47e2-975f-4511-bde0-c7b769214725\",\"type\":\"GlyphRenderer\"}],\"title\":{\"id\":\"76378ab5-5cf5-45a1-b845-da64ebf0b85d\",\"type\":\"Title\"},\"toolbar\":{\"id\":\"316d93b9-5336-4e1b-ae72-8da92b1a8763\",\"type\":\"Toolbar\"},\"x_range\":{\"id\":\"4c9bc2b7-0af8-4380-8bea-9d8206c47994\",\"type\":\"DataRange1d\"},\"x_scale\":{\"id\":\"5bce98fd-9951-4356-9251-85ceb6a2d2c6\",\"type\":\"LinearScale\"},\"y_range\":{\"id\":\"19987a3b-c26d-45c8-8108-59d335e5c803\",\"type\":\"Range1d\"},\"y_scale\":{\"id\":\"59094bb2-3146-4592-b11f-6d8dfb21349b\",\"type\":\"LinearScale\"}},\"id\":\"ceb56942-965f-4818-a292-13effbeb7896\",\"subtype\":\"Figure\",\"type\":\"Plot\"},{\"attributes\":{},\"id\":\"60db117e-f779-4534-a0ba-92f61d3e8ed4\",\"type\":\"LinearScale\"},{\"attributes\":{\"callback\":null},\"id\":\"ea5815c8-1c8c-484c-982c-2067d2e62c43\",\"type\":\"DataRange1d\"},{\"attributes\":{},\"id\":\"1cb3e2a1-29d4-4693-b46f-81e23ab378fc\",\"type\":\"LinearScale\"},{\"attributes\":{\"plot\":{\"id\":\"04c0aff6-62ed-46a4-b75a-1ebe9e89cfb8\",\"subtype\":\"Figure\",\"type\":\"Plot\"},\"ticker\":{\"id\":\"ed2c0550-2124-44b6-85db-821e328a924e\",\"type\":\"BasicTicker\"}},\"id\":\"1140e0f7-0ed3-4051-81a0-cf59a8b75466\",\"type\":\"Grid\"},{\"attributes\":{\"axis_label\":\"k\",\"formatter\":{\"id\":\"8b811a2e-99d9-409d-9d2b-3cd2dcf35b74\",\"type\":\"BasicTickFormatter\"},\"plot\":{\"id\":\"04c0aff6-62ed-46a4-b75a-1ebe9e89cfb8\",\"subtype\":\"Figure\",\"type\":\"Plot\"},\"ticker\":{\"id\":\"ed2c0550-2124-44b6-85db-821e328a924e\",\"type\":\"BasicTicker\"}},\"id\":\"c5cf186d-48c6-44ca-9f20-5ef91b2119a7\",\"type\":\"LinearAxis\"},{\"attributes\":{},\"id\":\"ed2c0550-2124-44b6-85db-821e328a924e\",\"type\":\"BasicTicker\"},{\"attributes\":{\"axis_label\":\"f(k,p)\",\"formatter\":{\"id\":\"c28bb40d-899f-45fe-a2c0-9a3054f0070c\",\"type\":\"BasicTickFormatter\"},\"plot\":{\"id\":\"04c0aff6-62ed-46a4-b75a-1ebe9e89cfb8\",\"subtype\":\"Figure\",\"type\":\"Plot\"},\"ticker\":{\"id\":\"eab0a0a1-41b8-4e84-9b5b-359d68bc8e1f\",\"type\":\"BasicTicker\"}},\"id\":\"62cc042b-e652-45fc-8f41-f415e301101d\",\"type\":\"LinearAxis\"},{\"attributes\":{},\"id\":\"eab0a0a1-41b8-4e84-9b5b-359d68bc8e1f\",\"type\":\"BasicTicker\"},{\"attributes\":{\"dimension\":1,\"plot\":{\"id\":\"04c0aff6-62ed-46a4-b75a-1ebe9e89cfb8\",\"subtype\":\"Figure\",\"type\":\"Plot\"},\"ticker\":{\"id\":\"eab0a0a1-41b8-4e84-9b5b-359d68bc8e1f\",\"type\":\"BasicTicker\"}},\"id\":\"fb34daca-2424-4be1-8a0d-c1a80f8bab98\",\"type\":\"Grid\"},{\"attributes\":{\"active_drag\":\"auto\",\"active_inspect\":\"auto\",\"active_scroll\":\"auto\",\"active_tap\":\"auto\",\"tools\":[{\"id\":\"9d61e810-f899-4518-8d4b-78c172efe7ec\",\"type\":\"HoverTool\"},{\"id\":\"c1d22aac-7585-4db5-97b3-80133b34cb7d\",\"type\":\"PanTool\"},{\"id\":\"54e5dd35-5fa4-4388-9b69-be7e7e240b10\",\"type\":\"WheelZoomTool\"},{\"id\":\"d567a254-8ba5-4799-a55d-c3d427d0e38c\",\"type\":\"ResetTool\"},{\"id\":\"b69a80ae-1836-4d29-8e4e-83ee3be1cb26\",\"type\":\"SaveTool\"}]},\"id\":\"316d93b9-5336-4e1b-ae72-8da92b1a8763\",\"type\":\"Toolbar\"},{\"attributes\":{\"callback\":null,\"column_names\":[\"x0\",\"x1\",\"y1\"],\"data\":{\"x0\":{\"__ndarray__\":\"AQAAAAIAAAADAAAABAAAAAUAAAAGAAAABwAAAAgAAAAJAAAACgAAAAsAAAAMAAAADQAAAA4AAAAPAAAAEAAAABEAAAASAAAAEwAAABQAAAAVAAAA\",\"dtype\":\"int32\",\"shape\":[21]},\"x1\":{\"__ndarray__\":\"AQAAAAIAAAADAAAABAAAAAUAAAAGAAAABwAAAAgAAAAJAAAACgAAAAsAAAAMAAAADQAAAA4AAAAPAAAAEAAAABEAAAASAAAAEwAAABQAAAAVAAAA\",\"dtype\":\"int32\",\"shape\":[21]},\"y1\":{\"__ndarray__\":\"MzMzMzMz0z/hehSuR+HKPzaJQWDl0MI/fybChqdXuj+MtFTejnCyP/YvEATI0Kk/LLtxnCUSoj/X0jgOm0yZP8nGJ72ftZE/TRae1RLLiD/PQoiV81qBP4hdWNEhTHg/eEEkrBcCcT+oW8y9us9nP/UMD7gCq2A/V0VIm9BVVz8jyuWfq1VQP/0aqKxW3kY/5BLceAkCQD8/5wB2QGk2P1fdmgsnYC8/\",\"dtype\":\"float64\",\"shape\":[21]}}},\"id\":\"45823c2e-2142-486c-aa73-5af973c82c33\",\"type\":\"ColumnDataSource\"},{\"attributes\":{\"callback\":null,\"end\":1.05,\"start\":-0.05},\"id\":\"19987a3b-c26d-45c8-8108-59d335e5c803\",\"type\":\"Range1d\"},{\"attributes\":{},\"id\":\"dd7a9b28-3c0f-46a3-b39e-136d2feb2f9c\",\"type\":\"PanTool\"},{\"attributes\":{},\"id\":\"5bce98fd-9951-4356-9251-85ceb6a2d2c6\",\"type\":\"LinearScale\"},{\"attributes\":{},\"id\":\"112e5da9-0200-46c8-9e59-4b2ba1f7b14b\",\"type\":\"WheelZoomTool\"},{\"attributes\":{},\"id\":\"652015f6-b226-4a25-9de7-4a5c60bce9eb\",\"type\":\"ResetTool\"},{\"attributes\":{},\"id\":\"24a3cb92-0ce1-4167-9d18-32d770d8c33c\",\"type\":\"SaveTool\"},{\"attributes\":{},\"id\":\"59094bb2-3146-4592-b11f-6d8dfb21349b\",\"type\":\"LinearScale\"},{\"attributes\":{\"dimension\":1,\"plot\":{\"id\":\"ceb56942-965f-4818-a292-13effbeb7896\",\"subtype\":\"Figure\",\"type\":\"Plot\"},\"ticker\":{\"id\":\"7173027b-b40e-49f3-b4ac-efc3fab1acf9\",\"type\":\"BasicTicker\"}},\"id\":\"44413730-20e7-4a7a-87fc-9cdc4cb340a7\",\"type\":\"Grid\"},{\"attributes\":{\"plot\":{\"id\":\"ceb56942-965f-4818-a292-13effbeb7896\",\"subtype\":\"Figure\",\"type\":\"Plot\"},\"ticker\":{\"id\":\"28888cef-640e-4344-b53d-966f5ac5ff35\",\"type\":\"BasicTicker\"}},\"id\":\"4ea901ee-6cbb-4a3a-87dd-ab6fcfa0ef6b\",\"type\":\"Grid\"},{\"attributes\":{\"axis_label\":\"k\",\"formatter\":{\"id\":\"13f8b98a-5777-49fd-8236-9df77b4c5270\",\"type\":\"BasicTickFormatter\"},\"plot\":{\"id\":\"ceb56942-965f-4818-a292-13effbeb7896\",\"subtype\":\"Figure\",\"type\":\"Plot\"},\"ticker\":{\"id\":\"28888cef-640e-4344-b53d-966f5ac5ff35\",\"type\":\"BasicTicker\"}},\"id\":\"ce119781-45cd-4c4d-b0b9-8342cf9d9923\",\"type\":\"LinearAxis\"},{\"attributes\":{},\"id\":\"28888cef-640e-4344-b53d-966f5ac5ff35\",\"type\":\"BasicTicker\"},{\"attributes\":{},\"id\":\"7173027b-b40e-49f3-b4ac-efc3fab1acf9\",\"type\":\"BasicTicker\"},{\"attributes\":{\"fill_color\":{\"value\":\"dodgerblue\"},\"line_color\":{\"value\":\"dodgerblue\"},\"size\":{\"units\":\"screen\",\"value\":7},\"x\":{\"field\":\"x\"},\"y\":{\"field\":\"y\"}},\"id\":\"01a6770d-e250-40c3-a0f2-c97b9edd5018\",\"type\":\"Circle\"},{\"attributes\":{\"data_source\":{\"id\":\"0004806c-431b-4974-bb44-e32c134a3d09\",\"type\":\"ColumnDataSource\"},\"glyph\":{\"id\":\"01a6770d-e250-40c3-a0f2-c97b9edd5018\",\"type\":\"Circle\"},\"hover_glyph\":null,\"muted_glyph\":null,\"nonselection_glyph\":{\"id\":\"25c59a16-cef3-48e2-80bc-50ac59b08fe2\",\"type\":\"Circle\"},\"selection_glyph\":null,\"view\":{\"id\":\"bda23644-df2b-40c2-9674-462cf2f20c92\",\"type\":\"CDSView\"}},\"id\":\"3011b59b-fb3f-45c2-a09a-b26029f2c861\",\"type\":\"GlyphRenderer\"},{\"attributes\":{\"fill_alpha\":{\"value\":0.1},\"fill_color\":{\"value\":\"#1f77b4\"},\"line_alpha\":{\"value\":0.1},\"line_color\":{\"value\":\"#1f77b4\"},\"size\":{\"units\":\"screen\",\"value\":7},\"x\":{\"field\":\"x\"},\"y\":{\"field\":\"y\"}},\"id\":\"25c59a16-cef3-48e2-80bc-50ac59b08fe2\",\"type\":\"Circle\"},{\"attributes\":{},\"id\":\"c1d22aac-7585-4db5-97b3-80133b34cb7d\",\"type\":\"PanTool\"},{\"attributes\":{},\"id\":\"54e5dd35-5fa4-4388-9b69-be7e7e240b10\",\"type\":\"WheelZoomTool\"}],\"root_ids\":[\"0e820b24-9160-4415-97cd-837c966cd3e8\"]},\"title\":\"Bokeh Application\",\"version\":\"0.12.13\"}};\n",
       "  var render_items = [{\"docid\":\"706468a6-85c1-4f02-b2de-8f322b0c2420\",\"elementid\":\"be96caca-7357-4b03-ace2-cf1ae1796a15\",\"modelid\":\"0e820b24-9160-4415-97cd-837c966cd3e8\"}];\n",
       "  root.Bokeh.embed.embed_items_notebook(docs_json, render_items);\n",
       "\n",
       "  }\n",
       "  if (root.Bokeh !== undefined) {\n",
       "    embed_document(root);\n",
       "  } else {\n",
       "    var attempts = 0;\n",
       "    var timer = setInterval(function(root) {\n",
       "      if (root.Bokeh !== undefined) {\n",
       "        embed_document(root);\n",
       "        clearInterval(timer);\n",
       "      }\n",
       "      attempts++;\n",
       "      if (attempts > 100) {\n",
       "        console.log(\"Bokeh: ERROR: Unable to run BokehJS code because BokehJS library is missing\")\n",
       "        clearInterval(timer);\n",
       "      }\n",
       "    }, 10, root)\n",
       "  }\n",
       "})(window);"
      ],
      "application/vnd.bokehjs_exec.v0+json": ""
     },
     "metadata": {
      "application/vnd.bokehjs_exec.v0+json": {
       "id": "0e820b24-9160-4415-97cd-837c966cd3e8"
      }
     },
     "output_type": "display_data"
    }
   ],
   "source": [
    "k = np.arange(21)+1\n",
    "p1 = 0.30\n",
    "p2 = 0.70\n",
    "\n",
    "# Tools for plots\n",
    "tools='pan,wheel_zoom,reset,save'\n",
    "\n",
    "# Set up plots\n",
    "fig_1 = Figure(width=400, height=300, tools=tools, title=\"Geometric Distribution\")\n",
    "fig_2 = Figure(width=400, height=300, tools=[tools,HoverTool(tooltips=[\n",
    "                (\"\", \"$y\")\n",
    "                ])], \n",
    "               y_range=[-0.05, 1.05])\n",
    "\n",
    "fig_1.xaxis.axis_label = 'k'\n",
    "fig_1.yaxis.axis_label = 'f(k,p)' \n",
    "\n",
    "fig_2.xaxis.axis_label = 'k'\n",
    "fig_2.yaxis.axis_label = 'F(k,p)'\n",
    "\n",
    "# Figure #1\n",
    "y1 = geom.pmf(k,p1)\n",
    "fig_1.circle(k, y1, size=7, color='dodgerblue',legend=\"p=0.30\")\n",
    "fig_1.segment(x0=k, x1=k, y0=0, y1=y1, line_width=3, \n",
    "              color='dodgerblue', legend=\"p=0.30\")\n",
    "\n",
    "y2 = geom.pmf(k,p2)\n",
    "fig_1.circle(k, y2, size=7, color='red',legend=\"p=0.70\")\n",
    "fig_1.segment(x0=k, x1=k, y0=0, y1=y2, line_width=3, \n",
    "              color='red', legend=\"p=0.70\")\n",
    "\n",
    "fig_1.legend.location = \"top_right\"\n",
    "fig_1.legend.click_policy=\"hide\"\n",
    "\n",
    "#Figure #2\n",
    "y3 = geom.cdf(k,p1)\n",
    "fig_2.circle(k, y3, size=7, color='dodgerblue')\n",
    "\n",
    "y4 = geom.cdf(k,p2)\n",
    "fig_2.circle(k, y4, size=7, color='red')\n",
    "\n",
    "# Link the x-axes\n",
    "fig_1.x_range = fig_2.x_range\n",
    "\n",
    "\n",
    "show(row([fig_1, fig_2]))"
   ]
  },
  {
   "cell_type": "markdown",
   "metadata": {},
   "source": [
    "# Continuous Distribution"
   ]
  },
  {
   "cell_type": "markdown",
   "metadata": {},
   "source": [
    "## Uniform distribution\n",
    "\n",
    "$$\n",
    "\\begin{eqnarray*}\n",
    "P(X = x)  \\Leftrightarrow  f(x)  & = &\n",
    "\\begin{cases}\n",
    "               \\displaystyle \\frac{1}{b-a} \\ \\ \\ a \\leq x \\leq b\\\\\n",
    "               \\textrm{caso contrário}\n",
    "\\end{cases}\\\\\n",
    "P(X \\leq x)  \\Leftrightarrow  F(x)  & = &\n",
    "\\begin{cases}\n",
    "               0 \\ \\ \\ \\ \\ \\ \\ \\  x \\leq a\\\\\n",
    "               \\frac{x-a}{b-a} \\ \\ \\ a \\leq x \\leq b\\\\\n",
    "               1 \\ \\ \\ \\ \\ \\ \\  x \\geq b\n",
    "\\end{cases}\n",
    "\\end{eqnarray*}\n",
    "$$"
   ]
  },
  {
   "cell_type": "code",
   "execution_count": 12,
   "metadata": {},
   "outputs": [
    {
     "data": {
      "text/html": [
       "\n",
       "<div class=\"bk-root\">\n",
       "    <div class=\"bk-plotdiv\" id=\"7f82cf47-7f70-4f2e-a215-14f89a5c426a\"></div>\n",
       "</div>"
      ]
     },
     "metadata": {},
     "output_type": "display_data"
    },
    {
     "data": {
      "application/javascript": [
       "(function(root) {\n",
       "  function embed_document(root) {\n",
       "    \n",
       "  var docs_json = {\"9ef864f5-1d37-42a2-9a1d-91c173c4153b\":{\"roots\":{\"references\":[{\"attributes\":{\"label\":{\"value\":\"cdf\"},\"renderers\":[{\"id\":\"1c4aa18e-8f93-4b03-8c1f-b6cb75029c0c\",\"type\":\"GlyphRenderer\"}]},\"id\":\"85ee0b72-a228-4cb0-b4d4-cb6e018c6339\",\"type\":\"LegendItem\"},{\"attributes\":{\"below\":[{\"id\":\"e85bc7af-3206-4222-b8a0-f9d98b082551\",\"type\":\"LinearAxis\"}],\"left\":[{\"id\":\"590dc4af-6d75-4a28-8c0a-0c5d16a273a4\",\"type\":\"LinearAxis\"}],\"plot_height\":300,\"plot_width\":400,\"renderers\":[{\"id\":\"e85bc7af-3206-4222-b8a0-f9d98b082551\",\"type\":\"LinearAxis\"},{\"id\":\"ca388e4b-3639-4309-bc4e-14f1e5b78075\",\"type\":\"Grid\"},{\"id\":\"590dc4af-6d75-4a28-8c0a-0c5d16a273a4\",\"type\":\"LinearAxis\"},{\"id\":\"6798abc7-7fff-4b9a-ba74-518d89add8e0\",\"type\":\"Grid\"},{\"id\":\"e24843df-f57b-45e0-b8df-4aedf06d23bc\",\"type\":\"Legend\"},{\"id\":\"1c4aa18e-8f93-4b03-8c1f-b6cb75029c0c\",\"type\":\"GlyphRenderer\"}],\"title\":{\"id\":\"114e469e-bc05-43c9-8a8b-6327e6e197c1\",\"type\":\"Title\"},\"toolbar\":{\"id\":\"91814c28-065d-4ce6-ad61-a2b5a1bf0e88\",\"type\":\"Toolbar\"},\"x_range\":{\"id\":\"ee3a8a48-b935-4653-ab0f-b4add64fe777\",\"type\":\"Range1d\"},\"x_scale\":{\"id\":\"cacc0878-46a0-4a5d-a47d-3e75a7fd1e2e\",\"type\":\"LinearScale\"},\"y_range\":{\"id\":\"f121b7d0-6f63-4cb1-b72d-52e47d4a2865\",\"type\":\"Range1d\"},\"y_scale\":{\"id\":\"7e2a3cb6-0626-4b58-9c2b-bec501111243\",\"type\":\"LinearScale\"}},\"id\":\"1a0c6a75-14c2-4fa5-9ed4-a730d0b71c91\",\"subtype\":\"Figure\",\"type\":\"Plot\"},{\"attributes\":{\"source\":{\"id\":\"69916e0f-7787-43f4-803a-b6a2166f5ed3\",\"type\":\"ColumnDataSource\"}},\"id\":\"b9f9542d-e3a6-40d8-b16b-773af6c11244\",\"type\":\"CDSView\"},{\"attributes\":{},\"id\":\"0bdedc4d-e1cf-45e7-93d8-62a16e106823\",\"type\":\"BasicTicker\"},{\"attributes\":{\"plot\":null,\"text\":\"\"},\"id\":\"114e469e-bc05-43c9-8a8b-6327e6e197c1\",\"type\":\"Title\"},{\"attributes\":{\"dimension\":1,\"plot\":{\"id\":\"d8fe1f70-86cd-4889-8976-e6c51b141bca\",\"subtype\":\"Figure\",\"type\":\"Plot\"},\"ticker\":{\"id\":\"0bdedc4d-e1cf-45e7-93d8-62a16e106823\",\"type\":\"BasicTicker\"}},\"id\":\"cdb58067-a8c9-48cb-a477-2b4ba9e31ad9\",\"type\":\"Grid\"},{\"attributes\":{\"active_drag\":\"auto\",\"active_inspect\":\"auto\",\"active_scroll\":\"auto\",\"active_tap\":\"auto\",\"tools\":[{\"id\":\"8b2525bf-3d21-401e-83e9-6fe5e39ef087\",\"type\":\"HoverTool\"},{\"id\":\"fb436d2a-61fc-4eff-84ac-56fd05f018f2\",\"type\":\"PanTool\"},{\"id\":\"bad4947e-ab47-4f01-93a6-5dbe0ea6aee1\",\"type\":\"WheelZoomTool\"},{\"id\":\"7d4732e6-2e03-42b5-ab1e-329ad8036c19\",\"type\":\"ResetTool\"},{\"id\":\"6be93f12-f22f-4ada-bce6-c8eb769f7dcf\",\"type\":\"SaveTool\"}]},\"id\":\"91814c28-065d-4ce6-ad61-a2b5a1bf0e88\",\"type\":\"Toolbar\"},{\"attributes\":{},\"id\":\"3bd93b22-f3a8-4db1-83b8-82f50ad52ce4\",\"type\":\"BasicTickFormatter\"},{\"attributes\":{\"line_alpha\":0.1,\"line_color\":\"#1f77b4\",\"line_width\":3,\"x\":{\"field\":\"x\"},\"y\":{\"field\":\"y\"}},\"id\":\"189fb25c-20d3-4cd6-b042-b2cc30ca5026\",\"type\":\"Line\"},{\"attributes\":{},\"id\":\"7e2a3cb6-0626-4b58-9c2b-bec501111243\",\"type\":\"LinearScale\"},{\"attributes\":{},\"id\":\"cba60b5b-6437-4558-8930-a0925f8ab885\",\"type\":\"PanTool\"},{\"attributes\":{\"items\":[{\"id\":\"85ee0b72-a228-4cb0-b4d4-cb6e018c6339\",\"type\":\"LegendItem\"}],\"location\":\"bottom_right\",\"plot\":{\"id\":\"1a0c6a75-14c2-4fa5-9ed4-a730d0b71c91\",\"subtype\":\"Figure\",\"type\":\"Plot\"}},\"id\":\"e24843df-f57b-45e0-b8df-4aedf06d23bc\",\"type\":\"Legend\"},{\"attributes\":{\"callback\":null,\"column_names\":[\"x\",\"y\"],\"data\":{\"x\":{\"__ndarray__\":\"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\",\"dtype\":\"float64\",\"shape\":[200]},\"y\":{\"__ndarray__\":\"AAAAAAAAAAAAAAAAAAAAAAAAAAAAAAAAAAAAAAAAAAAAAAAAAAAAAAAAAAAAAAAAAAAAAAAAAAAAAAAAAAAAAAAAAAAAAAAAAAAAAAAAAAAAAAAAAAAAAAAAAAAAAAAAAAAAAAAAAAAAAAAAAAAAAAAAAAAAAAAAAAAAAAAAAAAAAAAAAAAAAAAAAAAAAAAAAAAAAAAAAAAAAAAAAAAAAJqZmZmZmck/mpmZmZmZyT+amZmZmZnJP5qZmZmZmck/mpmZmZmZyT+amZmZmZnJP5qZmZmZmck/mpmZmZmZyT+amZmZmZnJP5qZmZmZmck/mpmZmZmZyT+amZmZmZnJP5qZmZmZmck/mpmZmZmZyT+amZmZmZnJP5qZmZmZmck/mpmZmZmZyT+amZmZmZnJP5qZmZmZmck/mpmZmZmZyT+amZmZmZnJP5qZmZmZmck/mpmZmZmZyT+amZmZmZnJP5qZmZmZmck/mpmZmZmZyT+amZmZmZnJP5qZmZmZmck/mpmZmZmZyT+amZmZmZnJP5qZmZmZmck/mpmZmZmZyT+amZmZmZnJP5qZmZmZmck/mpmZmZmZyT+amZmZmZnJP5qZmZmZmck/mpmZmZmZyT+amZmZmZnJP5qZmZmZmck/mpmZmZmZyT+amZmZmZnJP5qZmZmZmck/mpmZmZmZyT+amZmZmZnJP5qZmZmZmck/mpmZmZmZyT+amZmZmZnJP5qZmZmZmck/mpmZmZmZyT8AAAAAAAAAAAAAAAAAAAAAAAAAAAAAAAAAAAAAAAAAAAAAAAAAAAAAAAAAAAAAAAAAAAAAAAAAAAAAAAAAAAAAAAAAAAAAAAAAAAAAAAAAAAAAAAAAAAAAAAAAAAAAAAAAAAAAAAAAAAAAAAAAAAAAAAAAAAAAAAAAAAAAAAAAAAAAAAAAAAAAAAAAAAAAAAAAAAAAAAAAAAAAAAAAAAAAAAAAAAAAAAAAAAAAAAAAAAAAAAAAAAAAAAAAAAAAAAAAAAAAAAAAAAAAAAAAAAAAAAAAAAAAAAAAAAAAAAAAAAAAAAAAAAAAAAAAAAAAAAAAAAAAAAAAAAAAAAAAAAAAAAAAAAAAAAAAAAAAAAAAAAAAAAAAAAAAAAAAAAAAAAAAAAAAAAAAAAAAAAAAAAAAAAAAAAAAAAAAAAAAAAAAAAAAAAAAAAAAAAAAAAAAAAAAAAAAAAAAAAAAAAAAAAAAAAAAAAAAAAAAAAAAAAAAAAAAAAAAAAAAAAAAAAAAAAAAAAAAAAAAAAAAAAAAAAAAAAAAAAAAAAAAAAAAAAAAAAAAAAAAAAAAAAAAAAAAAAAAAAAAAAAAAAAAAAAAAAAAAAAAAAAAAAAAAAAAAAAAAAAAAAAAAAAAAAAAAAAAAAAAAAAAAAAAAAAAAAAAAAAAAAAAAAAAAAAAAAAAAAAAAAAAAAAAAAAAAAAAAAAAAAAAAAAAAAAAAAAAAAAAAAAAAAAAAAAAAAAAAAAAAAAAAAAAAAAAAAAAAAAAAAAAAAAAAAAAAAAAAAAAAAAAAAAAAAAAAAAAAAAAAAAAAAAAAAAAAAAAAAAAAAAAAAAAAAAAAAAAAAAAAAAAAAAAAAAAAAAAAAAAAAAAAAAAAAAAAAAAAAAAAAAAAAAAAAAAAAAAAAAAAAAAAAAAAAAAAAAAAAAAAAAAAAAAAAAAAAAAAAAAAAAAAAAAAAAAAAAAAAAAAAAAAAAAAAAAAAAAAAAAAAAAAAAAAAAAAAAAAAAAAAAAAAAAAAAAAAAAAAAAAAAAAAAAAAAAAAAAAAAAAAAAAAAAAAAAAAAAAAAAAAAAAAAAAAAAAAAAAAAAAAAAAAAAAAAAAAAAAAAAAAAAAAAAAAAAAAAAAAAAAAAAAAAAAAAAAAAAAAAAAAAAAAAAAAAAAAAAAAAAAAAAAAAAAAAAAAAAAAAAAAAAAAAAAAAAAAAAAAAAAAAAAAAAAAAAAAAAAAAAAAAAAAAAAAAAAAAAAAAAAAAAAAAAAAAAAAAAAAAAAAAAAAAAAAAAAAAAAAAAAAAAAAAAAAAAAAAAAAAAAAAAAAAAAAAAAAAAAAAAAAAAAAAAAAAAAAAAAAAAAAAAAAAAAAAAAAAAAAAAAAAAAAAAAAAAAAAAAAAAAAAAAA==\",\"dtype\":\"float64\",\"shape\":[200]}}},\"id\":\"b7de404a-84c3-4944-9eb7-4c85939819c3\",\"type\":\"ColumnDataSource\"},{\"attributes\":{},\"id\":\"5dec0c82-16ae-43e3-bb7d-d79eed190fb3\",\"type\":\"WheelZoomTool\"},{\"attributes\":{},\"id\":\"81862690-a0f1-4a74-85a5-8d1f08bedcf3\",\"type\":\"ResetTool\"},{\"attributes\":{},\"id\":\"ac977dc1-f9e9-491f-9838-a0952281ea32\",\"type\":\"SaveTool\"},{\"attributes\":{\"callback\":null,\"end\":20},\"id\":\"ee3a8a48-b935-4653-ab0f-b4add64fe777\",\"type\":\"Range1d\"},{\"attributes\":{\"callback\":null,\"end\":1.05,\"start\":-0.05},\"id\":\"f121b7d0-6f63-4cb1-b72d-52e47d4a2865\",\"type\":\"Range1d\"},{\"attributes\":{},\"id\":\"cacc0878-46a0-4a5d-a47d-3e75a7fd1e2e\",\"type\":\"LinearScale\"},{\"attributes\":{\"plot\":{\"id\":\"1a0c6a75-14c2-4fa5-9ed4-a730d0b71c91\",\"subtype\":\"Figure\",\"type\":\"Plot\"},\"ticker\":{\"id\":\"0636ce7f-f87a-43ec-bf51-2e70c4d00f95\",\"type\":\"BasicTicker\"}},\"id\":\"ca388e4b-3639-4309-bc4e-14f1e5b78075\",\"type\":\"Grid\"},{\"attributes\":{\"axis_label\":\"x\",\"formatter\":{\"id\":\"4aa5d6bb-aaa9-4981-a513-fc86dd93f38b\",\"type\":\"BasicTickFormatter\"},\"plot\":{\"id\":\"1a0c6a75-14c2-4fa5-9ed4-a730d0b71c91\",\"subtype\":\"Figure\",\"type\":\"Plot\"},\"ticker\":{\"id\":\"0636ce7f-f87a-43ec-bf51-2e70c4d00f95\",\"type\":\"BasicTicker\"}},\"id\":\"e85bc7af-3206-4222-b8a0-f9d98b082551\",\"type\":\"LinearAxis\"},{\"attributes\":{},\"id\":\"0636ce7f-f87a-43ec-bf51-2e70c4d00f95\",\"type\":\"BasicTicker\"},{\"attributes\":{\"axis_label\":\"F(x,(2,7))\",\"formatter\":{\"id\":\"3bd93b22-f3a8-4db1-83b8-82f50ad52ce4\",\"type\":\"BasicTickFormatter\"},\"plot\":{\"id\":\"1a0c6a75-14c2-4fa5-9ed4-a730d0b71c91\",\"subtype\":\"Figure\",\"type\":\"Plot\"},\"ticker\":{\"id\":\"9a361427-f018-424a-b015-595bf09197b3\",\"type\":\"BasicTicker\"}},\"id\":\"590dc4af-6d75-4a28-8c0a-0c5d16a273a4\",\"type\":\"LinearAxis\"},{\"attributes\":{},\"id\":\"9a361427-f018-424a-b015-595bf09197b3\",\"type\":\"BasicTicker\"},{\"attributes\":{\"dimension\":1,\"plot\":{\"id\":\"1a0c6a75-14c2-4fa5-9ed4-a730d0b71c91\",\"subtype\":\"Figure\",\"type\":\"Plot\"},\"ticker\":{\"id\":\"9a361427-f018-424a-b015-595bf09197b3\",\"type\":\"BasicTicker\"}},\"id\":\"6798abc7-7fff-4b9a-ba74-518d89add8e0\",\"type\":\"Grid\"},{\"attributes\":{\"below\":[{\"id\":\"016df834-8ba6-4036-9309-42e3fa3a7a35\",\"type\":\"LinearAxis\"}],\"left\":[{\"id\":\"698a0180-7d6a-4230-9846-ca3723d52ba8\",\"type\":\"LinearAxis\"}],\"plot_height\":300,\"plot_width\":400,\"renderers\":[{\"id\":\"016df834-8ba6-4036-9309-42e3fa3a7a35\",\"type\":\"LinearAxis\"},{\"id\":\"338fa499-6bab-4fae-bfdd-98dc1f1f61de\",\"type\":\"Grid\"},{\"id\":\"698a0180-7d6a-4230-9846-ca3723d52ba8\",\"type\":\"LinearAxis\"},{\"id\":\"cdb58067-a8c9-48cb-a477-2b4ba9e31ad9\",\"type\":\"Grid\"},{\"id\":\"ee4bbcaf-6d08-4e3d-9761-aaef408882ff\",\"type\":\"Legend\"},{\"id\":\"35fef8ea-54db-4a3d-9ee7-ecd891dbca9f\",\"type\":\"GlyphRenderer\"}],\"title\":{\"id\":\"8ba09d2d-3bb0-4919-b742-ecb57f9aa528\",\"type\":\"Title\"},\"toolbar\":{\"id\":\"4fb20c01-29aa-4ea6-8adb-d352fe48841b\",\"type\":\"Toolbar\"},\"x_range\":{\"id\":\"462b4388-0226-4bf5-8fff-f9661abd1954\",\"type\":\"Range1d\"},\"x_scale\":{\"id\":\"2e2a6753-8df3-4ad3-af4d-9326a0ea0f39\",\"type\":\"LinearScale\"},\"y_range\":{\"id\":\"a918df8c-0ad1-47a6-96ff-55403f4e1246\",\"type\":\"DataRange1d\"},\"y_scale\":{\"id\":\"efa770db-5362-47cd-8b5d-f1273e3e3210\",\"type\":\"LinearScale\"}},\"id\":\"d8fe1f70-86cd-4889-8976-e6c51b141bca\",\"subtype\":\"Figure\",\"type\":\"Plot\"},{\"attributes\":{\"line_color\":\"dodgerblue\",\"line_width\":3,\"x\":{\"field\":\"x\"},\"y\":{\"field\":\"y\"}},\"id\":\"3f5a53be-4ee1-4762-87b3-9cbb3018c548\",\"type\":\"Line\"},{\"attributes\":{},\"id\":\"507f86d1-7bdd-44b1-a3f2-b53591e16d66\",\"type\":\"BasicTickFormatter\"},{\"attributes\":{\"callback\":null,\"tooltips\":[[\"\",\"$y\"]]},\"id\":\"1019f964-645b-44a0-9719-6296f658f43b\",\"type\":\"HoverTool\"},{\"attributes\":{\"label\":{\"value\":\"pdf\"},\"renderers\":[{\"id\":\"35fef8ea-54db-4a3d-9ee7-ecd891dbca9f\",\"type\":\"GlyphRenderer\"}]},\"id\":\"69866aed-82c6-4722-8421-d4f1f1a9197f\",\"type\":\"LegendItem\"},{\"attributes\":{\"plot\":null,\"text\":\"Uniform Distribution\"},\"id\":\"8ba09d2d-3bb0-4919-b742-ecb57f9aa528\",\"type\":\"Title\"},{\"attributes\":{},\"id\":\"fb436d2a-61fc-4eff-84ac-56fd05f018f2\",\"type\":\"PanTool\"},{\"attributes\":{\"callback\":null,\"tooltips\":[[\"\",\"$y\"]]},\"id\":\"8b2525bf-3d21-401e-83e9-6fe5e39ef087\",\"type\":\"HoverTool\"},{\"attributes\":{\"source\":{\"id\":\"b7de404a-84c3-4944-9eb7-4c85939819c3\",\"type\":\"ColumnDataSource\"}},\"id\":\"e2fc4f08-6cae-4d8c-8b48-f6cc42edf9b9\",\"type\":\"CDSView\"},{\"attributes\":{\"callback\":null,\"end\":20},\"id\":\"462b4388-0226-4bf5-8fff-f9661abd1954\",\"type\":\"Range1d\"},{\"attributes\":{},\"id\":\"bad4947e-ab47-4f01-93a6-5dbe0ea6aee1\",\"type\":\"WheelZoomTool\"},{\"attributes\":{\"active_drag\":\"auto\",\"active_inspect\":\"auto\",\"active_scroll\":\"auto\",\"active_tap\":\"auto\",\"tools\":[{\"id\":\"1019f964-645b-44a0-9719-6296f658f43b\",\"type\":\"HoverTool\"},{\"id\":\"cba60b5b-6437-4558-8930-a0925f8ab885\",\"type\":\"PanTool\"},{\"id\":\"5dec0c82-16ae-43e3-bb7d-d79eed190fb3\",\"type\":\"WheelZoomTool\"},{\"id\":\"81862690-a0f1-4a74-85a5-8d1f08bedcf3\",\"type\":\"ResetTool\"},{\"id\":\"ac977dc1-f9e9-491f-9838-a0952281ea32\",\"type\":\"SaveTool\"}]},\"id\":\"4fb20c01-29aa-4ea6-8adb-d352fe48841b\",\"type\":\"Toolbar\"},{\"attributes\":{},\"id\":\"7d4732e6-2e03-42b5-ab1e-329ad8036c19\",\"type\":\"ResetTool\"},{\"attributes\":{\"callback\":null},\"id\":\"a918df8c-0ad1-47a6-96ff-55403f4e1246\",\"type\":\"DataRange1d\"},{\"attributes\":{},\"id\":\"6be93f12-f22f-4ada-bce6-c8eb769f7dcf\",\"type\":\"SaveTool\"},{\"attributes\":{\"children\":[{\"id\":\"d8fe1f70-86cd-4889-8976-e6c51b141bca\",\"subtype\":\"Figure\",\"type\":\"Plot\"},{\"id\":\"1a0c6a75-14c2-4fa5-9ed4-a730d0b71c91\",\"subtype\":\"Figure\",\"type\":\"Plot\"}]},\"id\":\"36fd09eb-d138-4d7e-baa4-1f739e9eb953\",\"type\":\"Row\"},{\"attributes\":{\"data_source\":{\"id\":\"b7de404a-84c3-4944-9eb7-4c85939819c3\",\"type\":\"ColumnDataSource\"},\"glyph\":{\"id\":\"3f5a53be-4ee1-4762-87b3-9cbb3018c548\",\"type\":\"Line\"},\"hover_glyph\":null,\"muted_glyph\":null,\"nonselection_glyph\":{\"id\":\"189fb25c-20d3-4cd6-b042-b2cc30ca5026\",\"type\":\"Line\"},\"selection_glyph\":null,\"view\":{\"id\":\"e2fc4f08-6cae-4d8c-8b48-f6cc42edf9b9\",\"type\":\"CDSView\"}},\"id\":\"35fef8ea-54db-4a3d-9ee7-ecd891dbca9f\",\"type\":\"GlyphRenderer\"},{\"attributes\":{},\"id\":\"2e2a6753-8df3-4ad3-af4d-9326a0ea0f39\",\"type\":\"LinearScale\"},{\"attributes\":{},\"id\":\"65f1713c-72d7-4923-ab29-e4a95b4f9038\",\"type\":\"BasicTickFormatter\"},{\"attributes\":{},\"id\":\"efa770db-5362-47cd-8b5d-f1273e3e3210\",\"type\":\"LinearScale\"},{\"attributes\":{\"click_policy\":\"hide\",\"items\":[{\"id\":\"69866aed-82c6-4722-8421-d4f1f1a9197f\",\"type\":\"LegendItem\"}],\"plot\":{\"id\":\"d8fe1f70-86cd-4889-8976-e6c51b141bca\",\"subtype\":\"Figure\",\"type\":\"Plot\"}},\"id\":\"ee4bbcaf-6d08-4e3d-9761-aaef408882ff\",\"type\":\"Legend\"},{\"attributes\":{},\"id\":\"4aa5d6bb-aaa9-4981-a513-fc86dd93f38b\",\"type\":\"BasicTickFormatter\"},{\"attributes\":{\"axis_label\":\"x\",\"formatter\":{\"id\":\"65f1713c-72d7-4923-ab29-e4a95b4f9038\",\"type\":\"BasicTickFormatter\"},\"plot\":{\"id\":\"d8fe1f70-86cd-4889-8976-e6c51b141bca\",\"subtype\":\"Figure\",\"type\":\"Plot\"},\"ticker\":{\"id\":\"feb233a5-6965-43b2-a9cd-aa6a8bd1fdb4\",\"type\":\"BasicTicker\"}},\"id\":\"016df834-8ba6-4036-9309-42e3fa3a7a35\",\"type\":\"LinearAxis\"},{\"attributes\":{\"callback\":null,\"column_names\":[\"x\",\"y\"],\"data\":{\"x\":{\"__ndarray__\":\"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\",\"dtype\":\"float64\",\"shape\":[200]},\"y\":{\"__ndarray__\":\"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\",\"dtype\":\"float64\",\"shape\":[200]}}},\"id\":\"69916e0f-7787-43f4-803a-b6a2166f5ed3\",\"type\":\"ColumnDataSource\"},{\"attributes\":{},\"id\":\"feb233a5-6965-43b2-a9cd-aa6a8bd1fdb4\",\"type\":\"BasicTicker\"},{\"attributes\":{\"line_alpha\":0.1,\"line_color\":\"#1f77b4\",\"line_width\":3,\"x\":{\"field\":\"x\"},\"y\":{\"field\":\"y\"}},\"id\":\"19d23419-9eb8-47a8-a961-6f1d2cbc79a9\",\"type\":\"Line\"},{\"attributes\":{\"axis_label\":\"f(x,(2,7))\",\"formatter\":{\"id\":\"507f86d1-7bdd-44b1-a3f2-b53591e16d66\",\"type\":\"BasicTickFormatter\"},\"plot\":{\"id\":\"d8fe1f70-86cd-4889-8976-e6c51b141bca\",\"subtype\":\"Figure\",\"type\":\"Plot\"},\"ticker\":{\"id\":\"0bdedc4d-e1cf-45e7-93d8-62a16e106823\",\"type\":\"BasicTicker\"}},\"id\":\"698a0180-7d6a-4230-9846-ca3723d52ba8\",\"type\":\"LinearAxis\"},{\"attributes\":{\"line_color\":\"dodgerblue\",\"line_width\":3,\"x\":{\"field\":\"x\"},\"y\":{\"field\":\"y\"}},\"id\":\"caedbaa2-9729-4490-8aa6-f27233ba48ed\",\"type\":\"Line\"},{\"attributes\":{\"plot\":{\"id\":\"d8fe1f70-86cd-4889-8976-e6c51b141bca\",\"subtype\":\"Figure\",\"type\":\"Plot\"},\"ticker\":{\"id\":\"feb233a5-6965-43b2-a9cd-aa6a8bd1fdb4\",\"type\":\"BasicTicker\"}},\"id\":\"338fa499-6bab-4fae-bfdd-98dc1f1f61de\",\"type\":\"Grid\"},{\"attributes\":{\"data_source\":{\"id\":\"69916e0f-7787-43f4-803a-b6a2166f5ed3\",\"type\":\"ColumnDataSource\"},\"glyph\":{\"id\":\"caedbaa2-9729-4490-8aa6-f27233ba48ed\",\"type\":\"Line\"},\"hover_glyph\":null,\"muted_glyph\":null,\"nonselection_glyph\":{\"id\":\"19d23419-9eb8-47a8-a961-6f1d2cbc79a9\",\"type\":\"Line\"},\"selection_glyph\":null,\"view\":{\"id\":\"b9f9542d-e3a6-40d8-b16b-773af6c11244\",\"type\":\"CDSView\"}},\"id\":\"1c4aa18e-8f93-4b03-8c1f-b6cb75029c0c\",\"type\":\"GlyphRenderer\"}],\"root_ids\":[\"36fd09eb-d138-4d7e-baa4-1f739e9eb953\"]},\"title\":\"Bokeh Application\",\"version\":\"0.12.13\"}};\n",
       "  var render_items = [{\"docid\":\"9ef864f5-1d37-42a2-9a1d-91c173c4153b\",\"elementid\":\"7f82cf47-7f70-4f2e-a215-14f89a5c426a\",\"modelid\":\"36fd09eb-d138-4d7e-baa4-1f739e9eb953\"}];\n",
       "  root.Bokeh.embed.embed_items_notebook(docs_json, render_items);\n",
       "\n",
       "  }\n",
       "  if (root.Bokeh !== undefined) {\n",
       "    embed_document(root);\n",
       "  } else {\n",
       "    var attempts = 0;\n",
       "    var timer = setInterval(function(root) {\n",
       "      if (root.Bokeh !== undefined) {\n",
       "        embed_document(root);\n",
       "        clearInterval(timer);\n",
       "      }\n",
       "      attempts++;\n",
       "      if (attempts > 100) {\n",
       "        console.log(\"Bokeh: ERROR: Unable to run BokehJS code because BokehJS library is missing\")\n",
       "        clearInterval(timer);\n",
       "      }\n",
       "    }, 10, root)\n",
       "  }\n",
       "})(window);"
      ],
      "application/vnd.bokehjs_exec.v0+json": ""
     },
     "metadata": {
      "application/vnd.bokehjs_exec.v0+json": {
       "id": "36fd09eb-d138-4d7e-baa4-1f739e9eb953"
      }
     },
     "output_type": "display_data"
    }
   ],
   "source": [
    "from scipy.stats import uniform\n",
    "\n",
    "x = np.linspace(0, 20, 200)\n",
    "\n",
    "# Tools for plots\n",
    "tools='pan,wheel_zoom,reset,save'\n",
    "\n",
    "# Set up plots\n",
    "fig_1 = Figure(width=400, height=300, tools=[tools,HoverTool(tooltips=[\n",
    "                (\"\", \"$y\")\n",
    "                ])], title=\"Uniform Distribution\",x_range=(0, 20))\n",
    "fig_2 = Figure(width=400, height=300, tools=[tools,HoverTool(tooltips=[\n",
    "                (\"\", \"$y\")\n",
    "                ])], \n",
    "               y_range=[-0.05, 1.05],x_range=(0, 20))\n",
    "\n",
    "fig_1.xaxis.axis_label = 'x'\n",
    "fig_1.yaxis.axis_label = 'f(x,(2,7))' \n",
    "\n",
    "fig_2.xaxis.axis_label = 'x'\n",
    "fig_2.yaxis.axis_label = 'F(x,(2,7))'\n",
    "\n",
    "# Figure #1\n",
    "y1 = uniform.pdf(x,2,5)\n",
    "fig_1.line(x, y1, line_width=3, color='dodgerblue',legend=\"pdf\")\n",
    "\n",
    "fig_1.legend.location = \"top_right\"\n",
    "fig_1.legend.click_policy=\"hide\"\n",
    "\n",
    "#Figure #2\n",
    "y2 = uniform.cdf(x,2,5)\n",
    "fig_2.line(x, y2, line_width=3, color='dodgerblue',legend=\"cdf\")\n",
    "fig_2.legend.location = \"bottom_right\"\n",
    "\n",
    "show(row([fig_1, fig_2]))"
   ]
  },
  {
   "cell_type": "markdown",
   "metadata": {},
   "source": [
    "## Exponential Distribution"
   ]
  },
  {
   "cell_type": "markdown",
   "metadata": {},
   "source": [
    "$$\n",
    "\\begin{eqnarray*}\n",
    "P(X = x)  \\Leftrightarrow  f(x,\\lambda)  & = &\n",
    "\\begin{cases}\n",
    "               \\displaystyle \\lambda e^{-\\lambda x} \\ \\ \\ x \\geq 0\\\\\n",
    "               0 \\ \\ \\ \\textrm{caso contrário}\n",
    "\\end{cases}\\\\\n",
    "P(X \\leq x)  \\Leftrightarrow  F(x,\\lambda)  & = &\n",
    "\\begin{cases}\n",
    "               1 - e^{-\\lambda x} \\ \\ \\  x \\geq 0\\\\ \n",
    "               0 \\ \\ \\ \\textrm{caso contrário}\n",
    "\\end{cases}\n",
    "\\end{eqnarray*}\n",
    "$$"
   ]
  },
  {
   "cell_type": "code",
   "execution_count": 13,
   "metadata": {},
   "outputs": [
    {
     "data": {
      "text/html": [
       "\n",
       "<div class=\"bk-root\">\n",
       "    <div class=\"bk-plotdiv\" id=\"0681c48b-7d47-4fc3-ac5c-e7e560fe3ac7\"></div>\n",
       "</div>"
      ]
     },
     "metadata": {},
     "output_type": "display_data"
    },
    {
     "data": {
      "application/javascript": [
       "(function(root) {\n",
       "  function embed_document(root) {\n",
       "    \n",
       "  var docs_json = {\"ae501721-93dd-41e9-a836-65996743339f\":{\"roots\":{\"references\":[{\"attributes\":{\"below\":[{\"id\":\"8f63dd1d-39d4-4346-8bd0-3c45610c221d\",\"type\":\"LinearAxis\"}],\"left\":[{\"id\":\"5c02610f-9798-4606-858d-46890c923f68\",\"type\":\"LinearAxis\"}],\"plot_height\":300,\"plot_width\":400,\"renderers\":[{\"id\":\"8f63dd1d-39d4-4346-8bd0-3c45610c221d\",\"type\":\"LinearAxis\"},{\"id\":\"c90e206d-9b97-4837-bcc1-c7027bb5a7e3\",\"type\":\"Grid\"},{\"id\":\"5c02610f-9798-4606-858d-46890c923f68\",\"type\":\"LinearAxis\"},{\"id\":\"ff161f19-bee3-4a05-9a1c-c778f50f60ac\",\"type\":\"Grid\"},{\"id\":\"f75eb145-5d77-463d-afe6-9a200251a58b\",\"type\":\"Legend\"},{\"id\":\"421911b3-fc54-4fca-9244-17041da8d10e\",\"type\":\"GlyphRenderer\"},{\"id\":\"98b1b445-dcdf-4545-8550-addd4853a9db\",\"type\":\"GlyphRenderer\"},{\"id\":\"398b43ec-36e1-4dc1-a0e3-3d441825625d\",\"type\":\"GlyphRenderer\"}],\"title\":{\"id\":\"7de2ffc3-2659-431d-b8d6-8afc43b9d63f\",\"type\":\"Title\"},\"toolbar\":{\"id\":\"387a6543-d7b8-4cc4-a4b3-c33584f0ed94\",\"type\":\"Toolbar\"},\"x_range\":{\"id\":\"1d13dd9b-c9cc-49f6-81d7-d00e5b1f71f3\",\"type\":\"DataRange1d\"},\"x_scale\":{\"id\":\"7dcfb879-3715-45d5-bb54-3c1f1d4ec5e0\",\"type\":\"LinearScale\"},\"y_range\":{\"id\":\"328b7618-07f7-421d-a37c-003494fe595d\",\"type\":\"Range1d\"},\"y_scale\":{\"id\":\"6ebe6231-c80d-47ef-bc88-5352c48b0eed\",\"type\":\"LinearScale\"}},\"id\":\"150ff058-6b64-4280-8585-85877806b652\",\"subtype\":\"Figure\",\"type\":\"Plot\"},{\"attributes\":{},\"id\":\"72358371-798c-4050-a27a-11bcd8fe58dc\",\"type\":\"LinearScale\"},{\"attributes\":{\"plot\":{\"id\":\"81b188cb-ad38-49be-bba6-4e58c0d126e0\",\"subtype\":\"Figure\",\"type\":\"Plot\"},\"ticker\":{\"id\":\"603f843f-d7e3-4543-87f3-0d92198f3e92\",\"type\":\"BasicTicker\"}},\"id\":\"00863e9e-6447-459c-837d-2c2182cdeadd\",\"type\":\"Grid\"},{\"attributes\":{\"axis_label\":\"x\",\"formatter\":{\"id\":\"9791deaf-baf3-4133-af07-cf5d6a5eeeaa\",\"type\":\"BasicTickFormatter\"},\"plot\":{\"id\":\"81b188cb-ad38-49be-bba6-4e58c0d126e0\",\"subtype\":\"Figure\",\"type\":\"Plot\"},\"ticker\":{\"id\":\"603f843f-d7e3-4543-87f3-0d92198f3e92\",\"type\":\"BasicTicker\"}},\"id\":\"a42ffee0-2282-409e-baf5-01430749f58f\",\"type\":\"LinearAxis\"},{\"attributes\":{},\"id\":\"603f843f-d7e3-4543-87f3-0d92198f3e92\",\"type\":\"BasicTicker\"},{\"attributes\":{\"axis_label\":\"f(x,\\u03bb)\",\"formatter\":{\"id\":\"eb99b66b-ec2d-4712-a0f1-dbab7361f5b8\",\"type\":\"BasicTickFormatter\"},\"plot\":{\"id\":\"81b188cb-ad38-49be-bba6-4e58c0d126e0\",\"subtype\":\"Figure\",\"type\":\"Plot\"},\"ticker\":{\"id\":\"178de53a-3bed-470f-9e0c-a77a622982a9\",\"type\":\"BasicTicker\"}},\"id\":\"69816573-fe4a-4bec-9259-b7fca33026fb\",\"type\":\"LinearAxis\"},{\"attributes\":{},\"id\":\"178de53a-3bed-470f-9e0c-a77a622982a9\",\"type\":\"BasicTicker\"},{\"attributes\":{\"dimension\":1,\"plot\":{\"id\":\"81b188cb-ad38-49be-bba6-4e58c0d126e0\",\"subtype\":\"Figure\",\"type\":\"Plot\"},\"ticker\":{\"id\":\"178de53a-3bed-470f-9e0c-a77a622982a9\",\"type\":\"BasicTicker\"}},\"id\":\"1e83f4b6-508a-4611-8316-b6f1fda617ea\",\"type\":\"Grid\"},{\"attributes\":{\"active_drag\":\"auto\",\"active_inspect\":\"auto\",\"active_scroll\":\"auto\",\"active_tap\":\"auto\",\"tools\":[{\"id\":\"b5341fc4-92b0-412b-a8e6-51b93843dbb1\",\"type\":\"HoverTool\"},{\"id\":\"fd021437-00a7-41c4-a23e-9454f9a128a7\",\"type\":\"PanTool\"},{\"id\":\"e81fcbd0-595e-4b43-bfd4-708851879078\",\"type\":\"WheelZoomTool\"},{\"id\":\"8af91ebd-22cd-420f-b6a2-fd52f2ce3d2c\",\"type\":\"ResetTool\"},{\"id\":\"6a15a1b6-9601-4b5e-933c-c12f8e314df9\",\"type\":\"SaveTool\"}]},\"id\":\"387a6543-d7b8-4cc4-a4b3-c33584f0ed94\",\"type\":\"Toolbar\"},{\"attributes\":{\"line_color\":\"dodgerblue\",\"line_width\":3,\"x\":{\"field\":\"x\"},\"y\":{\"field\":\"y\"}},\"id\":\"f0a6e818-cbb2-4d86-8b26-c8e3725cb12d\",\"type\":\"Line\"},{\"attributes\":{\"callback\":null,\"end\":1.05,\"start\":-0.05},\"id\":\"328b7618-07f7-421d-a37c-003494fe595d\",\"type\":\"Range1d\"},{\"attributes\":{},\"id\":\"047c3dee-d34a-458c-98ce-a204c1c473b3\",\"type\":\"PanTool\"},{\"attributes\":{},\"id\":\"eb99b66b-ec2d-4712-a0f1-dbab7361f5b8\",\"type\":\"BasicTickFormatter\"},{\"attributes\":{},\"id\":\"e60de7c2-1d2f-447d-83ab-9ca0ee9db80f\",\"type\":\"WheelZoomTool\"},{\"attributes\":{},\"id\":\"caa0aace-aac8-4013-83e1-fbf9d659ad66\",\"type\":\"ResetTool\"},{\"attributes\":{},\"id\":\"bf1a4062-458c-4548-818e-98f63a6f46f1\",\"type\":\"SaveTool\"},{\"attributes\":{\"callback\":null},\"id\":\"1d13dd9b-c9cc-49f6-81d7-d00e5b1f71f3\",\"type\":\"DataRange1d\"},{\"attributes\":{},\"id\":\"6ebe6231-c80d-47ef-bc88-5352c48b0eed\",\"type\":\"LinearScale\"},{\"attributes\":{},\"id\":\"7dcfb879-3715-45d5-bb54-3c1f1d4ec5e0\",\"type\":\"LinearScale\"},{\"attributes\":{\"plot\":{\"id\":\"150ff058-6b64-4280-8585-85877806b652\",\"subtype\":\"Figure\",\"type\":\"Plot\"},\"ticker\":{\"id\":\"f62e55e6-15eb-4015-927c-e39346856968\",\"type\":\"BasicTicker\"}},\"id\":\"c90e206d-9b97-4837-bcc1-c7027bb5a7e3\",\"type\":\"Grid\"},{\"attributes\":{\"axis_label\":\"x\",\"formatter\":{\"id\":\"a2e3f1f7-c363-4353-8fdd-0de891bb28a5\",\"type\":\"BasicTickFormatter\"},\"plot\":{\"id\":\"150ff058-6b64-4280-8585-85877806b652\",\"subtype\":\"Figure\",\"type\":\"Plot\"},\"ticker\":{\"id\":\"f62e55e6-15eb-4015-927c-e39346856968\",\"type\":\"BasicTicker\"}},\"id\":\"8f63dd1d-39d4-4346-8bd0-3c45610c221d\",\"type\":\"LinearAxis\"},{\"attributes\":{},\"id\":\"f62e55e6-15eb-4015-927c-e39346856968\",\"type\":\"BasicTicker\"},{\"attributes\":{\"axis_label\":\"F(x,\\u03bb)\",\"formatter\":{\"id\":\"54e4e30a-7037-40a5-8e7c-200924d33446\",\"type\":\"BasicTickFormatter\"},\"plot\":{\"id\":\"150ff058-6b64-4280-8585-85877806b652\",\"subtype\":\"Figure\",\"type\":\"Plot\"},\"ticker\":{\"id\":\"09a6dfdf-8d88-4eb0-a14c-6143c619cd78\",\"type\":\"BasicTicker\"}},\"id\":\"5c02610f-9798-4606-858d-46890c923f68\",\"type\":\"LinearAxis\"},{\"attributes\":{},\"id\":\"09a6dfdf-8d88-4eb0-a14c-6143c619cd78\",\"type\":\"BasicTicker\"},{\"attributes\":{\"dimension\":1,\"plot\":{\"id\":\"150ff058-6b64-4280-8585-85877806b652\",\"subtype\":\"Figure\",\"type\":\"Plot\"},\"ticker\":{\"id\":\"09a6dfdf-8d88-4eb0-a14c-6143c619cd78\",\"type\":\"BasicTicker\"}},\"id\":\"ff161f19-bee3-4a05-9a1c-c778f50f60ac\",\"type\":\"Grid\"},{\"attributes\":{},\"id\":\"a2e3f1f7-c363-4353-8fdd-0de891bb28a5\",\"type\":\"BasicTickFormatter\"},{\"attributes\":{\"callback\":null,\"column_names\":[\"x\",\"y\"],\"data\":{\"x\":{\"__ndarray__\":\"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\",\"dtype\":\"float64\",\"shape\":[200]},\"y\":{\"__ndarray__\":\"exSuR+F6hD+Y7UPH7XmDP35PsxmShYI/izh2PzCdgT86QFf3McCAP/YslboQ3H8/XNsTHFdMfj9sJG+eNNB8PxTAn3ezZns/FB9m6ekOej8d8Seq+cd4P+reNVUPkXc/nYkc4mFpdj/FbqgiMlB1P0ClSEfKRHQ/nYWAaX1Gcz+FOxwcp1RyPzL33wCrbnE/FAFtY/STcD9EoDay64dvP+7uEstR/G0/JphPRxuEbD83Eg3mVB5rPx/1YlIXymk/aarMjYaGaD/NwOph0VJnP4HqPNkwLmY//C59vucXZT9RIkkiQg9kP+4HyuaUE2M/+KYQUT0kYj86Rt2foEBhP0/Hj6craGA/iFz+5aQ0Xz+/HPbRH61dP1OyeOzKOFw/BNUbd7XWWj/2ze9/+oVZP+Ayd03ARVg/wejf0TcVVz+oZyIlnPNVP4avsAUy4FQ/yJtiX0faUz9fTFHYMuFSP0YxV2NT9FE/VOvt1w8TUT+vrSaP1jxQP/Iv+go64k4/DUmPAr9eTT8mhBd7Qe5LP7wN/THTj0o/ITz7kZFCST/FQp0gpQVIP6kD6/JA2EY/HenpKKK5RT88HJxvD6lEP1yfLInYpUM/8NH62lWvQj9drzsB6MRBP8G26mf35UA/tdjH6PMRQD+IGEbcqJA+P5uOcjQtET0/OBXT5XykOz9RAhcjrEk6P0W7Z63a/zg/r1dqQzPGNz+ha1wX65s2P3LR8ktBgDU/06mld35yND+N8Bgu9HEzP/73VI/8fTI/h9+F3PmVMT/Kq/wRVrkwPw8cYAwFzy8/6kX8Gu8/Lj8PCedEaMQsP7bsvSR7Wys/JHj3Wz4EKj92m/77070oPwBEs/Zohyc/eFPzlTRgJj+dvdP5d0clP/HiNZ19PCQ/7Ftp4Jg+Iz88UY6ZJU0iP781cKqHZyE/h0CUmyqNID8MxHR4AnsfP1pFJY4K8B0/qcfXFm54HD/xwEc1OhMbPxwXRvOHvxk/Fg9jrHt8GD8v3+l/REkXP4MR0skbJRY/uGJPokQPFT+UEa1jCwcUP1+lJTbFCxM/LRBsoc8cEj9fwJ4jkDkRP9S0YM1zYRA/xvavxd0nDz+NV6gC+aANP4PnxJI8LQw/ikwvGrjLCj+y8LYEh3sJP+ZaBfLPOwg/lNYQKcQLBz8xiXISn+oFP/KISbml1wQ/S8RYUibSAz/QkBHJd9kCPwCNQFL57AE/3CQWBBIMAT8hgEdzMDYAP/PYD6qU1f4+5O87S7hS/T5b1bSm0eL7PjJJdNvyhPo+bCr9sDk4+T7fJxYFz/v3Plqer0DmzvY+YLOa07yw9T7II7y2maD0PjtvafTMnfM+VwWjNq+n8j5m5OFaob3xPkS0MgsM3/A+2tVbXF8L8D5xRJ7hJITuPrFcVkBGBe0+UbYlRiuZ6z53j0mG6D7qPubLvR2e9eg+rfZ5Ine85z5ygsYZqZLmPu1EUXVzd+U+74asFh9q5D59KOjY/WnjPl1K+B9qduI+Kq+gbcaO4T5el5/7fLLgPnyArLX+wd8+TdBgLowz3j6Slx7AoLjcPs/2/mlHUNs+41oHLZf52T4ur4J1srPYPv+zvIvGfdc+sdbCCwtX1j4xc9JjwT7VPtK3IFk0NNQ+ln+skrc20z6FXs4pp0XSPmnSPkBnYNE+FBJOm2OG0D70ohiIHm7PPrwDSVjI480+rD5drsVszD5AAIMQJAjLPvyyHef8tMk+RZSt53RyyD4qbgWHuz/HPqZGc3IKHMY+VtaED6UGxT5G2xQC2P7DPtJvUrj4A8M+MWh3/GQVwj7IZ+aLgjLBPsrdbLO+WsA+09TQ4Bsbvz7dsSQt15S9PqG0bfSyIbw+1hNBPb/Auj5x9wbRF3G5Pi1Wa6jjMbg+pCoKX1QCtz7NQ/ytpeG1PrFo7uwcz7Q+DL9wmQjKsz4hbTDkv9GyPhg/0UOi5bE+Mb4gDRcFsT7kml8QjS+wPiYvw3b0yK4+un+OgLZGrT7xaC+BZterPhhLB/kWeqo+apA6DOYtqT4TQqfw/PGnPiXcA2OPxaY+m5LMItunpT6Go6l0J5ikPh1//arElaM+BYtNtAugoj4KDzyvXbahPotxzYMj2KA+g1i2gc0EoD7lBecGpneePg==\",\"dtype\":\"float64\",\"shape\":[200]}}},\"id\":\"4a3705d4-a941-4f16-a79f-69f735ab92b3\",\"type\":\"ColumnDataSource\"},{\"attributes\":{\"data_source\":{\"id\":\"4a3705d4-a941-4f16-a79f-69f735ab92b3\",\"type\":\"ColumnDataSource\"},\"glyph\":{\"id\":\"f0a6e818-cbb2-4d86-8b26-c8e3725cb12d\",\"type\":\"Line\"},\"hover_glyph\":null,\"muted_glyph\":null,\"nonselection_glyph\":{\"id\":\"5128175a-1732-4a9f-8985-d07ea1e84a09\",\"type\":\"Line\"},\"selection_glyph\":null,\"view\":{\"id\":\"49d62307-2b85-4d19-9213-0ff4649cbd98\",\"type\":\"CDSView\"}},\"id\":\"ca70cfc5-26ba-4763-bcee-318e0e3368cb\",\"type\":\"GlyphRenderer\"},{\"attributes\":{},\"id\":\"fd021437-00a7-41c4-a23e-9454f9a128a7\",\"type\":\"PanTool\"},{\"attributes\":{\"line_alpha\":0.1,\"line_color\":\"#1f77b4\",\"line_width\":3,\"x\":{\"field\":\"x\"},\"y\":{\"field\":\"y\"}},\"id\":\"5128175a-1732-4a9f-8985-d07ea1e84a09\",\"type\":\"Line\"},{\"attributes\":{},\"id\":\"e81fcbd0-595e-4b43-bfd4-708851879078\",\"type\":\"WheelZoomTool\"},{\"attributes\":{},\"id\":\"8af91ebd-22cd-420f-b6a2-fd52f2ce3d2c\",\"type\":\"ResetTool\"},{\"attributes\":{},\"id\":\"6a15a1b6-9601-4b5e-933c-c12f8e314df9\",\"type\":\"SaveTool\"},{\"attributes\":{\"callback\":null,\"column_names\":[\"x\",\"y\"],\"data\":{\"x\":{\"__ndarray__\":\"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\",\"dtype\":\"float64\",\"shape\":[200]},\"y\":{\"__ndarray__\":\"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\",\"dtype\":\"float64\",\"shape\":[200]}}},\"id\":\"50493752-3bbe-4bb2-8041-06c00a8a71ba\",\"type\":\"ColumnDataSource\"},{\"attributes\":{\"source\":{\"id\":\"4a3705d4-a941-4f16-a79f-69f735ab92b3\",\"type\":\"ColumnDataSource\"}},\"id\":\"49d62307-2b85-4d19-9213-0ff4649cbd98\",\"type\":\"CDSView\"},{\"attributes\":{\"label\":{\"value\":\"\\u03bb=0.001\"},\"renderers\":[{\"id\":\"ca70cfc5-26ba-4763-bcee-318e0e3368cb\",\"type\":\"GlyphRenderer\"}]},\"id\":\"c56e7267-d1f4-432b-a292-eda8af557b22\",\"type\":\"LegendItem\"},{\"attributes\":{},\"id\":\"9791deaf-baf3-4133-af07-cf5d6a5eeeaa\",\"type\":\"BasicTickFormatter\"},{\"attributes\":{\"click_policy\":\"hide\",\"items\":[{\"id\":\"c56e7267-d1f4-432b-a292-eda8af557b22\",\"type\":\"LegendItem\"},{\"id\":\"8b9786bd-49c4-451d-b15a-d39ab2d33b94\",\"type\":\"LegendItem\"},{\"id\":\"6284f07d-d36b-4c44-85cf-b4ff52c55b39\",\"type\":\"LegendItem\"}],\"plot\":{\"id\":\"81b188cb-ad38-49be-bba6-4e58c0d126e0\",\"subtype\":\"Figure\",\"type\":\"Plot\"}},\"id\":\"85a9b327-8f55-43cc-a82a-1a918d8c3d9a\",\"type\":\"Legend\"},{\"attributes\":{\"callback\":null,\"column_names\":[\"x\",\"y\"],\"data\":{\"x\":{\"__ndarray__\":\"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\",\"dtype\":\"float64\",\"shape\":[200]},\"y\":{\"__ndarray__\":\"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\",\"dtype\":\"float64\",\"shape\":[200]}}},\"id\":\"d9a94d0b-48c8-47d6-abfe-f2f8f8ec96ff\",\"type\":\"ColumnDataSource\"},{\"attributes\":{\"line_color\":\"dodgerblue\",\"line_width\":3,\"x\":{\"field\":\"x\"},\"y\":{\"field\":\"y\"}},\"id\":\"6f3862d1-9ff6-4db1-bbaa-eb4b909e03b2\",\"type\":\"Line\"},{\"attributes\":{\"line_alpha\":0.1,\"line_color\":\"#1f77b4\",\"line_width\":3,\"x\":{\"field\":\"x\"},\"y\":{\"field\":\"y\"}},\"id\":\"0a07a8e7-2167-4ff4-a9cf-c5c27a54231d\",\"type\":\"Line\"},{\"attributes\":{\"line_color\":\"red\",\"line_width\":3,\"x\":{\"field\":\"x\"},\"y\":{\"field\":\"y\"}},\"id\":\"1f18a192-5e4e-40a5-9388-1f61b3f6f5ad\",\"type\":\"Line\"},{\"attributes\":{\"data_source\":{\"id\":\"50493752-3bbe-4bb2-8041-06c00a8a71ba\",\"type\":\"ColumnDataSource\"},\"glyph\":{\"id\":\"1f18a192-5e4e-40a5-9388-1f61b3f6f5ad\",\"type\":\"Line\"},\"hover_glyph\":null,\"muted_glyph\":null,\"nonselection_glyph\":{\"id\":\"0a07a8e7-2167-4ff4-a9cf-c5c27a54231d\",\"type\":\"Line\"},\"selection_glyph\":null,\"view\":{\"id\":\"a55090d4-8997-4763-b383-6b5f5d8f7d79\",\"type\":\"CDSView\"}},\"id\":\"451f7118-33d1-4519-8132-27ab33b7b6c9\",\"type\":\"GlyphRenderer\"},{\"attributes\":{\"line_color\":\"green\",\"line_width\":3,\"x\":{\"field\":\"x\"},\"y\":{\"field\":\"y\"}},\"id\":\"f70842bd-fef3-42ba-8b60-333b19c752b2\",\"type\":\"Line\"},{\"attributes\":{\"source\":{\"id\":\"50493752-3bbe-4bb2-8041-06c00a8a71ba\",\"type\":\"ColumnDataSource\"}},\"id\":\"a55090d4-8997-4763-b383-6b5f5d8f7d79\",\"type\":\"CDSView\"},{\"attributes\":{\"label\":{\"value\":\"\\u03bb=0.0001\"},\"renderers\":[{\"id\":\"451f7118-33d1-4519-8132-27ab33b7b6c9\",\"type\":\"GlyphRenderer\"}]},\"id\":\"8b9786bd-49c4-451d-b15a-d39ab2d33b94\",\"type\":\"LegendItem\"},{\"attributes\":{\"data_source\":{\"id\":\"7848d5ea-5cec-4f2a-bc31-43728c14cb14\",\"type\":\"ColumnDataSource\"},\"glyph\":{\"id\":\"6f3862d1-9ff6-4db1-bbaa-eb4b909e03b2\",\"type\":\"Line\"},\"hover_glyph\":null,\"muted_glyph\":null,\"nonselection_glyph\":{\"id\":\"7eae6672-4a5c-4d69-a80e-78b346de780c\",\"type\":\"Line\"},\"selection_glyph\":null,\"view\":{\"id\":\"c9f7b3f6-7075-47e8-aefa-bbe944b3a27e\",\"type\":\"CDSView\"}},\"id\":\"421911b3-fc54-4fca-9244-17041da8d10e\",\"type\":\"GlyphRenderer\"},{\"attributes\":{\"callback\":null,\"column_names\":[\"x\",\"y\"],\"data\":{\"x\":{\"__ndarray__\":\"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\",\"dtype\":\"float64\",\"shape\":[200]},\"y\":{\"__ndarray__\":\"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\",\"dtype\":\"float64\",\"shape\":[200]}}},\"id\":\"061a6ae0-1eb1-4093-ae14-08cde05e478f\",\"type\":\"ColumnDataSource\"},{\"attributes\":{\"data_source\":{\"id\":\"d9a94d0b-48c8-47d6-abfe-f2f8f8ec96ff\",\"type\":\"ColumnDataSource\"},\"glyph\":{\"id\":\"f70842bd-fef3-42ba-8b60-333b19c752b2\",\"type\":\"Line\"},\"hover_glyph\":null,\"muted_glyph\":null,\"nonselection_glyph\":{\"id\":\"aa83ea47-1db2-42ba-9156-d5253b881a84\",\"type\":\"Line\"},\"selection_glyph\":null,\"view\":{\"id\":\"adb3f9b9-8002-4fa1-b2aa-fde465a22f1a\",\"type\":\"CDSView\"}},\"id\":\"e7a57c49-e019-4de0-94b7-9fab0eaf8b2d\",\"type\":\"GlyphRenderer\"},{\"attributes\":{},\"id\":\"ae200b8e-2170-4b0b-afe8-ac0526beb103\",\"type\":\"LinearScale\"},{\"attributes\":{\"line_alpha\":0.1,\"line_color\":\"#1f77b4\",\"line_width\":3,\"x\":{\"field\":\"x\"},\"y\":{\"field\":\"y\"}},\"id\":\"aa83ea47-1db2-42ba-9156-d5253b881a84\",\"type\":\"Line\"},{\"attributes\":{\"source\":{\"id\":\"d9a94d0b-48c8-47d6-abfe-f2f8f8ec96ff\",\"type\":\"ColumnDataSource\"}},\"id\":\"adb3f9b9-8002-4fa1-b2aa-fde465a22f1a\",\"type\":\"CDSView\"},{\"attributes\":{\"label\":{\"value\":\"\\u03bb=0.0002\"},\"renderers\":[{\"id\":\"e7a57c49-e019-4de0-94b7-9fab0eaf8b2d\",\"type\":\"GlyphRenderer\"}]},\"id\":\"6284f07d-d36b-4c44-85cf-b4ff52c55b39\",\"type\":\"LegendItem\"},{\"attributes\":{\"line_alpha\":0.1,\"line_color\":\"#1f77b4\",\"line_width\":3,\"x\":{\"field\":\"x\"},\"y\":{\"field\":\"y\"}},\"id\":\"7eae6672-4a5c-4d69-a80e-78b346de780c\",\"type\":\"Line\"},{\"attributes\":{\"line_alpha\":0.1,\"line_color\":\"#1f77b4\",\"line_width\":3,\"x\":{\"field\":\"x\"},\"y\":{\"field\":\"y\"}},\"id\":\"c8db876c-c569-46a2-8271-0ea6c106c231\",\"type\":\"Line\"},{\"attributes\":{\"label\":{\"value\":\"\\u03bb=0.001\"},\"renderers\":[{\"id\":\"421911b3-fc54-4fca-9244-17041da8d10e\",\"type\":\"GlyphRenderer\"}]},\"id\":\"2b62613f-9077-4fa3-bb1c-6868b00ed3dc\",\"type\":\"LegendItem\"},{\"attributes\":{\"callback\":null},\"id\":\"cb59c550-34d1-4487-b52b-7afe98df79de\",\"type\":\"DataRange1d\"},{\"attributes\":{\"source\":{\"id\":\"7848d5ea-5cec-4f2a-bc31-43728c14cb14\",\"type\":\"ColumnDataSource\"}},\"id\":\"c9f7b3f6-7075-47e8-aefa-bbe944b3a27e\",\"type\":\"CDSView\"},{\"attributes\":{\"plot\":null,\"text\":\"\"},\"id\":\"7de2ffc3-2659-431d-b8d6-8afc43b9d63f\",\"type\":\"Title\"},{\"attributes\":{},\"id\":\"54e4e30a-7037-40a5-8e7c-200924d33446\",\"type\":\"BasicTickFormatter\"},{\"attributes\":{\"callback\":null,\"column_names\":[\"x\",\"y\"],\"data\":{\"x\":{\"__ndarray__\":\"AAAAAAAAAACFn1yIuhkUQIWfXIi6GSRASO+KzJcmLkCFn1yIuhk0QGbHcyopIDlASO+KzJcmPkCUC1E3g5ZBQIWfXIi6GURAdjNo2fGcRkBmx3MqKSBJQFdbf3tgo0tASO+KzJcmTkCcQcuO51RQQJQLUTeDllFAjdXW3x7YUkCFn1yIuhlUQH1p4jBWW1VAdjNo2fGcVkBu/e2Bjd5XQGbHcyopIFlAX5H50sRhWkBXW397YKNbQE8lBST85FxASO+KzJcmXkBAuRB1M2hfQJxBy47nVGBAmCYOY7X1YECUC1E3g5ZhQJHwkwtRN2JAjdXW3x7YYkCJuhm07HhjQIWfXIi6GWRAgYSfXIi6ZEB9aeIwVltlQHlOJQUk/GVAdjNo2fGcZkByGKutvz1nQG797YGN3mdAauIwVlt/aEBmx3MqKSBpQGKstv72wGlAX5H50sRhakBbdjynkgJrQFdbf3tgo2tAU0DCTy5EbEBPJQUk/ORsQEsKSPjJhW1ASO+KzJcmbkBE1M2gZcduQEC5EHUzaG9AHs+ppIAEcECcQcuO51RwQBq07HhOpXBAmCYOY7X1cEAWmS9NHEZxQJQLUTeDlnFAEn5yIermcUCR8JMLUTdyQA9jtfW3h3JAjdXW3x7YckALSPjJhShzQIm6GbTseHNABy07nlPJc0CFn1yIuhl0QAMSfnIhanRAgYSfXIi6dED/9sBG7wp1QH1p4jBWW3VA+9sDG72rdUB5TiUFJPx1QPjARu+KTHZAdjNo2fGcdkD0pYnDWO12QHIYq62/PXdA8IrMlyaOd0Bu/e2Bjd53QOxvD2z0LnhAauIwVlt/eEDoVFJAws94QGbHcyopIHlA5DmVFJBweUBirLb+9sB5QOAe2OhdEXpAX5H50sRhekDdAxu9K7J6QFt2PKeSAntA2ehdkflSe0BXW397YKN7QNXNoGXH83tAU0DCTy5EfEDRsuM5lZR8QE8lBST85HxAzZcmDmM1fUBLCkj4yYV9QMl8aeIw1n1ASO+KzJcmfkDGYay2/nZ+QETUzaBlx35AwkbviswXf0BAuRB1M2h/QL4rMl+auH9AHs+ppIAEgEBdiLoZtCyAQJxBy47nVIBA2/rbAxt9gEAatOx4TqWAQFlt/e2BzYBAmCYOY7X1gEDX3x7Y6B2BQBaZL00cRoFAVVJAwk9ugUCUC1E3g5aBQNPEYay2voFAEn5yIermgUBRN4OWHQ+CQJHwkwtRN4JA0KmkgIRfgkAPY7X1t4eCQE4cxmrrr4JAjdXW3x7YgkDMjudUUgCDQAtI+MmFKINASgEJP7lQg0CJuhm07HiDQMhzKikgoYNABy07nlPJg0BG5ksTh/GDQIWfXIi6GYRAxFht/e1BhEADEn5yIWqEQELLjudUkoRAgYSfXIi6hEDAPbDRu+KEQP/2wEbvCoVAPrDRuyIzhUB9aeIwVluFQLwi86WJg4VA+9sDG72rhUA6lRSQ8NOFQHlOJQUk/IVAuQc2elckhkD4wEbvikyGQDd6V2S+dIZAdjNo2fGchkC17HhOJcWGQPSlicNY7YZAM1+aOIwVh0ByGKutvz2HQLHRuyLzZYdA8IrMlyaOh0AvRN0MWraHQG797YGN3odArbb+9sAGiEDsbw9s9C6IQCspIOEnV4hAauIwVlt/iECpm0HLjqeIQOhUUkDCz4hAJw5jtfX3iEBmx3MqKSCJQKWAhJ9cSIlA5DmVFJBwiUAj86WJw5iJQGKstv72wIlAoWXHcyrpiUDgHtjoXRGKQCDY6F2ROYpAX5H50sRhikCeSgpI+ImKQN0DG70rsopAHL0rMl/aikBbdjynkgKLQJovTRzGKotA2ehdkflSi0AYom4GLXuLQFdbf3tgo4tAlhSQ8JPLi0DVzaBlx/OLQBSHsdr6G4xAU0DCTy5EjECS+dLEYWyMQNGy4zmVlIxAEGz0rsi8jEBPJQUk/OSMQI7eFZkvDY1AzZcmDmM1jUAMUTeDll2NQEsKSPjJhY1AisNYbf2tjUDJfGniMNaNQAg2eldk/o1ASO+KzJcmjkCHqJtBy06OQMZhrLb+do5ABRu9KzKfjkBE1M2gZceOQION3hWZ745AwkbviswXj0AAAAAAAECPQA==\",\"dtype\":\"float64\",\"shape\":[200]},\"y\":{\"__ndarray__\":\"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\",\"dtype\":\"float64\",\"shape\":[200]}}},\"id\":\"6138d8db-edcd-4618-9b7a-0da7f913d057\",\"type\":\"ColumnDataSource\"},{\"attributes\":{\"line_color\":\"red\",\"line_width\":3,\"x\":{\"field\":\"x\"},\"y\":{\"field\":\"y\"}},\"id\":\"f8630cb6-92ae-44cd-bf72-61031c28e24c\",\"type\":\"Line\"},{\"attributes\":{\"items\":[{\"id\":\"2b62613f-9077-4fa3-bb1c-6868b00ed3dc\",\"type\":\"LegendItem\"},{\"id\":\"f36aa366-6243-4715-9ba7-19924c6f560d\",\"type\":\"LegendItem\"},{\"id\":\"23a94314-1f16-4b9e-9ac4-b29823430d6d\",\"type\":\"LegendItem\"}],\"location\":\"bottom_right\",\"plot\":{\"id\":\"150ff058-6b64-4280-8585-85877806b652\",\"subtype\":\"Figure\",\"type\":\"Plot\"}},\"id\":\"f75eb145-5d77-463d-afe6-9a200251a58b\",\"type\":\"Legend\"},{\"attributes\":{\"data_source\":{\"id\":\"061a6ae0-1eb1-4093-ae14-08cde05e478f\",\"type\":\"ColumnDataSource\"},\"glyph\":{\"id\":\"f8630cb6-92ae-44cd-bf72-61031c28e24c\",\"type\":\"Line\"},\"hover_glyph\":null,\"muted_glyph\":null,\"nonselection_glyph\":{\"id\":\"c8db876c-c569-46a2-8271-0ea6c106c231\",\"type\":\"Line\"},\"selection_glyph\":null,\"view\":{\"id\":\"571925d8-1777-439e-ac93-03adb2b7af83\",\"type\":\"CDSView\"}},\"id\":\"98b1b445-dcdf-4545-8550-addd4853a9db\",\"type\":\"GlyphRenderer\"},{\"attributes\":{\"below\":[{\"id\":\"a42ffee0-2282-409e-baf5-01430749f58f\",\"type\":\"LinearAxis\"}],\"left\":[{\"id\":\"69816573-fe4a-4bec-9259-b7fca33026fb\",\"type\":\"LinearAxis\"}],\"plot_height\":300,\"plot_width\":400,\"renderers\":[{\"id\":\"a42ffee0-2282-409e-baf5-01430749f58f\",\"type\":\"LinearAxis\"},{\"id\":\"00863e9e-6447-459c-837d-2c2182cdeadd\",\"type\":\"Grid\"},{\"id\":\"69816573-fe4a-4bec-9259-b7fca33026fb\",\"type\":\"LinearAxis\"},{\"id\":\"1e83f4b6-508a-4611-8316-b6f1fda617ea\",\"type\":\"Grid\"},{\"id\":\"85a9b327-8f55-43cc-a82a-1a918d8c3d9a\",\"type\":\"Legend\"},{\"id\":\"ca70cfc5-26ba-4763-bcee-318e0e3368cb\",\"type\":\"GlyphRenderer\"},{\"id\":\"451f7118-33d1-4519-8132-27ab33b7b6c9\",\"type\":\"GlyphRenderer\"},{\"id\":\"e7a57c49-e019-4de0-94b7-9fab0eaf8b2d\",\"type\":\"GlyphRenderer\"}],\"title\":{\"id\":\"882d6697-4891-4aa8-8a8a-acb4e5688af3\",\"type\":\"Title\"},\"toolbar\":{\"id\":\"e1ea7a0b-2e9a-487c-b0bc-11ea51082871\",\"type\":\"Toolbar\"},\"x_range\":{\"id\":\"8e4ec4cd-f2fa-422d-b1a8-fe1f4a4f17c8\",\"type\":\"DataRange1d\"},\"x_scale\":{\"id\":\"ae200b8e-2170-4b0b-afe8-ac0526beb103\",\"type\":\"LinearScale\"},\"y_range\":{\"id\":\"cb59c550-34d1-4487-b52b-7afe98df79de\",\"type\":\"DataRange1d\"},\"y_scale\":{\"id\":\"72358371-798c-4050-a27a-11bcd8fe58dc\",\"type\":\"LinearScale\"}},\"id\":\"81b188cb-ad38-49be-bba6-4e58c0d126e0\",\"subtype\":\"Figure\",\"type\":\"Plot\"},{\"attributes\":{\"callback\":null,\"column_names\":[\"x\",\"y\"],\"data\":{\"x\":{\"__ndarray__\":\"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\",\"dtype\":\"float64\",\"shape\":[200]},\"y\":{\"__ndarray__\":\"AAAAAAAAAAAizF2KxxepP1ievr5derg/nR5dc5LpwT+Xrh62x07HP4HT7bhLcMw/QPkg5Leo0D8XV3LIrfrSP+BjFpWHL9U/cG9Qg7JI1z9ClyHmiUfZP7LT2wpYLds/+mizDlf73D/s0tipsbLeP+Y+T/hBKuA/npeTBe7w4D+A8Qly3a3hP+EGUWeKYeI/KNdSEmkM4z9mqWLu567jP6uarAxwSeQ/kegkWGXc5D/i5CLWJmjlP0BY0eMO7eU/bw2ccHNr5j+wTMA1puPmP2Y0JOv0Vec/phmXeanC5z+YbpsqCiroP+cU2dVZjOg/x35VDNjp6D+SkI1BwULpPyXWi/JOl+k/7lEUy7fn6T9j7v3ILzTqPyxt0F3ofOo/ZZC8jhDC6j/GKQMT1QPrPxC43nBgQus/ikQCGdt96z/BR7+Aa7brP7h94zo27Os/k71eD14f7D8WH8ARBFDsP2D4mLZHfuw/CojT50aq7D8UcgoYHtTsP1GR7VTo++w/3gHAWL8h7T8YtPqau0XtP6lJHmD0Z+0/IXe+yH+I7T97pNDfcqftP6QMR6jhxO0/PCgBKt/g7T8+wRl+ffvtP3CkmtrNFO4/gIGdneAs7j/gK+FXxUPuPycU2taKWe4/1ntELj9u7j/Nkz7B74HuPwlo8EqplO4/dzHH5nem7j9jYEkYZ7fuP1tviNKBx+4/uE41f9LW7j+//FsFY+XuP8akys888+4/NWko02gA7z9ByL+T7wzvP+RZACvZGO8/lna7TC0k7z+dKR9M8y7vP1GnciAyOe8/S1eXafBC7z8HXFF0NEzvP/lcWj4EVe8/UTVBemVd7z+0CBmTXWXvP5cf+q/xbO8/Ns9WtyZ07z+flCZSAXvvPzZv6e6Fge8/gW2FxLiH7z+ERgDVnY3vP7DCFvA4k+8/baGztY2Y7z8bk0eYn53vP4fLA99xou8/sJ34pwen7z/FfxnqY6vvP/jEJ3eJr+8/cUqF/Xqz7z8nRfAJO7fvP4lPKQnMuu8/7MeESTC+7z8pg2j8acHvP1vKtjd7xO8/TY4n92XH7z/nr5AdLMrvP8sxHnbPzO8/Dh17tVHP7z/32Ot6tNHvP1asWlH50+8/GBZXsCHW7z8oogj9LtjvP6LXFYsi2u8/sdV/nf3b7z8KLXNnwd3vPxp9Dg1v3+8/TVUfpAfh7z+O1NU0jOLvPyR7b7r94+8/Zp3ZI13l7z9I4EtUq+bvP58j2yPp5+8/LTkFYBfp7z+5wjXMNurvPyeNRCJI6+8/N7rtEkzs7z+xBkRGQ+3vP8x2HVwu7u8/JK967A3v7z8EPemH4u/vP6EN4bes8O8/pFAd/2zx7z+G//DZI/LvP2NAl77R8u8/Qdh/HXfz7z8t3pdhFPTvP0TejvCp9O8/RZkYKzj17z9Eiyttv/XvP9xhPA5A9u8/XIh2Ybr27z917vG1LvfvP0Es5lad9+8/myTbiwb47z9QRdeYavjvPwODi77J+O8/PC19OiT57z+ptS1HevnvP0+EQBzM+e8/F/Ge7hn67z8GeprwY/rvPzRMDVKq+u8/kDR5QO367z96DCXnLPvvPyW1OG9p++8/8rPX/6L77z/mgDq+2fvvP5yXxs0N/O8/T1olUD/87z+y1VllbvzvP7tz1Sub/O8/wKqLwMX87z+YtQQ/7vzvP99gb8EU/e8/5fixYDn97z81Y3o0XP3vPxpuTVN9/e8/DWCV0pz97z940K/Guv3vP77S+kLX/e8/B3zhWfL97z/3y+ccDP7vP/P/tZwk/u8/V1gj6Tv+7z+AVkARUv7vP156YCNn/u8/zoUjLXv+7z+1S347jv7vP6UQw1qg/u8/U4KplrH+7z8pS1b6wf7vP8JGYpDR/u8/AVzhYuD+7z8vAWl77v7vP1xuFuP7/u8//4GUogj/7z+jWyHCFP/vP0iwk0kg/+8/59tfQCv/7z9Vs5ytNf/vP7wZCJg//+8/hVwLBkn/7z+YWL/9Uf/vP5Jr8IRa/+8/kjMioWL/7z/rH5NXav/vPyjVP61x/+8/gWbmpnj/7z/cZglJf//vP1DT8peF/+8/G9m2l4v/7z/JeDZMkf/vPzwIIrmW/+8/TJX74Zv/7z9uKhnKoP/vPw==\",\"dtype\":\"float64\",\"shape\":[200]}}},\"id\":\"7848d5ea-5cec-4f2a-bc31-43728c14cb14\",\"type\":\"ColumnDataSource\"},{\"attributes\":{\"source\":{\"id\":\"061a6ae0-1eb1-4093-ae14-08cde05e478f\",\"type\":\"ColumnDataSource\"}},\"id\":\"571925d8-1777-439e-ac93-03adb2b7af83\",\"type\":\"CDSView\"},{\"attributes\":{\"callback\":null,\"tooltips\":[[\"\",\"($x,$y)\"]]},\"id\":\"b5341fc4-92b0-412b-a8e6-51b93843dbb1\",\"type\":\"HoverTool\"},{\"attributes\":{\"label\":{\"value\":\"\\u03bb=0.0001\"},\"renderers\":[{\"id\":\"98b1b445-dcdf-4545-8550-addd4853a9db\",\"type\":\"GlyphRenderer\"}]},\"id\":\"f36aa366-6243-4715-9ba7-19924c6f560d\",\"type\":\"LegendItem\"},{\"attributes\":{\"plot\":null,\"text\":\"Exponential Distribution\"},\"id\":\"882d6697-4891-4aa8-8a8a-acb4e5688af3\",\"type\":\"Title\"},{\"attributes\":{\"line_color\":\"green\",\"line_width\":3,\"x\":{\"field\":\"x\"},\"y\":{\"field\":\"y\"}},\"id\":\"183704ee-8303-4de2-a205-58806aa17c88\",\"type\":\"Line\"},{\"attributes\":{\"children\":[{\"id\":\"81b188cb-ad38-49be-bba6-4e58c0d126e0\",\"subtype\":\"Figure\",\"type\":\"Plot\"},{\"id\":\"150ff058-6b64-4280-8585-85877806b652\",\"subtype\":\"Figure\",\"type\":\"Plot\"}]},\"id\":\"0164e5a9-ad2b-442d-bb9e-93bf1f06d8e5\",\"type\":\"Row\"},{\"attributes\":{\"callback\":null,\"tooltips\":[[\"\",\"($x,$y)\"]]},\"id\":\"a7c6d383-3993-49a7-9642-218d20d06e44\",\"type\":\"HoverTool\"},{\"attributes\":{\"callback\":null},\"id\":\"8e4ec4cd-f2fa-422d-b1a8-fe1f4a4f17c8\",\"type\":\"DataRange1d\"},{\"attributes\":{\"data_source\":{\"id\":\"6138d8db-edcd-4618-9b7a-0da7f913d057\",\"type\":\"ColumnDataSource\"},\"glyph\":{\"id\":\"183704ee-8303-4de2-a205-58806aa17c88\",\"type\":\"Line\"},\"hover_glyph\":null,\"muted_glyph\":null,\"nonselection_glyph\":{\"id\":\"a0b9ac99-fe7e-45cb-b5b1-7c99919b6a6a\",\"type\":\"Line\"},\"selection_glyph\":null,\"view\":{\"id\":\"6376a069-c132-40c6-a985-42a81252b472\",\"type\":\"CDSView\"}},\"id\":\"398b43ec-36e1-4dc1-a0e3-3d441825625d\",\"type\":\"GlyphRenderer\"},{\"attributes\":{\"active_drag\":\"auto\",\"active_inspect\":\"auto\",\"active_scroll\":\"auto\",\"active_tap\":\"auto\",\"tools\":[{\"id\":\"a7c6d383-3993-49a7-9642-218d20d06e44\",\"type\":\"HoverTool\"},{\"id\":\"047c3dee-d34a-458c-98ce-a204c1c473b3\",\"type\":\"PanTool\"},{\"id\":\"e60de7c2-1d2f-447d-83ab-9ca0ee9db80f\",\"type\":\"WheelZoomTool\"},{\"id\":\"caa0aace-aac8-4013-83e1-fbf9d659ad66\",\"type\":\"ResetTool\"},{\"id\":\"bf1a4062-458c-4548-818e-98f63a6f46f1\",\"type\":\"SaveTool\"}]},\"id\":\"e1ea7a0b-2e9a-487c-b0bc-11ea51082871\",\"type\":\"Toolbar\"},{\"attributes\":{\"line_alpha\":0.1,\"line_color\":\"#1f77b4\",\"line_width\":3,\"x\":{\"field\":\"x\"},\"y\":{\"field\":\"y\"}},\"id\":\"a0b9ac99-fe7e-45cb-b5b1-7c99919b6a6a\",\"type\":\"Line\"},{\"attributes\":{\"source\":{\"id\":\"6138d8db-edcd-4618-9b7a-0da7f913d057\",\"type\":\"ColumnDataSource\"}},\"id\":\"6376a069-c132-40c6-a985-42a81252b472\",\"type\":\"CDSView\"},{\"attributes\":{\"label\":{\"value\":\"\\u03bb=0.0002\"},\"renderers\":[{\"id\":\"398b43ec-36e1-4dc1-a0e3-3d441825625d\",\"type\":\"GlyphRenderer\"}]},\"id\":\"23a94314-1f16-4b9e-9ac4-b29823430d6d\",\"type\":\"LegendItem\"}],\"root_ids\":[\"0164e5a9-ad2b-442d-bb9e-93bf1f06d8e5\"]},\"title\":\"Bokeh Application\",\"version\":\"0.12.13\"}};\n",
       "  var render_items = [{\"docid\":\"ae501721-93dd-41e9-a836-65996743339f\",\"elementid\":\"0681c48b-7d47-4fc3-ac5c-e7e560fe3ac7\",\"modelid\":\"0164e5a9-ad2b-442d-bb9e-93bf1f06d8e5\"}];\n",
       "  root.Bokeh.embed.embed_items_notebook(docs_json, render_items);\n",
       "\n",
       "  }\n",
       "  if (root.Bokeh !== undefined) {\n",
       "    embed_document(root);\n",
       "  } else {\n",
       "    var attempts = 0;\n",
       "    var timer = setInterval(function(root) {\n",
       "      if (root.Bokeh !== undefined) {\n",
       "        embed_document(root);\n",
       "        clearInterval(timer);\n",
       "      }\n",
       "      attempts++;\n",
       "      if (attempts > 100) {\n",
       "        console.log(\"Bokeh: ERROR: Unable to run BokehJS code because BokehJS library is missing\")\n",
       "        clearInterval(timer);\n",
       "      }\n",
       "    }, 10, root)\n",
       "  }\n",
       "})(window);"
      ],
      "application/vnd.bokehjs_exec.v0+json": ""
     },
     "metadata": {
      "application/vnd.bokehjs_exec.v0+json": {
       "id": "0164e5a9-ad2b-442d-bb9e-93bf1f06d8e5"
      }
     },
     "output_type": "display_data"
    }
   ],
   "source": [
    "from scipy.stats import expon\n",
    "\n",
    "x = np.linspace(0, 1000, 200)\n",
    "lambda_1 = 0.01\n",
    "lambda_2 = 0.001\n",
    "lambda_3 = 0.002\n",
    "\n",
    "# Tools for plots\n",
    "tools='pan,wheel_zoom,reset,save'\n",
    "\n",
    "# Set up plots\n",
    "fig_1 = Figure(width=400, height=300, tools=[tools,HoverTool(tooltips=[\n",
    "                (\"\", \"($x,$y)\")\n",
    "                ])], title=\"Exponential Distribution\")\n",
    "fig_2 = Figure(width=400, height=300, tools=[tools,HoverTool(tooltips=[\n",
    "                (\"\", \"($x,$y)\")\n",
    "                ])], \n",
    "               y_range=[-0.05, 1.05])\n",
    "\n",
    "fig_1.xaxis.axis_label = 'x'\n",
    "fig_1.yaxis.axis_label = 'f(x,λ)' \n",
    "\n",
    "fig_2.xaxis.axis_label = 'x'\n",
    "fig_2.yaxis.axis_label = 'F(x,λ)'\n",
    "\n",
    "# Figure #1\n",
    "y1 = expon.pdf(x,scale=1/lambda_1)\n",
    "y2 = expon.pdf(x,scale=1/lambda_2)\n",
    "y3 = expon.pdf(x,scale=1/lambda_3)\n",
    "\n",
    "fig_1.line(x, y1, line_width=3, color='dodgerblue',legend=\"λ=0.001\")\n",
    "fig_1.line(x, y2, line_width=3, color='red',legend=\"λ=0.0001\")\n",
    "fig_1.line(x, y3, line_width=3, color='green',legend=\"λ=0.0002\")\n",
    "\n",
    "fig_1.legend.location = \"top_right\"\n",
    "fig_1.legend.click_policy=\"hide\"\n",
    "\n",
    "#Figure #2\n",
    "y4 = expon.cdf(x,scale=1/lambda_1)\n",
    "y5 = expon.cdf(x,scale=1/lambda_2)\n",
    "y6 = expon.cdf(x,scale=1/lambda_3)\n",
    "\n",
    "fig_2.line(x, y4, line_width=3, color='dodgerblue',legend=\"λ=0.001\")\n",
    "fig_2.line(x, y5, line_width=3, color='red',legend=\"λ=0.0001\")\n",
    "fig_2.line(x, y6, line_width=3, color='green',legend=\"λ=0.0002\")\n",
    "fig_2.legend.location = \"bottom_right\"\n",
    "\n",
    "show(row([fig_1, fig_2]))"
   ]
  },
  {
   "cell_type": "markdown",
   "metadata": {},
   "source": [
    "# References"
   ]
  },
  {
   "cell_type": "markdown",
   "metadata": {},
   "source": [
    "http://bebi103.caltech.edu.s3-website-us-east-1.amazonaws.com/2016/tutorials/t3b_probability_stories.html\n",
    "\n",
    "http://students.brown.edu/seeing-theory/probability-distributions/index.html#section1"
   ]
  }
 ],
 "metadata": {
  "kernelspec": {
   "display_name": "Python 3",
   "language": "python",
   "name": "python3"
  },
  "language_info": {
   "codemirror_mode": {
    "name": "ipython",
    "version": 3
   },
   "file_extension": ".py",
   "mimetype": "text/x-python",
   "name": "python",
   "nbconvert_exporter": "python",
   "pygments_lexer": "ipython3",
   "version": "3.6.4"
  }
 },
 "nbformat": 4,
 "nbformat_minor": 2
}
