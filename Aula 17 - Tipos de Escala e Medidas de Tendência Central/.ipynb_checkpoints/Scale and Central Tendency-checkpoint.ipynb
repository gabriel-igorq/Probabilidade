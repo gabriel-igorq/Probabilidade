{
 "cells": [
  {
   "cell_type": "markdown",
   "metadata": {
    "collapsed": true
   },
   "source": [
    "1 Introduction to scales\n",
    "======\n",
    "\n",
    "At its core, statistics is about counting and measuring. In order to do both effectively, we have to define scales on which to base our counts. A scale represents the possible values that a variable can have.\n",
    "\n",
    "**Equal Interval Scales**\n",
    "\n",
    "Equal interval scales are always consistent. Think of the speed of a car. No matter what speed you're traveling at, a difference of five miles per hour is always five miles per hour. The difference between 60 and 55 miles per hour will always be equal to the difference between 10 and five miles per hour.\n",
    "\n",
    "**Logarithmic Scales**\n",
    "\n",
    "Each step on a logarithmic scale represents a different order of magnitude. The Richter scale that measures the strength of earthquakes, for example, is a logarithmic scale. The difference between a 5 and a 6 on the Richter scale is more than the difference between a 4 and 5. This is because each number on the Richter scale represents 10 times the shaking amplitude of the previous number. A 6 on the Richter scale is 10 times more powerful (technically, powerful is the wrong term, but it makes thinking about this easier) than a 5, which is 10 times more powerful than a 4. A 6 is 100 times more powerful than a 4.\n",
    "\n",
    "**Look out!!!**\n",
    "\n",
    "We can calculate the mean of the values on an equal interval scale by adding those values, and then dividing by the total number of values. We could do the same for the values on a non-equal interval scale, but the results wouldn't be meaningful, due to the differences between units.\n",
    "\n",
    "\n",
    "<br>\n",
    "<div class=\"alert alert-info\">\n",
    "<b>Exercise Start.</b>\n",
    "</div>\n",
    "\n",
    "**Description**:\n",
    "\n",
    ">```python\n",
    "car_speeds = [10,20,30,50,20]\n",
    "earthquake_intensities = [2,7,4,5,8]\n",
    "```\n",
    "\n",
    "1. Compute the mean of <span style=\"background-color: #F9EBEA; color:##C0392B\">car_speeds</span>, and assign the result to <span style=\"background-color: #F9EBEA; color:##C0392B\">mean_car_speed</span>.\n",
    "2. Compute the mean of <span style=\"background-color: #F9EBEA; color:##C0392B\">earthquake_intensities</span>, and assign the result to <span style=\"background-color: #F9EBEA; color:##C0392B\">mean_earthquake_intensities</span>. Note that this value will not be meaningful, because we shouldn't average values on a logarithmic scale this way."
   ]
  },
  {
   "cell_type": "raw",
   "metadata": {},
   "source": []
  },
  {
   "cell_type": "code",
   "execution_count": 8,
   "metadata": {},
   "outputs": [],
   "source": [
    "import pandas as pd\n",
    "import numpy as np\n",
    "import matplotlib.pyplot as plt"
   ]
  },
  {
   "cell_type": "code",
   "execution_count": 13,
   "metadata": {},
   "outputs": [
    {
     "data": {
      "text/plain": [
       "26.0"
      ]
     },
     "execution_count": 13,
     "metadata": {},
     "output_type": "execute_result"
    }
   ],
   "source": [
    "#1\n",
    "car_speeds = [10, 20, 30, 50, 20]\n",
    "car = np.array(car_speeds)\n",
    "mean_car_speed = np.mean(car)\n",
    "mean_car_speed"
   ]
  },
  {
   "cell_type": "code",
   "execution_count": 15,
   "metadata": {},
   "outputs": [
    {
     "data": {
      "text/plain": [
       "5.2"
      ]
     },
     "execution_count": 15,
     "metadata": {},
     "output_type": "execute_result"
    }
   ],
   "source": [
    "#2\n",
    "earthquake_intensities = [2,7,4,5,8]\n",
    "mean_earthquake_intensities = np.mean(np.array(earthquake_intensities))\n",
    "mean_earthquake_intensities"
   ]
  },
  {
   "cell_type": "markdown",
   "metadata": {},
   "source": [
    "2. Discrete and continuous scale\n",
    "====\n",
    "\n",
    "Scales can be either **discrete** or **continuous**.\n",
    "\n",
    "Think of someone marking down the number of inches a snail crawls every day. The snail could crawl 1 inch, 2 inches, 1.5 inches, 1.51 inches, or any other number, and it would be a valid observation. This is because inches are on a continuous scale, and even fractions of an inch are possible.\n",
    "\n",
    "Now think of someone counting the number of cars in a parking lot each day. 1 car, 2 cars, and 10 cars are valid measurements, but 1.5 cars isn't valid.\n",
    "\n",
    "Half of a car isn't a meaningful quantity, because cars are discrete. You can't have 52% of a car - you either have a car, or you don't.\n",
    "\n",
    "You can still average items on discrete scales, though. You could say  <span style=\"background-color: #F9EBEA; color:##C0392B\">\"1.75 cars use this parking lot each day, on average.\"</span> Any daily value for number of cars, however, would need to be a whole number.\n",
    "\n",
    "\n",
    "<br>\n",
    "<div class=\"alert alert-info\">\n",
    "<b>Exercise Start.</b>\n",
    "</div>\n",
    "\n",
    "**Description**:\n",
    "\n",
    ">```python\n",
    "day_numbers = [1,2,3,4,5,6,7]\n",
    "snail_crawl_length = [.5,2,5,10,1,.25,4]\n",
    "cars_in_parking_lot = [5,6,4,2,1,7,8]\n",
    "```\n",
    "\n",
    "\n",
    "1. Make a line plot with <span style=\"background-color: #F9EBEA; color:##C0392B\">day_numbers</span> on the x axis and <span style=\"background-color: #F9EBEA; color:##C0392B\">snail_crawl_length</span> on the y axis.\n",
    "2. Make a line plot with <span style=\"background-color: #F9EBEA; color:##C0392B\">day_numbers</span> on the x axis and <span style=\"background-color: #F9EBEA; color:##C0392B\">cars_in_parking_lot</span> on the y axis."
   ]
  },
  {
   "cell_type": "markdown",
   "metadata": {},
   "source": [
    "# Revisar como colocar parâmetros no gráfico, como título, eixos e tals"
   ]
  },
  {
   "cell_type": "code",
   "execution_count": 17,
   "metadata": {},
   "outputs": [
    {
     "data": {
      "image/png": "[encoded data removed]",
      "text/plain": [
       "<matplotlib.figure.Figure at 0x1890729ef28>"
      ]
     },
     "metadata": {},
     "output_type": "display_data"
    }
   ],
   "source": [
    "#1\n",
    "day_numbers = [1,2,3,4,5,6,7]\n",
    "snail_crawl_length = [.5,2,5,10,1,.25,4]\n",
    "plt.plot(day_numbers, snail_crawl_length)\n",
    "plt.show()"
   ]
  },
  {
   "cell_type": "code",
   "execution_count": 18,
   "metadata": {},
   "outputs": [
    {
     "data": {
      "image/png": "[encoded data removed]",
      "text/plain": [
       "<matplotlib.figure.Figure at 0x18907402048>"
      ]
     },
     "metadata": {},
     "output_type": "display_data"
    }
   ],
   "source": [
    "#2\n",
    "day_numbers = [1,2,3,4,5,6,7]\n",
    "cars_in_parking_lot = [5,6,4,2,1,7,8]\n",
    "plt.plot(day_numbers, cars_in_parking_lot)\n",
    "plt.show()"
   ]
  },
  {
   "cell_type": "markdown",
   "metadata": {},
   "source": [
    "3. Understanding Scale Starting Points\n",
    "===\n",
    "\n",
    "Some scales use the zero value in different ways. Think of the number of cars in a parking lot. Zero cars in the lot means that there are absolutely no cars at all, so absolute zero is at 0 cars. You can't have negative cars.\n",
    "\n",
    "Now, think of degrees Fahrenheit. Zero degrees doesn't mean that there isn't any warmth; the degree scale can also be negative, and absolute zero (when there is no warmth at all) is at -459.67 degrees.\n",
    "\n",
    "Scales with absolute zero points that aren't at 0 don't enable us to take meaningful ratios. For example, if four cars parked in the lot yesterday and eight park today, I can safely say that twice as many cars are in the lot today.\n",
    "\n",
    "However, if it was 32 degrees Fahrenheit yesterday, and it's 64 degrees today, I can't say that it's twice as warm today as yesterday.\n",
    "\n",
    "\n",
    "<br>\n",
    "<div class=\"alert alert-info\">\n",
    "<b>Exercise Start.</b>\n",
    "</div>\n",
    "\n",
    "**Description**:\n",
    "\n",
    ">```python\n",
    "fahrenheit_degrees = [32, 64, 78, 102]\n",
    "yearly_town_population = [100,102,103,110,105,120]\n",
    "```\n",
    "tip: use list comprehension\n",
    "\n",
    "\n",
    "1. Convert the values in <span style=\"background-color: #F9EBEA; color:##C0392B\">fahrenheit_degrees</span> so that absolute zero is at the value 0. If you think this is already the case, don't change anything. Assign the result to <span style=\"background-color: #F9EBEA; color:##C0392B\">degrees_zero</span>.\n",
    "2. Convert the values in <span style=\"background-color: #F9EBEA; color:##C0392B\">yearly_town_population</span> so that absolute zero is at the value 0. If you think this is already the case, don't change anything. Assign the result to <span style=\"background-color: #F9EBEA; color:##C0392B\">population_zero.</span>"
   ]
  },
  {
   "cell_type": "code",
   "execution_count": 72,
   "metadata": {},
   "outputs": [
    {
     "data": {
      "text/plain": [
       "[273.15, 290.9277777777778, 298.7055555555556, 312.03888888888895]"
      ]
     },
     "execution_count": 72,
     "metadata": {},
     "output_type": "execute_result"
    }
   ],
   "source": [
    "#1\n",
    "fahrenheit_degrees = [32, 64, 78, 102]\n",
    "degrees_zero = []\n",
    "for i in fahrenheit_degrees:\n",
    "    k = (i+459.67)*5/9\n",
    "    degrees_zero.append(k)\n",
    "    \n",
    "degrees_zero"
   ]
  },
  {
   "cell_type": "code",
   "execution_count": 73,
   "metadata": {},
   "outputs": [
    {
     "data": {
      "text/plain": [
       "[100, 102, 103, 110, 105, 120]"
      ]
     },
     "execution_count": 73,
     "metadata": {},
     "output_type": "execute_result"
    }
   ],
   "source": [
    "#2\n",
    "yearly_town_population = [100,102,103,110,105,120]\n",
    "population_zero = yearly_town_population\n",
    "population_zero"
   ]
  },
  {
   "cell_type": "markdown",
   "metadata": {},
   "source": [
    "4. Working With Ordinal Scales\n",
    "===\n",
    "\n",
    "So far, we've looked at equal interval and discrete scales, where all of the values are numbers. We can also have ordinal scales, where items are ordered by rank. For example, we could ask people how many cigarettes they smoke per day, and the answers could be \"none,\" \"a few,\" \"some,\" or \"a lot.\" These answers don't map exactly to numbers of cigarettes, but we know that \"a few\" is more than \"none.\"\n",
    "\n",
    "This is an ordinal rating scale. We can assign numbers to the answers in a logical order to make them easier to work with. For example, we could map 0 to \"none,\" 1 to \"a few,\" 2 to \"some,\" and so on.\n",
    "\n",
    "\n",
    "<br>\n",
    "<div class=\"alert alert-info\">\n",
    "<b>Exercise Start.</b>\n",
    "</div>\n",
    "\n",
    "**Description**:\n",
    "\n",
    ">```python\n",
    "# Results from our survey on how many cigarettes people smoke per day\n",
    "survey_responses = [\"none\", \"some\", \"a lot\", \"none\", \"a few\", \"none\", \"none\"]\n",
    "survey_scale = [\"none\", \"a few\", \"some\", \"a lot\"]\n",
    "```\n",
    "tip: use list comprehension\n",
    "\n",
    "\n",
    "1. In the following code block, assign a number to each survey response that corresponds with its position on the scale (<span style=\"background-color: #F9EBEA; color:##C0392B\">\"none\"</span> is <span style=\"background-color: #F9EBEA; color:##C0392B\">0</span>, and so on).\n",
    "2. Compute the average value of all the survey responses, and assign it to <span style=\"background-color: #F9EBEA; color:##C0392B\">average_smoking</span>."
   ]
  },
  {
   "cell_type": "markdown",
   "metadata": {},
   "source": [
    "# Refazer de maneira mais simples"
   ]
  },
  {
   "cell_type": "code",
   "execution_count": 76,
   "metadata": {},
   "outputs": [
    {
     "name": "stdout",
     "output_type": "stream",
     "text": [
      "dict_values([0, 1, 2, 3])\n"
     ]
    }
   ],
   "source": [
    "#1\n",
    "survey_scale = [\"none\", \"a few\", \"some\", \"a lot\"]\n",
    "rank = {'none': 0, 'a few': 1, 'some': 2, 'a lot': 3}"
   ]
  },
  {
   "cell_type": "code",
   "execution_count": 106,
   "metadata": {},
   "outputs": [
    {
     "data": {
      "text/plain": [
       "0.8571428571428571"
      ]
     },
     "execution_count": 106,
     "metadata": {},
     "output_type": "execute_result"
    }
   ],
   "source": [
    "#2\n",
    "survey_responses = [\"none\", \"some\", \"a lot\", \"none\", \"a few\", \"none\", \"none\"]\n",
    "aux = 0\n",
    "tamanho = 0\n",
    "for key, value in rank.items():\n",
    "    for i in survey_responses:\n",
    "        if i == key:\n",
    "            tamanho += 1\n",
    "            aux += value\n",
    "            \n",
    "average_smoking = aux/tamanho\n",
    "average_smoking"
   ]
  },
  {
   "cell_type": "markdown",
   "metadata": {},
   "source": [
    "5. Grouping Values with Categorical Scales\n",
    "===\n",
    "\n",
    "We can also have categorical scales, which group values into general categories. One example is gender, which can be male or female. Unlike ordinal scales, categorical scales don't have an order. In our gender example, for instance, one category isn't greater than or less than the other.\n",
    "\n",
    "Categories are common in data science. You'll typically use them to split data into groups.\n",
    "\n",
    "\n",
    "<br>\n",
    "<div class=\"alert alert-info\">\n",
    "<b>Exercise Start.</b>\n",
    "</div>\n",
    "\n",
    "**Description**:\n",
    "\n",
    ">```python\n",
    "gender = [\"male\", \"female\", \"female\", \"male\", \"male\", \"female\"]\n",
    "savings = [1200, 5000, 3400, 2400, 2800, 4100]\n",
    "```\n",
    "tip: use list comprehension\n",
    "\n",
    "1. Compute the average savings for everyone who is <span style=\"background-color: #F9EBEA; color:##C0392B\">\"male\"</span>. Assign the result to <span style=\"background-color: #F9EBEA; color:##C0392B\">\"male_savings\"</span>.\n",
    "2. Compute the average savings for everyone who is <span style=\"background-color: #F9EBEA; color:##C0392B\">\"female\"</span>. Assign the result to <span style=\"background-color: #F9EBEA; color:##C0392B\">\"female_savings\"</span>.\n",
    "\n"
   ]
  },
  {
   "cell_type": "code",
   "execution_count": 136,
   "metadata": {},
   "outputs": [
    {
     "name": "stdout",
     "output_type": "stream",
     "text": [
      "6400\n",
      "12500\n"
     ]
    }
   ],
   "source": [
    "gender = [\"male\", \"female\", \"female\", \"male\", \"male\", \"female\"]\n",
    "savings = [1200, 5000, 3400, 2400, 2800, 4100]\n",
    "male_savings = 0\n",
    "female_savings = 0\n",
    "tamanho = len(gender)\n",
    "for i in range (0, tamanho):\n",
    "    if gender[i] == 'male':\n",
    "        male_savings += savings[i]\n",
    "    else:\n",
    "        female_savings += savings[i]\n",
    "        \n",
    "print(male_savings)\n",
    "print(female_savings)"
   ]
  },
  {
   "cell_type": "markdown",
   "metadata": {},
   "source": [
    "6. Visualizing Counts with Frequency Histograms\n",
    "===\n",
    "\n",
    "Remember how statistics is all about counting? A **frequency histogram** is a type of plot that helps us visualize counts of data. These plots tally how many times each value occurs in a list, then graph the values on the x-axis and the counts on the y-axis. **Frequency histograms** give us a better understanding of where values fall within a data set.\n",
    "\n"
   ]
  },
  {
   "cell_type": "code",
   "execution_count": 127,
   "metadata": {},
   "outputs": [
    {
     "data": {
      "text/html": [
       "<div>\n",
       "<style scoped>\n",
       "    .dataframe tbody tr th:only-of-type {\n",
       "        vertical-align: middle;\n",
       "    }\n",
       "\n",
       "    .dataframe tbody tr th {\n",
       "        vertical-align: top;\n",
       "    }\n",
       "\n",
       "    .dataframe thead th {\n",
       "        text-align: right;\n",
       "    }\n",
       "</style>\n",
       "<table border=\"1\" class=\"dataframe\">\n",
       "  <thead>\n",
       "    <tr style=\"text-align: right;\">\n",
       "      <th></th>\n",
       "      <th>id</th>\n",
       "      <th>industry</th>\n",
       "      <th>country</th>\n",
       "      <th>city</th>\n",
       "    </tr>\n",
       "  </thead>\n",
       "  <tbody>\n",
       "    <tr>\n",
       "      <th>0</th>\n",
       "      <td>10001</td>\n",
       "      <td>Agriculture</td>\n",
       "      <td>United States</td>\n",
       "      <td>Davis</td>\n",
       "    </tr>\n",
       "    <tr>\n",
       "      <th>1</th>\n",
       "      <td>10002</td>\n",
       "      <td>Arts &amp; Education</td>\n",
       "      <td>Australia</td>\n",
       "      <td>Perth</td>\n",
       "    </tr>\n",
       "    <tr>\n",
       "      <th>2</th>\n",
       "      <td>10003</td>\n",
       "      <td>Arts &amp; Education</td>\n",
       "      <td>Austria</td>\n",
       "      <td>Lieboch</td>\n",
       "    </tr>\n",
       "    <tr>\n",
       "      <th>3</th>\n",
       "      <td>10004</td>\n",
       "      <td>Arts &amp; Education</td>\n",
       "      <td>Brazil</td>\n",
       "      <td>São Paulo</td>\n",
       "    </tr>\n",
       "    <tr>\n",
       "      <th>4</th>\n",
       "      <td>10005</td>\n",
       "      <td>Arts &amp; Education</td>\n",
       "      <td>Canada</td>\n",
       "      <td>Georgetown</td>\n",
       "    </tr>\n",
       "  </tbody>\n",
       "</table>\n",
       "</div>"
      ],
      "text/plain": [
       "      id          industry        country        city\n",
       "0  10001       Agriculture  United States       Davis\n",
       "1  10002  Arts & Education      Australia       Perth\n",
       "2  10003  Arts & Education        Austria     Lieboch\n",
       "3  10004  Arts & Education         Brazil   São Paulo\n",
       "4  10005  Arts & Education         Canada  Georgetown"
      ]
     },
     "execution_count": 127,
     "metadata": {},
     "output_type": "execute_result"
    }
   ],
   "source": [
    "import pandas as pd\n",
    "\n",
    "students = pd.read_csv('ead.csv')\n",
    "students.head()"
   ]
  },
  {
   "cell_type": "code",
   "execution_count": 128,
   "metadata": {},
   "outputs": [
    {
     "data": {
      "image/png": "[encoded data removed]",
      "text/plain": [
       "<matplotlib.figure.Figure at 0x189073ef7b8>"
      ]
     },
     "metadata": {},
     "output_type": "display_data"
    }
   ],
   "source": [
    "# seaborn is commonly imported as `sns`.\n",
    "import matplotlib.pyplot as plt\n",
    "import seaborn as sns\n",
    "%matplotlib inline\n",
    "\n",
    "#to switch to seaborn defaults, simply call the set() function.\n",
    "sns.set()\n",
    "\n",
    "plt.figure(figsize=(10, 8))\n",
    "\n",
    "\n",
    "# The four preset contexts, in order of relative size, are paper, notebook, talk, and poster\n",
    "sns.set_context(\"talk\")\n",
    "\n",
    "# plot a histogram based on categorical variables\n",
    "sns.countplot(students['country'])\n",
    "\n",
    "# rotate the axis\n",
    "plt.xticks(rotation=90)\n",
    "\n",
    "plt.show()"
   ]
  },
  {
   "cell_type": "markdown",
   "metadata": {},
   "source": [
    "7. Measuring Data Skew\n",
    "===\n",
    "\n",
    "Now that you know how to make histograms, did you notice how the plots have \"shapes?\"\n",
    "\n",
    "These shapes are important because they can show us the distributional characteristics of the data. The first characteristic we'll look at is <span style=\"background-color: #F9EBEA; color:##C0392B\">skew</span>.\n",
    "\n",
    "Skew refers to asymmetry in the data. When data is concentrated on the right side of the histogram, for example, we say it has a <span style=\"background-color: #F9EBEA; color:##C0392B\">negative skew</span>. When the data is concentrated on the left, we say it has a <span style=\"background-color: #F9EBEA; color:##C0392B\">positive skew</span>.\n",
    "\n",
    "We can measure the level of skew with the skew function. A positive value indicates a positive skew, a negative value indicates a negative skew, and a value close to zero indicates no skew."
   ]
  },
  {
   "cell_type": "code",
   "execution_count": 129,
   "metadata": {},
   "outputs": [
    {
     "data": {
      "text/plain": [
       "6.109103958619247"
      ]
     },
     "execution_count": 129,
     "metadata": {},
     "output_type": "execute_result"
    }
   ],
   "source": [
    "# We can test how skewed a distribution is using the skew function.\n",
    "# A positive value means positive skew, \n",
    "# a negative value means negative skew, and close to zero means no skew.\n",
    "from scipy.stats import skew\n",
    "\n",
    "skewness = skew(students['country'].value_counts())\n",
    "skewness"
   ]
  },
  {
   "cell_type": "markdown",
   "metadata": {},
   "source": [
    "8. Checking for Outliers with Kurtosis\n",
    "==\n",
    "\n",
    "In probability theory and statistics, kurtosis (from Greek: κυρτός, kyrtos or kurtos, meaning \"curved, arching\") is a measure of the \"tailedness\" of the probability distribution of a real-valued random variable. In a similar way to the concept of skewness, kurtosis is a descriptor of the shape of a probability distribution and, just as for skewness, there are different ways of quantifying it for a theoretical distribution and corresponding ways of estimating it from a sample from a population. Depending on the particular measure of kurtosis that is used, there are various interpretations of kurtosis, and of how particular measures should be interpreted.\n",
    "\n",
    "The kurtosis of any univariate normal distribution is 3. It is common to compare the kurtosis of a distribution to this value. Distributions with kurtosis less than 3 are said to be platykurtic, although this does not imply the distribution is \"flat-topped\" as sometimes reported. Rather, it means the distribution produces fewer and less extreme outliers than does the normal distribution. An example of a platykurtic distribution is the uniform distribution, which does not produce outliers. Distributions with kurtosis greater than 3 are said to be leptokurtic. An example of a leptokurtic distribution is the Laplace distribution, which has tails that asymptotically approach zero more slowly than a Gaussian, and therefore produces more outliers than the normal distribution. It is also common practice to use an adjusted version of Pearson's kurtosis, the excess kurtosis, which is the kurtosis minus 3, to provide the comparison to the normal distribution. Some authors use \"kurtosis\" by itself to refer to the excess kurtosis. \n"
   ]
  },
  {
   "cell_type": "code",
   "execution_count": 137,
   "metadata": {},
   "outputs": [
    {
     "data": {
      "text/plain": [
       "37.93760879517695"
      ]
     },
     "execution_count": 137,
     "metadata": {},
     "output_type": "execute_result"
    }
   ],
   "source": [
    "# We can measure kurtosis with the kurtosis function.\n",
    "# Negative values indicate platykurtic distributions, positive values indicate\n",
    "# leptokurtic distributions, and values near 0 are mesokurtic.\n",
    "\n",
    "# platykurtic (< 0) = produces fewer and less extreme outliers than does the normal distribution\n",
    "# leptokurtic (> 0) = produces more outliers than the normal distribution\n",
    "\n",
    "from scipy.stats import kurtosis\n",
    "\n",
    "kurtosiness = kurtosis(students['country'].value_counts())\n",
    "kurtosiness\n"
   ]
  },
  {
   "cell_type": "code",
   "execution_count": 138,
   "metadata": {},
   "outputs": [],
   "source": [
    "import numpy as np\n",
    "\n",
    "# size of sample\n",
    "N = 1000\n",
    "\n",
    "# uniform sample\n",
    "uniform_sample = np.array(\n",
    "    [\n",
    "        np.random.uniform(low=1, high=100, size=N)\n",
    "  ]\n",
    ")\n",
    "\n",
    "# normal sample\n",
    "normal_sample = np.array([\n",
    "    np.random.normal(2,0.5,N)\n",
    "])\n",
    "\n",
    "# intermediate sample\n",
    "meso_sample = np.array([60, 65, 63, 67, 68, 68, 69, 70, 71, 72, 77])\n",
    "\n",
    "\n",
    "# sample with outliers\n",
    "outlier_sample = np.array([60, 60, 61, 62, 63, 61, 60, 60, 61, 602, 63])"
   ]
  },
  {
   "cell_type": "code",
   "execution_count": 139,
   "metadata": {},
   "outputs": [
    {
     "name": "stdout",
     "output_type": "stream",
     "text": [
      "Kurtosis values \n",
      "Normal sample:  0.0 \n",
      "Uniform sample:  0.0 \n",
      "Meso sample:  2.91356873618277 \n",
      "Outlier sample:  9.099146174400541\n"
     ]
    },
    {
     "data": {
      "image/png": "[encoded data removed]",
      "text/plain": [
       "<matplotlib.figure.Figure at 0x18909ab6358>"
      ]
     },
     "metadata": {},
     "output_type": "display_data"
    }
   ],
   "source": [
    "fig, ax = plt.subplots(figsize=(10,5), ncols=2, nrows=2)\n",
    "# fig, (ax1, ax2, ax3) = plt.subplots(figsize=(10,5), ncols=3, nrows=1)\n",
    "\n",
    "# organize space among figures\n",
    "fig.tight_layout()\n",
    "\n",
    "# main title\n",
    "plt.suptitle(\"Checking for Outliers with Kurtosis\", \n",
    "             fontsize=20,\n",
    "            y = 1.09)\n",
    "\n",
    "# title margin for each figure\n",
    "y_title_margin = 1\n",
    "\n",
    "### Titles of subplots\n",
    "ax[0][0].set_title(\"Normal Sample (kurtosis = -3.0)\", y = y_title_margin, fontsize=12)\n",
    "ax[0][1].set_title(\"Uniform Sample (kurtosis = -3.0)\",y = y_title_margin, fontsize=12)\n",
    "ax[1][0].set_title(\"Meso Sample (kurtosis = -0.08)\",y = y_title_margin, fontsize=12)\n",
    "ax[1][1].set_title(\"Outlier Sample (kurtosis = 6.09)\",y = y_title_margin, fontsize=12)\n",
    "\n",
    "\n",
    "sns.distplot(normal_sample, kde = False, ax=ax[0][0])\n",
    "sns.distplot(uniform_sample, kde = False, ax=ax[0][1])\n",
    "sns.distplot(meso_sample, kde = False, ax=ax[1][0])\n",
    "sns.distplot(outlier_sample, kde = False, ax=ax[1][1])\n",
    "\n",
    "print('Kurtosis values',\n",
    "      '\\nNormal sample: ', kurtosis(normal_sample,fisher=False)[0],\n",
    "      '\\nUniform sample: ', kurtosis(uniform_sample,fisher=False)[0],\n",
    "      '\\nMeso sample: ', kurtosis(meso_sample,fisher=False),\n",
    "      '\\nOutlier sample: ', kurtosis(outlier_sample,fisher=False))\n",
    "\n",
    "plt.show()"
   ]
  },
  {
   "cell_type": "markdown",
   "metadata": {},
   "source": [
    "<br>\n",
    "<div class=\"alert alert-info\">\n",
    "<b>Exercise Start.</b>\n",
    "</div>\n",
    "\n",
    "**Description**:\n",
    "\n",
    "1. Import the three sheets from <span style=\"background-color: #F9EBEA; color:##C0392B\">FMC_I.xlsx</span> file.\n",
    "2. Analyze the <span style=\"background-color: #F9EBEA; color:##C0392B\">skew</span> and <span style=\"background-color: #F9EBEA; color:##C0392B\">kurtosis</span> properties for each sheet using <span style=\"background-color: #F9EBEA; color:##C0392B\">scipy.stats</span> and <span style=\"background-color: #F9EBEA; color:##C0392B\">seaborn</span>. \n",
    "3. Use <span style=\"background-color: #F9EBEA; color:##C0392B\">matplotlib.axes.Axes.axvline</span> to print mean and median values under FMC classes.\n"
   ]
  },
  {
   "cell_type": "code",
   "execution_count": 140,
   "metadata": {
    "scrolled": true
   },
   "outputs": [
    {
     "name": "stdout",
     "output_type": "stream",
     "text": [
      "['FMC_I_246T34.csv', 'FMC_I_246N12', 'FMC_I_246M56']\n"
     ]
    }
   ],
   "source": [
    "# Import pandas\n",
    "import pandas as pd\n",
    "\n",
    "# source\n",
    "arquivo = 'FMC_I.xlsx'\n",
    "\n",
    "# create a dataframe from a excel file\n",
    "excel = pd.ExcelFile(arquivo)\n",
    "\n",
    "# print sheet names\n",
    "print(excel.sheet_names)\n",
    "\n",
    "# class of FMC_I in 2017.1\n",
    "T34 = excel.parse(0)\n",
    "N12 = excel.parse(1)\n",
    "M56 = excel.parse(2)"
   ]
  },
  {
   "cell_type": "code",
   "execution_count": 141,
   "metadata": {},
   "outputs": [
    {
     "data": {
      "text/html": [
       "<div>\n",
       "<style scoped>\n",
       "    .dataframe tbody tr th:only-of-type {\n",
       "        vertical-align: middle;\n",
       "    }\n",
       "\n",
       "    .dataframe tbody tr th {\n",
       "        vertical-align: top;\n",
       "    }\n",
       "\n",
       "    .dataframe thead th {\n",
       "        text-align: right;\n",
       "    }\n",
       "</style>\n",
       "<table border=\"1\" class=\"dataframe\">\n",
       "  <thead>\n",
       "    <tr style=\"text-align: right;\">\n",
       "      <th></th>\n",
       "      <th>Reposição</th>\n",
       "      <th>Média</th>\n",
       "      <th>Faltas</th>\n",
       "      <th>Estado</th>\n",
       "      <th>Id_Aluno</th>\n",
       "    </tr>\n",
       "  </thead>\n",
       "  <tbody>\n",
       "    <tr>\n",
       "      <th>5</th>\n",
       "      <td>t</td>\n",
       "      <td>4.3</td>\n",
       "      <td>8</td>\n",
       "      <td>REPROVADO</td>\n",
       "      <td>21c28a001961316ab166075b5971ed7e</td>\n",
       "    </tr>\n",
       "    <tr>\n",
       "      <th>6</th>\n",
       "      <td>f</td>\n",
       "      <td>5.2</td>\n",
       "      <td>10</td>\n",
       "      <td>APROVADO POR NOTA</td>\n",
       "      <td>98ff1faf5587c82092ec3759f0c0306d</td>\n",
       "    </tr>\n",
       "    <tr>\n",
       "      <th>7</th>\n",
       "      <td>f</td>\n",
       "      <td>3.2</td>\n",
       "      <td>20</td>\n",
       "      <td>REPROVADO</td>\n",
       "      <td>3c24823718e1d236adc4c08135f69008</td>\n",
       "    </tr>\n",
       "    <tr>\n",
       "      <th>8</th>\n",
       "      <td>f</td>\n",
       "      <td>6.2</td>\n",
       "      <td>4</td>\n",
       "      <td>APROVADO POR NOTA</td>\n",
       "      <td>ad8bcebd60742bab0abea6ba172aa256</td>\n",
       "    </tr>\n",
       "    <tr>\n",
       "      <th>9</th>\n",
       "      <td>f</td>\n",
       "      <td>0.0</td>\n",
       "      <td>72</td>\n",
       "      <td>REPROVADO POR MÉDIA E POR FALTAS</td>\n",
       "      <td>5f3456e7f78b73232c8fc984e66cdf3f</td>\n",
       "    </tr>\n",
       "  </tbody>\n",
       "</table>\n",
       "</div>"
      ],
      "text/plain": [
       "  Reposição  Média  Faltas                            Estado  \\\n",
       "5         t    4.3       8                         REPROVADO   \n",
       "6         f    5.2      10                 APROVADO POR NOTA   \n",
       "7         f    3.2      20                         REPROVADO   \n",
       "8         f    6.2       4                 APROVADO POR NOTA   \n",
       "9         f    0.0      72  REPROVADO POR MÉDIA E POR FALTAS   \n",
       "\n",
       "                           Id_Aluno  \n",
       "5  21c28a001961316ab166075b5971ed7e  \n",
       "6  98ff1faf5587c82092ec3759f0c0306d  \n",
       "7  3c24823718e1d236adc4c08135f69008  \n",
       "8  ad8bcebd60742bab0abea6ba172aa256  \n",
       "9  5f3456e7f78b73232c8fc984e66cdf3f  "
      ]
     },
     "execution_count": 141,
     "metadata": {},
     "output_type": "execute_result"
    }
   ],
   "source": [
    "T34 = T34[T34.Estado != 'CANCELADO']\n",
    "T34.head()"
   ]
  },
  {
   "cell_type": "code",
   "execution_count": 142,
   "metadata": {},
   "outputs": [
    {
     "data": {
      "text/html": [
       "<div>\n",
       "<style scoped>\n",
       "    .dataframe tbody tr th:only-of-type {\n",
       "        vertical-align: middle;\n",
       "    }\n",
       "\n",
       "    .dataframe tbody tr th {\n",
       "        vertical-align: top;\n",
       "    }\n",
       "\n",
       "    .dataframe thead th {\n",
       "        text-align: right;\n",
       "    }\n",
       "</style>\n",
       "<table border=\"1\" class=\"dataframe\">\n",
       "  <thead>\n",
       "    <tr style=\"text-align: right;\">\n",
       "      <th></th>\n",
       "      <th>Reposição</th>\n",
       "      <th>Média</th>\n",
       "      <th>Faltas</th>\n",
       "      <th>Estado</th>\n",
       "      <th>Id_Aluno</th>\n",
       "    </tr>\n",
       "  </thead>\n",
       "  <tbody>\n",
       "    <tr>\n",
       "      <th>8</th>\n",
       "      <td>f</td>\n",
       "      <td>0.0</td>\n",
       "      <td>92</td>\n",
       "      <td>REPROVADO POR MÉDIA E POR FALTAS</td>\n",
       "      <td>7b4497ded9c6c48fd05c2706de078302</td>\n",
       "    </tr>\n",
       "    <tr>\n",
       "      <th>9</th>\n",
       "      <td>f</td>\n",
       "      <td>1.0</td>\n",
       "      <td>24</td>\n",
       "      <td>REPROVADO</td>\n",
       "      <td>dc27c0f2b4d9cf0b7cc8c3dfd8566098</td>\n",
       "    </tr>\n",
       "    <tr>\n",
       "      <th>10</th>\n",
       "      <td>f</td>\n",
       "      <td>0.0</td>\n",
       "      <td>72</td>\n",
       "      <td>REPROVADO POR MÉDIA E POR FALTAS</td>\n",
       "      <td>0d669999d729144e354511e8fc929682</td>\n",
       "    </tr>\n",
       "    <tr>\n",
       "      <th>11</th>\n",
       "      <td>f</td>\n",
       "      <td>5.1</td>\n",
       "      <td>0</td>\n",
       "      <td>APROVADO POR NOTA</td>\n",
       "      <td>bd67a9513b9d96f8db5f8220d025890b</td>\n",
       "    </tr>\n",
       "    <tr>\n",
       "      <th>12</th>\n",
       "      <td>f</td>\n",
       "      <td>6.7</td>\n",
       "      <td>0</td>\n",
       "      <td>APROVADO POR NOTA</td>\n",
       "      <td>0a0f722eb4c12accfef6da2680e4c342</td>\n",
       "    </tr>\n",
       "  </tbody>\n",
       "</table>\n",
       "</div>"
      ],
      "text/plain": [
       "   Reposição  Média  Faltas                            Estado  \\\n",
       "8          f    0.0      92  REPROVADO POR MÉDIA E POR FALTAS   \n",
       "9          f    1.0      24                         REPROVADO   \n",
       "10         f    0.0      72  REPROVADO POR MÉDIA E POR FALTAS   \n",
       "11         f    5.1       0                 APROVADO POR NOTA   \n",
       "12         f    6.7       0                 APROVADO POR NOTA   \n",
       "\n",
       "                            Id_Aluno  \n",
       "8   7b4497ded9c6c48fd05c2706de078302  \n",
       "9   dc27c0f2b4d9cf0b7cc8c3dfd8566098  \n",
       "10  0d669999d729144e354511e8fc929682  \n",
       "11  bd67a9513b9d96f8db5f8220d025890b  \n",
       "12  0a0f722eb4c12accfef6da2680e4c342  "
      ]
     },
     "execution_count": 142,
     "metadata": {},
     "output_type": "execute_result"
    }
   ],
   "source": [
    "N12 = N12[N12.Estado != 'CANCELADO']\n",
    "N12.head()"
   ]
  },
  {
   "cell_type": "code",
   "execution_count": 143,
   "metadata": {},
   "outputs": [
    {
     "data": {
      "text/html": [
       "<div>\n",
       "<style scoped>\n",
       "    .dataframe tbody tr th:only-of-type {\n",
       "        vertical-align: middle;\n",
       "    }\n",
       "\n",
       "    .dataframe tbody tr th {\n",
       "        vertical-align: top;\n",
       "    }\n",
       "\n",
       "    .dataframe thead th {\n",
       "        text-align: right;\n",
       "    }\n",
       "</style>\n",
       "<table border=\"1\" class=\"dataframe\">\n",
       "  <thead>\n",
       "    <tr style=\"text-align: right;\">\n",
       "      <th></th>\n",
       "      <th>Reposição</th>\n",
       "      <th>Média</th>\n",
       "      <th>Faltas</th>\n",
       "      <th>Estado</th>\n",
       "      <th>Id_Aluno</th>\n",
       "    </tr>\n",
       "  </thead>\n",
       "  <tbody>\n",
       "    <tr>\n",
       "      <th>10</th>\n",
       "      <td>t</td>\n",
       "      <td>7.0</td>\n",
       "      <td>20</td>\n",
       "      <td>APROVADO</td>\n",
       "      <td>0452e33e154137b7527742c0eaafa107</td>\n",
       "    </tr>\n",
       "    <tr>\n",
       "      <th>11</th>\n",
       "      <td>t</td>\n",
       "      <td>5.5</td>\n",
       "      <td>14</td>\n",
       "      <td>APROVADO POR NOTA</td>\n",
       "      <td>9cb124ca49845337b7fbd156796fdaa8</td>\n",
       "    </tr>\n",
       "    <tr>\n",
       "      <th>12</th>\n",
       "      <td>f</td>\n",
       "      <td>1.1</td>\n",
       "      <td>30</td>\n",
       "      <td>REPROVADO POR MÉDIA E POR FALTAS</td>\n",
       "      <td>747ea728e6f2f6471f36e5ec81603fe9</td>\n",
       "    </tr>\n",
       "    <tr>\n",
       "      <th>13</th>\n",
       "      <td>f</td>\n",
       "      <td>0.1</td>\n",
       "      <td>70</td>\n",
       "      <td>REPROVADO POR MÉDIA E POR FALTAS</td>\n",
       "      <td>16fc059cd4519f07e04eab1a56d5fac5</td>\n",
       "    </tr>\n",
       "    <tr>\n",
       "      <th>14</th>\n",
       "      <td>f</td>\n",
       "      <td>0.2</td>\n",
       "      <td>34</td>\n",
       "      <td>REPROVADO POR MÉDIA E POR FALTAS</td>\n",
       "      <td>ceba5974191c2aa36c5a038a7343bcbf</td>\n",
       "    </tr>\n",
       "  </tbody>\n",
       "</table>\n",
       "</div>"
      ],
      "text/plain": [
       "   Reposição  Média  Faltas                            Estado  \\\n",
       "10         t    7.0      20                          APROVADO   \n",
       "11         t    5.5      14                 APROVADO POR NOTA   \n",
       "12         f    1.1      30  REPROVADO POR MÉDIA E POR FALTAS   \n",
       "13         f    0.1      70  REPROVADO POR MÉDIA E POR FALTAS   \n",
       "14         f    0.2      34  REPROVADO POR MÉDIA E POR FALTAS   \n",
       "\n",
       "                            Id_Aluno  \n",
       "10  0452e33e154137b7527742c0eaafa107  \n",
       "11  9cb124ca49845337b7fbd156796fdaa8  \n",
       "12  747ea728e6f2f6471f36e5ec81603fe9  \n",
       "13  16fc059cd4519f07e04eab1a56d5fac5  \n",
       "14  ceba5974191c2aa36c5a038a7343bcbf  "
      ]
     },
     "execution_count": 143,
     "metadata": {},
     "output_type": "execute_result"
    }
   ],
   "source": [
    "M56 = M56[M56.Estado != 'CANCELADO']\n",
    "M56.head()"
   ]
  },
  {
   "cell_type": "code",
   "execution_count": 144,
   "metadata": {},
   "outputs": [
    {
     "name": "stdout",
     "output_type": "stream",
     "text": [
      "Kurtosis values \n",
      "N12:  -1.6450892121056702 \n",
      "T34:  -1.4894986272959154 \n",
      "M56:  1.501261584805099\n"
     ]
    },
    {
     "data": {
      "image/png": "[encoded data removed]",
      "text/plain": [
       "<matplotlib.figure.Figure at 0x18907adebe0>"
      ]
     },
     "metadata": {},
     "output_type": "display_data"
    }
   ],
   "source": [
    "fig, (ax1, ax2, ax3) = plt.subplots(figsize=(10,5), ncols=3, nrows=1)\n",
    "\n",
    "# organize space among figures\n",
    "fig.tight_layout()\n",
    "\n",
    "# main title\n",
    "plt.suptitle(\"Checking for Outliers with Kurtosis\", \n",
    "             fontsize=20,\n",
    "            y = 1.09)\n",
    "\n",
    "# title margin for each figure\n",
    "y_title_margin = 1\n",
    "\n",
    "### Titles of subplots\n",
    "ax1.set_title(\"N12 (kurtosis = -1.64)\", y = y_title_margin, fontsize=12)\n",
    "ax2.set_title(\"T34 (kurtosis = -1.48)\",y = y_title_margin, fontsize=12)\n",
    "ax3.set_title(\"M56 (kurtosis = 1.50)\",y = y_title_margin, fontsize=12)\n",
    "\n",
    "\n",
    "sns.distplot(N12['Média'], kde = False, ax=ax1,bins=20)\n",
    "sns.distplot(T34['Média'], kde = False, ax=ax2,bins=20)\n",
    "sns.distplot(M56['Média'], kde = False, ax=ax3,bins=20)\n",
    "\n",
    "print('Kurtosis values',\n",
    "      '\\nN12: ', kurtosis(N12['Média']),\n",
    "      '\\nT34: ', kurtosis(T34['Média']),\n",
    "      '\\nM56: ', kurtosis(M56['Média']))\n",
    "      \n",
    "\n",
    "plt.show()"
   ]
  },
  {
   "cell_type": "code",
   "execution_count": 165,
   "metadata": {},
   "outputs": [
    {
     "name": "stdout",
     "output_type": "stream",
     "text": [
      "Skew values \n",
      "N12:  -0.1162807802835274 \n",
      "T34:  -0.06523167966027017 \n",
      "M56:  1.707001062698078\n"
     ]
    },
    {
     "data": {
      "image/png": "[encoded data removed]",
      "text/plain": [
       "<matplotlib.figure.Figure at 0x18909bea898>"
      ]
     },
     "metadata": {},
     "output_type": "display_data"
    }
   ],
   "source": [
    "fig, (ax1, ax2, ax3) = plt.subplots(figsize=(10,5), ncols=3, nrows=1)\n",
    "\n",
    "# organize space among figures\n",
    "fig.tight_layout()\n",
    "\n",
    "# main title\n",
    "plt.suptitle(\"Skew Analysis\", \n",
    "             fontsize=20,\n",
    "            y = 1.09)\n",
    "\n",
    "# title margin for each figure\n",
    "y_title_margin = 1\n",
    "\n",
    "### Titles of subplots\n",
    "ax1.set_title(\"N12 (skew = -0.11)\", y = y_title_margin, fontsize=12)\n",
    "ax2.set_title(\"T34 (skew = -0.06)\",y = y_title_margin, fontsize=12)\n",
    "ax3.set_title(\"M56 (skew = 1.70)\",y = y_title_margin, fontsize=12)\n",
    "\n",
    "sns.distplot(N12['Média'], kde = False, ax=ax1,bins=20)\n",
    "sns.distplot(T34['Média'], kde = False, ax=ax2,bins=20)\n",
    "sns.distplot(M56['Média'], kde = False, ax=ax3,bins=20)\n",
    "\n",
    "print('Skew values',\n",
    "      '\\nN12: ', skew(N12['Média']),\n",
    "      '\\nT34: ', skew(T34['Média']),\n",
    "      '\\nM56: ', skew(M56['Média']))\n",
    "      \n",
    "# Plot the mean in red\n",
    "ax1.axvline(N12['Média'].mean(), color=\"r\")\n",
    "ax2.axvline(T34['Média'].mean(), color=\"r\")\n",
    "ax3.axvline(M56['Média'].mean(), color=\"r\")\n",
    "\n",
    "# Plot the median in green\n",
    "ax1.axvline(N12['Média'].median(), color=\"g\")\n",
    "ax2.axvline(T34['Média'].median(), color=\"g\")\n",
    "ax3.axvline(M56['Média'].median(), color=\"g\")\n",
    "    \n",
    "plt.show()"
   ]
  },
  {
   "cell_type": "code",
   "execution_count": 146,
   "metadata": {},
   "outputs": [
    {
     "data": {
      "text/plain": [
       "0    0.0\n",
       "dtype: float64"
      ]
     },
     "execution_count": 146,
     "metadata": {},
     "output_type": "execute_result"
    }
   ],
   "source": [
    "M56['Média'].mode()"
   ]
  },
  {
   "cell_type": "code",
   "execution_count": 147,
   "metadata": {},
   "outputs": [
    {
     "name": "stdout",
     "output_type": "stream",
     "text": [
      "1.407894736842105\n",
      "0    0.0\n",
      "dtype: float64\n",
      "0.3\n"
     ]
    }
   ],
   "source": [
    "print(M56['Média'].mean())\n",
    "print(M56['Média'].mode())\n",
    "print(M56['Média'].median())"
   ]
  }
 ],
 "metadata": {
  "kernelspec": {
   "display_name": "Python 3",
   "language": "python",
   "name": "python3"
  },
  "language_info": {
   "codemirror_mode": {
    "name": "ipython",
    "version": 3
   },
   "file_extension": ".py",
   "mimetype": "text/x-python",
   "name": "python",
   "nbconvert_exporter": "python",
   "pygments_lexer": "ipython3",
   "version": "3.6.4"
  }
 },
 "nbformat": 4,
 "nbformat_minor": 2
}
