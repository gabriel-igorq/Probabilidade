{
 "cells": [
  {
   "cell_type": "markdown",
   "metadata": {},
   "source": [
    "# 1. Basic Probability\n",
    "\n",
    "## 1.1 Introduction\n",
    "\n",
    "The world is an uncertain place. Making predictions about something as seemingly mundane as tomorrow’s weather, for example,\n",
    "is actually quite a difficult task. Even with the most advanced computers and models of the modern era, weather forecasters still cannot say with absolute certainty whether it will rain tomorrow. The best they can do is to report their best estimate of the chance that it will rain tomorrow. For example;\n",
    "\n",
    "- if the forecasters are fairly confident that it will rain tomorrow, they might say that there is a 90% chance of rain. \n",
    "\n",
    "You have probably heard statements like this your entire life, but have you ever asked yourself **what exactly it means to say that there is a 90% chance of rain?**\n",
    "\n",
    "\n",
    "Let us consider an even more basic example: **tossing a coin**. If the coin is fair, then it is just as likely to come up heads as it is to come up tails. In other words, **if we were to repeatedly toss the coin many times, we would expect about about half of the tosses to be heads and and half to be tails**. In this case, we say that the probability of getting a head is 1/2 or 0.5.\n",
    "\n",
    "Note that when we say the probability of a head is 1/2, we are not claiming that any sequence of coin tosses will consist of exactly 50% heads. If we toss a fair coin ten times, it would not be surprising to observe 6 heads and 4 tails, or even 3 heads and 7 tails. But as we continue to toss the coin over and over again, we expect the long-run frequency of heads to get ever closer to 50%. In general, it is important in statistics to understand the distinction between theoretical and\n",
    "empirical quantities. Here, **the true (theoretical) probability of a head was 1/2**, but any **realized (empirical) sequence of coin tosses may have more or less than exactly 50% heads**."
   ]
  },
  {
   "cell_type": "code",
   "execution_count": 1,
   "metadata": {},
   "outputs": [
    {
     "data": {
      "text/html": [
       "\n",
       "    <div class=\"bk-root\">\n",
       "        <a href=\"https://bokeh.pydata.org\" target=\"_blank\" class=\"bk-logo bk-logo-small bk-logo-notebook\"></a>\n",
       "        <span id=\"a0ef3024-06a0-40e1-a221-f38be91e565a\">Loading BokehJS ...</span>\n",
       "    </div>"
      ]
     },
     "metadata": {},
     "output_type": "display_data"
    },
    {
     "data": {
      "application/javascript": [
       "\n",
       "(function(root) {\n",
       "  function now() {\n",
       "    return new Date();\n",
       "  }\n",
       "\n",
       "  var force = true;\n",
       "\n",
       "  if (typeof (root._bokeh_onload_callbacks) === \"undefined\" || force === true) {\n",
       "    root._bokeh_onload_callbacks = [];\n",
       "    root._bokeh_is_loading = undefined;\n",
       "  }\n",
       "\n",
       "  var JS_MIME_TYPE = 'application/javascript';\n",
       "  var HTML_MIME_TYPE = 'text/html';\n",
       "  var EXEC_MIME_TYPE = 'application/vnd.bokehjs_exec.v0+json';\n",
       "  var CLASS_NAME = 'output_bokeh rendered_html';\n",
       "\n",
       "  /**\n",
       "   * Render data to the DOM node\n",
       "   */\n",
       "  function render(props, node) {\n",
       "    var script = document.createElement(\"script\");\n",
       "    node.appendChild(script);\n",
       "  }\n",
       "\n",
       "  /**\n",
       "   * Handle when an output is cleared or removed\n",
       "   */\n",
       "  function handleClearOutput(event, handle) {\n",
       "    var cell = handle.cell;\n",
       "\n",
       "    var id = cell.output_area._bokeh_element_id;\n",
       "    var server_id = cell.output_area._bokeh_server_id;\n",
       "    // Clean up Bokeh references\n",
       "    if (id !== undefined) {\n",
       "      Bokeh.index[id].model.document.clear();\n",
       "      delete Bokeh.index[id];\n",
       "    }\n",
       "\n",
       "    if (server_id !== undefined) {\n",
       "      // Clean up Bokeh references\n",
       "      var cmd = \"from bokeh.io.state import curstate; print(curstate().uuid_to_server['\" + server_id + \"'].get_sessions()[0].document.roots[0]._id)\";\n",
       "      cell.notebook.kernel.execute(cmd, {\n",
       "        iopub: {\n",
       "          output: function(msg) {\n",
       "            var element_id = msg.content.text.trim();\n",
       "            Bokeh.index[element_id].model.document.clear();\n",
       "            delete Bokeh.index[element_id];\n",
       "          }\n",
       "        }\n",
       "      });\n",
       "      // Destroy server and session\n",
       "      var cmd = \"import bokeh.io.notebook as ion; ion.destroy_server('\" + server_id + \"')\";\n",
       "      cell.notebook.kernel.execute(cmd);\n",
       "    }\n",
       "  }\n",
       "\n",
       "  /**\n",
       "   * Handle when a new output is added\n",
       "   */\n",
       "  function handleAddOutput(event, handle) {\n",
       "    var output_area = handle.output_area;\n",
       "    var output = handle.output;\n",
       "\n",
       "    // limit handleAddOutput to display_data with EXEC_MIME_TYPE content only\n",
       "    if ((output.output_type != \"display_data\") || (!output.data.hasOwnProperty(EXEC_MIME_TYPE))) {\n",
       "      return\n",
       "    }\n",
       "\n",
       "    var toinsert = output_area.element.find(\".\" + CLASS_NAME.split(' ')[0]);\n",
       "\n",
       "    if (output.metadata[EXEC_MIME_TYPE][\"id\"] !== undefined) {\n",
       "      toinsert[0].firstChild.textContent = output.data[JS_MIME_TYPE];\n",
       "      // store reference to embed id on output_area\n",
       "      output_area._bokeh_element_id = output.metadata[EXEC_MIME_TYPE][\"id\"];\n",
       "    }\n",
       "    if (output.metadata[EXEC_MIME_TYPE][\"server_id\"] !== undefined) {\n",
       "      var bk_div = document.createElement(\"div\");\n",
       "      bk_div.innerHTML = output.data[HTML_MIME_TYPE];\n",
       "      var script_attrs = bk_div.children[0].attributes;\n",
       "      for (var i = 0; i < script_attrs.length; i++) {\n",
       "        toinsert[0].firstChild.setAttribute(script_attrs[i].name, script_attrs[i].value);\n",
       "      }\n",
       "      // store reference to server id on output_area\n",
       "      output_area._bokeh_server_id = output.metadata[EXEC_MIME_TYPE][\"server_id\"];\n",
       "    }\n",
       "  }\n",
       "\n",
       "  function register_renderer(events, OutputArea) {\n",
       "\n",
       "    function append_mime(data, metadata, element) {\n",
       "      // create a DOM node to render to\n",
       "      var toinsert = this.create_output_subarea(\n",
       "        metadata,\n",
       "        CLASS_NAME,\n",
       "        EXEC_MIME_TYPE\n",
       "      );\n",
       "      this.keyboard_manager.register_events(toinsert);\n",
       "      // Render to node\n",
       "      var props = {data: data, metadata: metadata[EXEC_MIME_TYPE]};\n",
       "      render(props, toinsert[0]);\n",
       "      element.append(toinsert);\n",
       "      return toinsert\n",
       "    }\n",
       "\n",
       "    /* Handle when an output is cleared or removed */\n",
       "    events.on('clear_output.CodeCell', handleClearOutput);\n",
       "    events.on('delete.Cell', handleClearOutput);\n",
       "\n",
       "    /* Handle when a new output is added */\n",
       "    events.on('output_added.OutputArea', handleAddOutput);\n",
       "\n",
       "    /**\n",
       "     * Register the mime type and append_mime function with output_area\n",
       "     */\n",
       "    OutputArea.prototype.register_mime_type(EXEC_MIME_TYPE, append_mime, {\n",
       "      /* Is output safe? */\n",
       "      safe: true,\n",
       "      /* Index of renderer in `output_area.display_order` */\n",
       "      index: 0\n",
       "    });\n",
       "  }\n",
       "\n",
       "  // register the mime type if in Jupyter Notebook environment and previously unregistered\n",
       "  if (root.Jupyter !== undefined) {\n",
       "    var events = require('base/js/events');\n",
       "    var OutputArea = require('notebook/js/outputarea').OutputArea;\n",
       "\n",
       "    if (OutputArea.prototype.mime_types().indexOf(EXEC_MIME_TYPE) == -1) {\n",
       "      register_renderer(events, OutputArea);\n",
       "    }\n",
       "  }\n",
       "\n",
       "  \n",
       "  if (typeof (root._bokeh_timeout) === \"undefined\" || force === true) {\n",
       "    root._bokeh_timeout = Date.now() + 5000;\n",
       "    root._bokeh_failed_load = false;\n",
       "  }\n",
       "\n",
       "  var NB_LOAD_WARNING = {'data': {'text/html':\n",
       "     \"<div style='background-color: #fdd'>\\n\"+\n",
       "     \"<p>\\n\"+\n",
       "     \"BokehJS does not appear to have successfully loaded. If loading BokehJS from CDN, this \\n\"+\n",
       "     \"may be due to a slow or bad network connection. Possible fixes:\\n\"+\n",
       "     \"</p>\\n\"+\n",
       "     \"<ul>\\n\"+\n",
       "     \"<li>re-rerun `output_notebook()` to attempt to load from CDN again, or</li>\\n\"+\n",
       "     \"<li>use INLINE resources instead, as so:</li>\\n\"+\n",
       "     \"</ul>\\n\"+\n",
       "     \"<code>\\n\"+\n",
       "     \"from bokeh.resources import INLINE\\n\"+\n",
       "     \"output_notebook(resources=INLINE)\\n\"+\n",
       "     \"</code>\\n\"+\n",
       "     \"</div>\"}};\n",
       "\n",
       "  function display_loaded() {\n",
       "    var el = document.getElementById(\"a0ef3024-06a0-40e1-a221-f38be91e565a\");\n",
       "    if (el != null) {\n",
       "      el.textContent = \"BokehJS is loading...\";\n",
       "    }\n",
       "    if (root.Bokeh !== undefined) {\n",
       "      if (el != null) {\n",
       "        el.textContent = \"BokehJS \" + root.Bokeh.version + \" successfully loaded.\";\n",
       "      }\n",
       "    } else if (Date.now() < root._bokeh_timeout) {\n",
       "      setTimeout(display_loaded, 100)\n",
       "    }\n",
       "  }\n",
       "\n",
       "\n",
       "  function run_callbacks() {\n",
       "    try {\n",
       "      root._bokeh_onload_callbacks.forEach(function(callback) { callback() });\n",
       "    }\n",
       "    finally {\n",
       "      delete root._bokeh_onload_callbacks\n",
       "    }\n",
       "    console.info(\"Bokeh: all callbacks have finished\");\n",
       "  }\n",
       "\n",
       "  function load_libs(js_urls, callback) {\n",
       "    root._bokeh_onload_callbacks.push(callback);\n",
       "    if (root._bokeh_is_loading > 0) {\n",
       "      console.log(\"Bokeh: BokehJS is being loaded, scheduling callback at\", now());\n",
       "      return null;\n",
       "    }\n",
       "    if (js_urls == null || js_urls.length === 0) {\n",
       "      run_callbacks();\n",
       "      return null;\n",
       "    }\n",
       "    console.log(\"Bokeh: BokehJS not loaded, scheduling load and callback at\", now());\n",
       "    root._bokeh_is_loading = js_urls.length;\n",
       "    for (var i = 0; i < js_urls.length; i++) {\n",
       "      var url = js_urls[i];\n",
       "      var s = document.createElement('script');\n",
       "      s.src = url;\n",
       "      s.async = false;\n",
       "      s.onreadystatechange = s.onload = function() {\n",
       "        root._bokeh_is_loading--;\n",
       "        if (root._bokeh_is_loading === 0) {\n",
       "          console.log(\"Bokeh: all BokehJS libraries loaded\");\n",
       "          run_callbacks()\n",
       "        }\n",
       "      };\n",
       "      s.onerror = function() {\n",
       "        console.warn(\"failed to load library \" + url);\n",
       "      };\n",
       "      console.log(\"Bokeh: injecting script tag for BokehJS library: \", url);\n",
       "      document.getElementsByTagName(\"head\")[0].appendChild(s);\n",
       "    }\n",
       "  };var element = document.getElementById(\"a0ef3024-06a0-40e1-a221-f38be91e565a\");\n",
       "  if (element == null) {\n",
       "    console.log(\"Bokeh: ERROR: autoload.js configured with elementid 'a0ef3024-06a0-40e1-a221-f38be91e565a' but no matching script tag was found. \")\n",
       "    return false;\n",
       "  }\n",
       "\n",
       "  var js_urls = [\"https://cdn.pydata.org/bokeh/release/bokeh-0.12.13.min.js\", \"https://cdn.pydata.org/bokeh/release/bokeh-widgets-0.12.13.min.js\", \"https://cdn.pydata.org/bokeh/release/bokeh-tables-0.12.13.min.js\", \"https://cdn.pydata.org/bokeh/release/bokeh-gl-0.12.13.min.js\"];\n",
       "\n",
       "  var inline_js = [\n",
       "    function(Bokeh) {\n",
       "      Bokeh.set_log_level(\"info\");\n",
       "    },\n",
       "    \n",
       "    function(Bokeh) {\n",
       "      \n",
       "    },\n",
       "    function(Bokeh) {\n",
       "      console.log(\"Bokeh: injecting CSS: https://cdn.pydata.org/bokeh/release/bokeh-0.12.13.min.css\");\n",
       "      Bokeh.embed.inject_css(\"https://cdn.pydata.org/bokeh/release/bokeh-0.12.13.min.css\");\n",
       "      console.log(\"Bokeh: injecting CSS: https://cdn.pydata.org/bokeh/release/bokeh-widgets-0.12.13.min.css\");\n",
       "      Bokeh.embed.inject_css(\"https://cdn.pydata.org/bokeh/release/bokeh-widgets-0.12.13.min.css\");\n",
       "      console.log(\"Bokeh: injecting CSS: https://cdn.pydata.org/bokeh/release/bokeh-tables-0.12.13.min.css\");\n",
       "      Bokeh.embed.inject_css(\"https://cdn.pydata.org/bokeh/release/bokeh-tables-0.12.13.min.css\");\n",
       "    }\n",
       "  ];\n",
       "\n",
       "  function run_inline_js() {\n",
       "    \n",
       "    if ((root.Bokeh !== undefined) || (force === true)) {\n",
       "      for (var i = 0; i < inline_js.length; i++) {\n",
       "        inline_js[i].call(root, root.Bokeh);\n",
       "      }if (force === true) {\n",
       "        display_loaded();\n",
       "      }} else if (Date.now() < root._bokeh_timeout) {\n",
       "      setTimeout(run_inline_js, 100);\n",
       "    } else if (!root._bokeh_failed_load) {\n",
       "      console.log(\"Bokeh: BokehJS failed to load within specified timeout.\");\n",
       "      root._bokeh_failed_load = true;\n",
       "    } else if (force !== true) {\n",
       "      var cell = $(document.getElementById(\"a0ef3024-06a0-40e1-a221-f38be91e565a\")).parents('.cell').data().cell;\n",
       "      cell.output_area.append_execute_result(NB_LOAD_WARNING)\n",
       "    }\n",
       "\n",
       "  }\n",
       "\n",
       "  if (root._bokeh_is_loading === 0) {\n",
       "    console.log(\"Bokeh: BokehJS loaded, going straight to plotting\");\n",
       "    run_inline_js();\n",
       "  } else {\n",
       "    load_libs(js_urls, function() {\n",
       "      console.log(\"Bokeh: BokehJS plotting callback run at\", now());\n",
       "      run_inline_js();\n",
       "    });\n",
       "  }\n",
       "}(window));"
      ],
      "application/vnd.bokehjs_load.v0+json": "\n(function(root) {\n  function now() {\n    return new Date();\n  }\n\n  var force = true;\n\n  if (typeof (root._bokeh_onload_callbacks) === \"undefined\" || force === true) {\n    root._bokeh_onload_callbacks = [];\n    root._bokeh_is_loading = undefined;\n  }\n\n  \n\n  \n  if (typeof (root._bokeh_timeout) === \"undefined\" || force === true) {\n    root._bokeh_timeout = Date.now() + 5000;\n    root._bokeh_failed_load = false;\n  }\n\n  var NB_LOAD_WARNING = {'data': {'text/html':\n     \"<div style='background-color: #fdd'>\\n\"+\n     \"<p>\\n\"+\n     \"BokehJS does not appear to have successfully loaded. If loading BokehJS from CDN, this \\n\"+\n     \"may be due to a slow or bad network connection. Possible fixes:\\n\"+\n     \"</p>\\n\"+\n     \"<ul>\\n\"+\n     \"<li>re-rerun `output_notebook()` to attempt to load from CDN again, or</li>\\n\"+\n     \"<li>use INLINE resources instead, as so:</li>\\n\"+\n     \"</ul>\\n\"+\n     \"<code>\\n\"+\n     \"from bokeh.resources import INLINE\\n\"+\n     \"output_notebook(resources=INLINE)\\n\"+\n     \"</code>\\n\"+\n     \"</div>\"}};\n\n  function display_loaded() {\n    var el = document.getElementById(\"a0ef3024-06a0-40e1-a221-f38be91e565a\");\n    if (el != null) {\n      el.textContent = \"BokehJS is loading...\";\n    }\n    if (root.Bokeh !== undefined) {\n      if (el != null) {\n        el.textContent = \"BokehJS \" + root.Bokeh.version + \" successfully loaded.\";\n      }\n    } else if (Date.now() < root._bokeh_timeout) {\n      setTimeout(display_loaded, 100)\n    }\n  }\n\n\n  function run_callbacks() {\n    try {\n      root._bokeh_onload_callbacks.forEach(function(callback) { callback() });\n    }\n    finally {\n      delete root._bokeh_onload_callbacks\n    }\n    console.info(\"Bokeh: all callbacks have finished\");\n  }\n\n  function load_libs(js_urls, callback) {\n    root._bokeh_onload_callbacks.push(callback);\n    if (root._bokeh_is_loading > 0) {\n      console.log(\"Bokeh: BokehJS is being loaded, scheduling callback at\", now());\n      return null;\n    }\n    if (js_urls == null || js_urls.length === 0) {\n      run_callbacks();\n      return null;\n    }\n    console.log(\"Bokeh: BokehJS not loaded, scheduling load and callback at\", now());\n    root._bokeh_is_loading = js_urls.length;\n    for (var i = 0; i < js_urls.length; i++) {\n      var url = js_urls[i];\n      var s = document.createElement('script');\n      s.src = url;\n      s.async = false;\n      s.onreadystatechange = s.onload = function() {\n        root._bokeh_is_loading--;\n        if (root._bokeh_is_loading === 0) {\n          console.log(\"Bokeh: all BokehJS libraries loaded\");\n          run_callbacks()\n        }\n      };\n      s.onerror = function() {\n        console.warn(\"failed to load library \" + url);\n      };\n      console.log(\"Bokeh: injecting script tag for BokehJS library: \", url);\n      document.getElementsByTagName(\"head\")[0].appendChild(s);\n    }\n  };var element = document.getElementById(\"a0ef3024-06a0-40e1-a221-f38be91e565a\");\n  if (element == null) {\n    console.log(\"Bokeh: ERROR: autoload.js configured with elementid 'a0ef3024-06a0-40e1-a221-f38be91e565a' but no matching script tag was found. \")\n    return false;\n  }\n\n  var js_urls = [\"https://cdn.pydata.org/bokeh/release/bokeh-0.12.13.min.js\", \"https://cdn.pydata.org/bokeh/release/bokeh-widgets-0.12.13.min.js\", \"https://cdn.pydata.org/bokeh/release/bokeh-tables-0.12.13.min.js\", \"https://cdn.pydata.org/bokeh/release/bokeh-gl-0.12.13.min.js\"];\n\n  var inline_js = [\n    function(Bokeh) {\n      Bokeh.set_log_level(\"info\");\n    },\n    \n    function(Bokeh) {\n      \n    },\n    function(Bokeh) {\n      console.log(\"Bokeh: injecting CSS: https://cdn.pydata.org/bokeh/release/bokeh-0.12.13.min.css\");\n      Bokeh.embed.inject_css(\"https://cdn.pydata.org/bokeh/release/bokeh-0.12.13.min.css\");\n      console.log(\"Bokeh: injecting CSS: https://cdn.pydata.org/bokeh/release/bokeh-widgets-0.12.13.min.css\");\n      Bokeh.embed.inject_css(\"https://cdn.pydata.org/bokeh/release/bokeh-widgets-0.12.13.min.css\");\n      console.log(\"Bokeh: injecting CSS: https://cdn.pydata.org/bokeh/release/bokeh-tables-0.12.13.min.css\");\n      Bokeh.embed.inject_css(\"https://cdn.pydata.org/bokeh/release/bokeh-tables-0.12.13.min.css\");\n    }\n  ];\n\n  function run_inline_js() {\n    \n    if ((root.Bokeh !== undefined) || (force === true)) {\n      for (var i = 0; i < inline_js.length; i++) {\n        inline_js[i].call(root, root.Bokeh);\n      }if (force === true) {\n        display_loaded();\n      }} else if (Date.now() < root._bokeh_timeout) {\n      setTimeout(run_inline_js, 100);\n    } else if (!root._bokeh_failed_load) {\n      console.log(\"Bokeh: BokehJS failed to load within specified timeout.\");\n      root._bokeh_failed_load = true;\n    } else if (force !== true) {\n      var cell = $(document.getElementById(\"a0ef3024-06a0-40e1-a221-f38be91e565a\")).parents('.cell').data().cell;\n      cell.output_area.append_execute_result(NB_LOAD_WARNING)\n    }\n\n  }\n\n  if (root._bokeh_is_loading === 0) {\n    console.log(\"Bokeh: BokehJS loaded, going straight to plotting\");\n    run_inline_js();\n  } else {\n    load_libs(js_urls, function() {\n      console.log(\"Bokeh: BokehJS plotting callback run at\", now());\n      run_inline_js();\n    });\n  }\n}(window));"
     },
     "metadata": {},
     "output_type": "display_data"
    }
   ],
   "source": [
    "import numpy as np\n",
    "from bokeh.io import show,output_notebook\n",
    "from bokeh.models import ColumnDataSource, CustomJS, HoverTool\n",
    "from bokeh.layouts import gridplot, column, row\n",
    "from bokeh.events import ButtonClick\n",
    "from bokeh.models.widgets import Button, Slider\n",
    "from bokeh.plotting import Figure\n",
    "import random\n",
    "output_notebook()"
   ]
  },
  {
   "cell_type": "code",
   "execution_count": 2,
   "metadata": {},
   "outputs": [],
   "source": [
    "# initial values to bar plot\n",
    "coin = ['Head (H)', 'Tail (T)']\n",
    "counts = [0,0]\n",
    "\n",
    "\n",
    "# basic data structure \n",
    "source = ColumnDataSource(data=dict(x=coin, y=counts))\n",
    "\n",
    "# add a hover tip to figure\n",
    "hover = HoverTool(\n",
    "    tooltips=[\n",
    "        ( 'Probability', '@y')\n",
    "    ]\n",
    ")\n",
    "\n",
    "# create a generic figure\n",
    "p = Figure(title=\"Observed Outcomes\", \n",
    "           plot_height=300, \n",
    "           plot_width=600, \n",
    "           x_range=coin, \n",
    "           tools=[\"pan,wheel_zoom,save\", hover])\n",
    "\n",
    "\n",
    "# add bar plot and indicate who is the source\n",
    "p.vbar(x='x', top='y', width=0.2, source=source)\n",
    "p.xgrid.grid_line_color = None\n",
    "p.y_range.start = 0"
   ]
  },
  {
   "cell_type": "code",
   "execution_count": 3,
   "metadata": {},
   "outputs": [],
   "source": [
    "# callbacks\n",
    "\n",
    "#slider head\n",
    "update_slider_head = CustomJS(code=\"\"\"\n",
    "\n",
    "    if (cb_obj.title == \"Head (H) probability\"){\n",
    "            prob_a = master_slider.value\n",
    "            slave_slider.value = 1 - prob_a \n",
    "    } else{\n",
    "            prob_a = slave_slider.value\n",
    "            master_slider.value = 1 - prob_a \n",
    "    }\n",
    "\"\"\")\n",
    "\n",
    "update_flip_coin = CustomJS(args=dict(source=source), code=\"\"\"\n",
    "        data = source.data\n",
    "        cont = 0\n",
    "        prob = slider.value\n",
    "        \n",
    "        if (cb_obj.label == 'Flip the Coin')\n",
    "            n = 1\n",
    "        else\n",
    "            n = 100\n",
    "        \n",
    "        for (i = 0; i < n; i++) {\n",
    "           if  (Math.random() <= prob)\n",
    "                cont = cont + 1\n",
    "        }\n",
    "        \n",
    "        y = data['y']\n",
    "        y[0] = cont/n\n",
    "        y[1] = 1 - y[0]\n",
    "        \n",
    "        console.log(source.data.y,cb_obj.label)\n",
    "        source.change.emit()\n",
    "        \"\"\")"
   ]
  },
  {
   "cell_type": "code",
   "execution_count": 4,
   "metadata": {},
   "outputs": [],
   "source": [
    "# create the widgets\n",
    "\n",
    "head_slider = Slider(start=0.0, \n",
    "                     end=1.0, \n",
    "                     value=0.5, \n",
    "                     step=.01, \n",
    "                     title=\"Head (H) probability\",\n",
    "                     callback=update_slider_head)\n",
    "\n",
    "tail_slider = Slider(start=0.0, \n",
    "                     end=1.0, \n",
    "                     value=0.5, \n",
    "                     step=.01,\n",
    "                     title=\"Tail (T) probability\",\n",
    "                     callback=update_slider_head)\n",
    "\n",
    "button_one_flip = Button(label=\"Flip the Coin\", \n",
    "                         button_type=\"primary\",\n",
    "                         callback=update_flip_coin)\n",
    "\n",
    "button_100_flip = Button(label=\"Flip 100 times\", \n",
    "                         button_type=\"primary\",\n",
    "                         callback=update_flip_coin)\n",
    "\n",
    "                            \n",
    "# config callbacks\n",
    "update_slider_head.args[\"master_slider\"] = head_slider\n",
    "update_slider_head.args[\"slave_slider\"] = tail_slider\n",
    "update_flip_coin.args[\"slider\"] = head_slider"
   ]
  },
  {
   "cell_type": "code",
   "execution_count": 5,
   "metadata": {
    "scrolled": false
   },
   "outputs": [
    {
     "data": {
      "text/html": [
       "\n",
       "<div class=\"bk-root\">\n",
       "    <div class=\"bk-plotdiv\" id=\"11d27068-4fd1-42cf-95e9-94b537c2cb2c\"></div>\n",
       "</div>"
      ]
     },
     "metadata": {},
     "output_type": "display_data"
    },
    {
     "data": {
      "application/javascript": [
       "(function(root) {\n",
       "  function embed_document(root) {\n",
       "    \n",
       "  var docs_json = {\"1b8aed76-7e5b-4e13-a818-e46cb7989851\":{\"roots\":{\"references\":[{\"attributes\":{\"args\":{\"master_slider\":{\"id\":\"071c0624-eed0-45a2-aa8e-b136e6c9d459\",\"type\":\"Slider\"},\"slave_slider\":{\"id\":\"015f7699-6503-4397-b2ce-0c060876e937\",\"type\":\"Slider\"}},\"code\":\"\\n\\n    if (cb_obj.title == \\\"Head (H) probability\\\"){\\n            prob_a = master_slider.value\\n            slave_slider.value = 1 - prob_a \\n    } else{\\n            prob_a = slave_slider.value\\n            master_slider.value = 1 - prob_a \\n    }\\n\"},\"id\":\"e530943b-5024-4967-82a7-2de36e56d6bb\",\"type\":\"CustomJS\"},{\"attributes\":{\"callback\":null,\"column_names\":[\"x\",\"y\"],\"data\":{\"x\":[\"Head (H)\",\"Tail (T)\"],\"y\":[0,0]}},\"id\":\"f665f87c-23a1-4cd5-a0da-9d2ca3e470e7\",\"type\":\"ColumnDataSource\"},{\"attributes\":{\"args\":{\"slider\":{\"id\":\"071c0624-eed0-45a2-aa8e-b136e6c9d459\",\"type\":\"Slider\"},\"source\":{\"id\":\"f665f87c-23a1-4cd5-a0da-9d2ca3e470e7\",\"type\":\"ColumnDataSource\"}},\"code\":\"\\n        data = source.data\\n        cont = 0\\n        prob = slider.value\\n        \\n        if (cb_obj.label == 'Flip the Coin')\\n            n = 1\\n        else\\n            n = 100\\n        \\n        for (i = 0; i < n; i++) {\\n           if  (Math.random() <= prob)\\n                cont = cont + 1\\n        }\\n        \\n        y = data['y']\\n        y[0] = cont/n\\n        y[1] = 1 - y[0]\\n        \\n        console.log(source.data.y,cb_obj.label)\\n        source.change.emit()\\n        \"},\"id\":\"4494ba53-46ef-4797-bd67-4e9122b98f81\",\"type\":\"CustomJS\"},{\"attributes\":{\"plot\":null,\"text\":\"Observed Outcomes\"},\"id\":\"3a676bdc-6d3a-4f85-8288-98c0ff7455c8\",\"type\":\"Title\"},{\"attributes\":{},\"id\":\"270f011b-e2e0-4bf6-9760-77ef6909dc51\",\"type\":\"BasicTickFormatter\"},{\"attributes\":{\"source\":{\"id\":\"f665f87c-23a1-4cd5-a0da-9d2ca3e470e7\",\"type\":\"ColumnDataSource\"}},\"id\":\"e9ed3d68-9ad5-486d-aeaf-196f1ff71b65\",\"type\":\"CDSView\"},{\"attributes\":{\"button_type\":\"primary\",\"callback\":{\"id\":\"4494ba53-46ef-4797-bd67-4e9122b98f81\",\"type\":\"CustomJS\"},\"icon\":null,\"label\":\"Flip the Coin\"},\"id\":\"556fd277-dfbf-4036-95bc-f3f0fc61fe9e\",\"type\":\"Button\"},{\"attributes\":{\"below\":[{\"id\":\"baf11d21-a71b-4416-bed2-66709445d8be\",\"type\":\"CategoricalAxis\"}],\"left\":[{\"id\":\"20b878b0-0715-4193-816e-9c8e3c4ac259\",\"type\":\"LinearAxis\"}],\"plot_height\":300,\"renderers\":[{\"id\":\"baf11d21-a71b-4416-bed2-66709445d8be\",\"type\":\"CategoricalAxis\"},{\"id\":\"ec230122-f35b-493f-afea-bab7e1d0647c\",\"type\":\"Grid\"},{\"id\":\"20b878b0-0715-4193-816e-9c8e3c4ac259\",\"type\":\"LinearAxis\"},{\"id\":\"6e584648-dba1-493f-ae88-9a5613c8b25a\",\"type\":\"Grid\"},{\"id\":\"4fcdcc83-a200-4ee6-8607-3255ca2cb2e3\",\"type\":\"GlyphRenderer\"}],\"title\":{\"id\":\"3a676bdc-6d3a-4f85-8288-98c0ff7455c8\",\"type\":\"Title\"},\"toolbar\":{\"id\":\"035546ea-9819-4a1c-ba9f-d0ac6eb13624\",\"type\":\"Toolbar\"},\"x_range\":{\"id\":\"b44f84f1-bf58-4d3a-8bd4-d6b656051785\",\"type\":\"FactorRange\"},\"x_scale\":{\"id\":\"28545df7-a9a2-4d9f-8b87-07e664e93dca\",\"type\":\"CategoricalScale\"},\"y_range\":{\"id\":\"2083e739-f42e-4425-ac7a-0f209a1de780\",\"type\":\"DataRange1d\"},\"y_scale\":{\"id\":\"de386062-dbac-4b56-a412-e49a5976896c\",\"type\":\"LinearScale\"}},\"id\":\"89636e13-2a1e-4a96-bebb-dd3bfaff3a5e\",\"subtype\":\"Figure\",\"type\":\"Plot\"},{\"attributes\":{\"callback\":{\"id\":\"e530943b-5024-4967-82a7-2de36e56d6bb\",\"type\":\"CustomJS\"},\"end\":1.0,\"start\":0.0,\"step\":0.01,\"title\":\"Tail (T) probability\",\"value\":0.5},\"id\":\"015f7699-6503-4397-b2ce-0c060876e937\",\"type\":\"Slider\"},{\"attributes\":{\"fill_alpha\":{\"value\":0.1},\"fill_color\":{\"value\":\"#1f77b4\"},\"line_alpha\":{\"value\":0.1},\"line_color\":{\"value\":\"#1f77b4\"},\"top\":{\"field\":\"y\"},\"width\":{\"value\":0.2},\"x\":{\"field\":\"x\"}},\"id\":\"94454f35-2481-4693-b6c4-f5ac745303c7\",\"type\":\"VBar\"},{\"attributes\":{\"callback\":{\"id\":\"e530943b-5024-4967-82a7-2de36e56d6bb\",\"type\":\"CustomJS\"},\"end\":1.0,\"start\":0.0,\"step\":0.01,\"title\":\"Head (H) probability\",\"value\":0.5},\"id\":\"071c0624-eed0-45a2-aa8e-b136e6c9d459\",\"type\":\"Slider\"},{\"attributes\":{},\"id\":\"08219b21-4b99-4d46-8b12-b21ff6f908b4\",\"type\":\"CategoricalTicker\"},{\"attributes\":{\"fill_color\":{\"value\":\"#1f77b4\"},\"line_color\":{\"value\":\"#1f77b4\"},\"top\":{\"field\":\"y\"},\"width\":{\"value\":0.2},\"x\":{\"field\":\"x\"}},\"id\":\"e2e64df8-3a19-4ce3-8ab6-554c73fb0b31\",\"type\":\"VBar\"},{\"attributes\":{\"active_drag\":\"auto\",\"active_inspect\":\"auto\",\"active_scroll\":\"auto\",\"active_tap\":\"auto\",\"tools\":[{\"id\":\"d60cc7de-9ef5-4028-9163-ca18e8819219\",\"type\":\"HoverTool\"},{\"id\":\"3ce5b23c-a0dd-467f-ab8a-f6167e07ac07\",\"type\":\"PanTool\"},{\"id\":\"a3e38760-7e54-40b3-a013-6f4ec2a0256b\",\"type\":\"WheelZoomTool\"},{\"id\":\"54fa4707-4f1a-440b-8995-60ac01ebfcf4\",\"type\":\"SaveTool\"}]},\"id\":\"035546ea-9819-4a1c-ba9f-d0ac6eb13624\",\"type\":\"Toolbar\"},{\"attributes\":{\"callback\":null,\"factors\":[\"Head (H)\",\"Tail (T)\"]},\"id\":\"b44f84f1-bf58-4d3a-8bd4-d6b656051785\",\"type\":\"FactorRange\"},{\"attributes\":{\"button_type\":\"primary\",\"callback\":{\"id\":\"4494ba53-46ef-4797-bd67-4e9122b98f81\",\"type\":\"CustomJS\"},\"icon\":null,\"label\":\"Flip 100 times\"},\"id\":\"6d3addc5-6e85-4871-a95b-afd1548f64bf\",\"type\":\"Button\"},{\"attributes\":{},\"id\":\"28545df7-a9a2-4d9f-8b87-07e664e93dca\",\"type\":\"CategoricalScale\"},{\"attributes\":{\"callback\":null,\"start\":0},\"id\":\"2083e739-f42e-4425-ac7a-0f209a1de780\",\"type\":\"DataRange1d\"},{\"attributes\":{},\"id\":\"de386062-dbac-4b56-a412-e49a5976896c\",\"type\":\"LinearScale\"},{\"attributes\":{\"grid_line_color\":{\"value\":null},\"plot\":{\"id\":\"89636e13-2a1e-4a96-bebb-dd3bfaff3a5e\",\"subtype\":\"Figure\",\"type\":\"Plot\"},\"ticker\":{\"id\":\"08219b21-4b99-4d46-8b12-b21ff6f908b4\",\"type\":\"CategoricalTicker\"}},\"id\":\"ec230122-f35b-493f-afea-bab7e1d0647c\",\"type\":\"Grid\"},{\"attributes\":{\"children\":[{\"id\":\"6cec10d7-04b4-47ee-94d3-e8b8c3ae6786\",\"type\":\"WidgetBox\"},{\"id\":\"8dfc7bfd-35db-41da-acc6-0ff5178ac729\",\"type\":\"WidgetBox\"}]},\"id\":\"9b5f79f8-67e2-4af9-aeb8-48264398169f\",\"type\":\"Row\"},{\"attributes\":{\"formatter\":{\"id\":\"b676283d-825e-49ea-bb7b-4ce3669403ab\",\"type\":\"CategoricalTickFormatter\"},\"plot\":{\"id\":\"89636e13-2a1e-4a96-bebb-dd3bfaff3a5e\",\"subtype\":\"Figure\",\"type\":\"Plot\"},\"ticker\":{\"id\":\"08219b21-4b99-4d46-8b12-b21ff6f908b4\",\"type\":\"CategoricalTicker\"}},\"id\":\"baf11d21-a71b-4416-bed2-66709445d8be\",\"type\":\"CategoricalAxis\"},{\"attributes\":{\"children\":[{\"id\":\"6d3addc5-6e85-4871-a95b-afd1548f64bf\",\"type\":\"Button\"}]},\"id\":\"d8107377-9b05-4ee3-82ac-3545c15b37f7\",\"type\":\"WidgetBox\"},{\"attributes\":{\"formatter\":{\"id\":\"270f011b-e2e0-4bf6-9760-77ef6909dc51\",\"type\":\"BasicTickFormatter\"},\"plot\":{\"id\":\"89636e13-2a1e-4a96-bebb-dd3bfaff3a5e\",\"subtype\":\"Figure\",\"type\":\"Plot\"},\"ticker\":{\"id\":\"32101213-8889-478d-b895-1ef2cdc5c75b\",\"type\":\"BasicTicker\"}},\"id\":\"20b878b0-0715-4193-816e-9c8e3c4ac259\",\"type\":\"LinearAxis\"},{\"attributes\":{},\"id\":\"32101213-8889-478d-b895-1ef2cdc5c75b\",\"type\":\"BasicTicker\"},{\"attributes\":{\"dimension\":1,\"plot\":{\"id\":\"89636e13-2a1e-4a96-bebb-dd3bfaff3a5e\",\"subtype\":\"Figure\",\"type\":\"Plot\"},\"ticker\":{\"id\":\"32101213-8889-478d-b895-1ef2cdc5c75b\",\"type\":\"BasicTicker\"}},\"id\":\"6e584648-dba1-493f-ae88-9a5613c8b25a\",\"type\":\"Grid\"},{\"attributes\":{\"data_source\":{\"id\":\"f665f87c-23a1-4cd5-a0da-9d2ca3e470e7\",\"type\":\"ColumnDataSource\"},\"glyph\":{\"id\":\"e2e64df8-3a19-4ce3-8ab6-554c73fb0b31\",\"type\":\"VBar\"},\"hover_glyph\":null,\"muted_glyph\":null,\"nonselection_glyph\":{\"id\":\"94454f35-2481-4693-b6c4-f5ac745303c7\",\"type\":\"VBar\"},\"selection_glyph\":null,\"view\":{\"id\":\"e9ed3d68-9ad5-486d-aeaf-196f1ff71b65\",\"type\":\"CDSView\"}},\"id\":\"4fcdcc83-a200-4ee6-8607-3255ca2cb2e3\",\"type\":\"GlyphRenderer\"},{\"attributes\":{\"toolbar\":{\"id\":\"d1176afa-812a-4b5b-97e1-81019dafc2d7\",\"type\":\"ProxyToolbar\"},\"toolbar_location\":\"above\"},\"id\":\"6e3c164d-9529-450d-8df6-da6c95848c5f\",\"type\":\"ToolbarBox\"},{\"attributes\":{\"children\":[{\"id\":\"9b5f79f8-67e2-4af9-aeb8-48264398169f\",\"type\":\"Row\"},{\"id\":\"8460b29f-ef70-4e15-955d-0a6d98c7e04e\",\"type\":\"Row\"}]},\"id\":\"054e3628-af06-4589-ab41-6f6d167ebf06\",\"type\":\"Column\"},{\"attributes\":{},\"id\":\"3ce5b23c-a0dd-467f-ab8a-f6167e07ac07\",\"type\":\"PanTool\"},{\"attributes\":{\"children\":[{\"id\":\"d8107377-9b05-4ee3-82ac-3545c15b37f7\",\"type\":\"WidgetBox\"},{\"id\":\"1e3f24b0-40d2-422b-a248-82bc6f9e32fc\",\"type\":\"WidgetBox\"}]},\"id\":\"8460b29f-ef70-4e15-955d-0a6d98c7e04e\",\"type\":\"Row\"},{\"attributes\":{},\"id\":\"a3e38760-7e54-40b3-a013-6f4ec2a0256b\",\"type\":\"WheelZoomTool\"},{\"attributes\":{\"children\":[{\"id\":\"556fd277-dfbf-4036-95bc-f3f0fc61fe9e\",\"type\":\"Button\"}]},\"id\":\"6cec10d7-04b4-47ee-94d3-e8b8c3ae6786\",\"type\":\"WidgetBox\"},{\"attributes\":{},\"id\":\"54fa4707-4f1a-440b-8995-60ac01ebfcf4\",\"type\":\"SaveTool\"},{\"attributes\":{\"children\":[{\"id\":\"071c0624-eed0-45a2-aa8e-b136e6c9d459\",\"type\":\"Slider\"}]},\"id\":\"8dfc7bfd-35db-41da-acc6-0ff5178ac729\",\"type\":\"WidgetBox\"},{\"attributes\":{},\"id\":\"d1176afa-812a-4b5b-97e1-81019dafc2d7\",\"type\":\"ProxyToolbar\"},{\"attributes\":{\"children\":[{\"id\":\"6e3c164d-9529-450d-8df6-da6c95848c5f\",\"type\":\"ToolbarBox\"},{\"id\":\"054e3628-af06-4589-ab41-6f6d167ebf06\",\"type\":\"Column\"}]},\"id\":\"b7db7e9f-accd-4eae-bb06-0bcd8c2f9f07\",\"type\":\"Column\"},{\"attributes\":{\"children\":[{\"id\":\"b7db7e9f-accd-4eae-bb06-0bcd8c2f9f07\",\"type\":\"Column\"},{\"id\":\"89636e13-2a1e-4a96-bebb-dd3bfaff3a5e\",\"subtype\":\"Figure\",\"type\":\"Plot\"}]},\"id\":\"28a3b0b9-7bb3-4394-aa97-92cb69056e11\",\"type\":\"Column\"},{\"attributes\":{},\"id\":\"b676283d-825e-49ea-bb7b-4ce3669403ab\",\"type\":\"CategoricalTickFormatter\"},{\"attributes\":{\"children\":[{\"id\":\"015f7699-6503-4397-b2ce-0c060876e937\",\"type\":\"Slider\"}]},\"id\":\"1e3f24b0-40d2-422b-a248-82bc6f9e32fc\",\"type\":\"WidgetBox\"},{\"attributes\":{\"callback\":null,\"tooltips\":[[\"Probability\",\"@y\"]]},\"id\":\"d60cc7de-9ef5-4028-9163-ca18e8819219\",\"type\":\"HoverTool\"}],\"root_ids\":[\"28a3b0b9-7bb3-4394-aa97-92cb69056e11\"]},\"title\":\"Bokeh Application\",\"version\":\"0.12.13\"}};\n",
       "  var render_items = [{\"docid\":\"1b8aed76-7e5b-4e13-a818-e46cb7989851\",\"elementid\":\"11d27068-4fd1-42cf-95e9-94b537c2cb2c\",\"modelid\":\"28a3b0b9-7bb3-4394-aa97-92cb69056e11\"}];\n",
       "  root.Bokeh.embed.embed_items_notebook(docs_json, render_items);\n",
       "\n",
       "  }\n",
       "  if (root.Bokeh !== undefined) {\n",
       "    embed_document(root);\n",
       "  } else {\n",
       "    var attempts = 0;\n",
       "    var timer = setInterval(function(root) {\n",
       "      if (root.Bokeh !== undefined) {\n",
       "        embed_document(root);\n",
       "        clearInterval(timer);\n",
       "      }\n",
       "      attempts++;\n",
       "      if (attempts > 100) {\n",
       "        console.log(\"Bokeh: ERROR: Unable to run BokehJS code because BokehJS library is missing\")\n",
       "        clearInterval(timer);\n",
       "      }\n",
       "    }, 10, root)\n",
       "  }\n",
       "})(window);"
      ],
      "application/vnd.bokehjs_exec.v0+json": ""
     },
     "metadata": {
      "application/vnd.bokehjs_exec.v0+json": {
       "id": "28a3b0b9-7bb3-4394-aa97-92cb69056e11"
      }
     },
     "output_type": "display_data"
    }
   ],
   "source": [
    "# show the final figure\n",
    "show(column(gridplot([button_one_flip,head_slider],[button_100_flip,tail_slider]),p))"
   ]
  },
  {
   "cell_type": "markdown",
   "metadata": {},
   "source": [
    "## 1.2 First Concepts\n",
    "\n",
    "### Terminology\n",
    "\n",
    "When we later discuss examples that are more complicated than flipping a coin, it will be useful to have an established vocabulary for working with probabilities. A probabilistic **experiment** (such as tossing a coin or rolling a dice) has several components. The **sample space** is the set of all possible **outcomes** in the experiment. We usually denote the sample space by $\\Omega$, the Greek capital letter “Omega.” So in a coin toss experiment, the sample space is\n",
    "\n",
    "$$\\Omega = \\{H, T\\}$$\n",
    "\n",
    "since there are only two possible outcomes: **heads (H)** or **tails (T)**. Different experiments have different sample spaces. So if we instead consider an experiment in which we roll a standard six-sided dice, the sample space is\n",
    "\n",
    "$$\\Omega = \\{1, 2, 3, 4, 5, 6\\}$$\n",
    "\n",
    "Collections of outcomes in the sample space W are called **events**, and we often use capital Roman letters to denote these collections. We might be interested in the event that we roll an even number, for example. If we call this event E, then\n",
    "\n",
    "$$E = \\{2, 4, 6\\}$$\n",
    "\n",
    "Any subset of $\\Omega$ is a valid event. In particular, one-element subsets are allowed, so we can speak of the event F of rolling a 4, $F = \\{4\\}$.\n",
    "\n",
    "\n",
    "### Assigning probabilities to dice rolls and coin flips\n",
    "\n",
    "In a random experiment, every event gets assigned a probability. Notationally, if $A$ is some event of interest, then $P(A)$ is the probability that $A$ occurs. The probabilities in an experiment are not arbitrary; they must satisfy a set of **rules** or **axioms**. We first require that **all probabilities be nonnegative**. In other words, in an experiment with\n",
    "sample space $\\Omega$, it must be the case that\n",
    "\n",
    "$$P(A)\\geq 0$$\n",
    "\n",
    "for any event $A \\subset \\Omega$. This should make sense given that we’ve already said that a probability of 0 is assigned to an impossible event, and there is no way for something to be less likely than something that is impossible!\n",
    "\n",
    "The next axiom is that the sum of the probabilities of all the outcomes in $\\Omega$ must be 1. We can restate this requirement by the equation\n",
    "\n",
    "$$\\sum_{\\omega \\in \\Omega} P(\\omega) = 1$$\n",
    "\n",
    "Once we know the probabilties of the outcomes in an experiment, we can compute the probability of any event. This is because the probability of an event is the sum of the probabilities of the outcomes it comprises. In other words, for an event $A \\subset \\Omega$, the probability of A is\n",
    "\n",
    "$$P(A) = \\sum_{\\omega \\in A} P(\\omega)$$\n",
    "\n",
    "To illustrate this equation, let us find the probability of rolling an even number, an event which we will denote by $E$. Since $E = \\{2, 4, 6\\}$, we simply add the probabilities of these three outcomes to obtain\n",
    "\n",
    "$$\n",
    "\\begin{eqnarray*}\n",
    "\\Omega &=& \\{1,2,3,4,5,6\\}\\\\\n",
    "P(E)&=&\\sum_{\\omega \\in E} P(\\omega)\\\\\n",
    "&=&P(2) + P(4) + P(6)\\\\\n",
    "&=&\\frac{1}{6} + \\frac{1}{6} + \\frac{1}{6}\\\\\n",
    "&=&\\frac{1}{2}\n",
    "\\end{eqnarray*}\n",
    "$$\n",
    "\n",
    "Again an example using the coin (...) What is the probability that we get at least one H in two tosses?\n",
    "\n",
    "$$\\Omega = \\{HH,HT,TH,TT\\}$$\n",
    "\n",
    "One way to solve this problem is to add up the probabilities of all outcomes that have at least one H, an event which will denote by $E$. Since $E = \\{HH,HT,TH\\}$ we would get:\n",
    "\n",
    "\n",
    "$$\n",
    "\\begin{eqnarray*}\n",
    "P(E) &=& P(HH) + P(HT) + P(TH)\\\\\n",
    "&=& p^2 + p  (1 - p) + (1 - p)  p \\\\\n",
    "&=& p^2 + 2  (p - p^2)\\\\\n",
    "&=& 2  (p - p^2)\\\\\n",
    "&=& p  (2 - p)\n",
    "\\end{eqnarray*}\n",
    "$$\n",
    "\n"
   ]
  },
  {
   "cell_type": "code",
   "execution_count": 6,
   "metadata": {},
   "outputs": [
    {
     "data": {
      "image/png": "[encoded data removed]",
      "text/latex": [
       "$$p \\left(- p + 2\\right)$$"
      ],
      "text/plain": [
       "p⋅(-p + 2)"
      ]
     },
     "execution_count": 6,
     "metadata": {},
     "output_type": "execute_result"
    }
   ],
   "source": [
    "from sympy import *\n",
    "\n",
    "# enable pretty printing.\n",
    "init_printing(use_unicode=True)\n",
    "\n",
    "# create a variable\n",
    "p = symbols('p')\n",
    "\n",
    "# simplifying the equation\n",
    "simplify(p**2 + p * (1-p) + (1-p) * p)"
   ]
  },
  {
   "cell_type": "markdown",
   "metadata": {},
   "source": [
    "Another way to do this is to find the probability that we don’t flip at least one H, and subtract that probability from 1. This would give us the probability that we do flip at least one H. The only outcome in which we don’t flip at least one H is if we flip T both times. Lets denote this event by F. We would then compute\n",
    "\n",
    "$$P(F) = P(TT) = (1 - p)^2$$\n",
    "\n",
    "Then to get the complement of this event, i.e. the event where we do flip at least one H, we subtract the above probability from 1. This gives us\n",
    "\n",
    "$$\n",
    "\\begin{eqnarray*}\n",
    "P(E) &=& 1 - P(F)\\\\\n",
    "&=& 1 - (1 - p)^2\\\\\n",
    "&=& 1 - (1 - 2p + p^2)\\\\\n",
    "&=& 2p - p^2\\\\\n",
    "&=& p (2 - p)\n",
    "\\end{eqnarray*}\n",
    "$$\n"
   ]
  },
  {
   "cell_type": "code",
   "execution_count": 7,
   "metadata": {},
   "outputs": [
    {
     "data": {
      "image/png": "[encoded data removed]",
      "text/latex": [
       "$$p \\left(- p + 2\\right)$$"
      ],
      "text/plain": [
       "p⋅(-p + 2)"
      ]
     },
     "execution_count": 7,
     "metadata": {},
     "output_type": "execute_result"
    }
   ],
   "source": [
    "# simplifying the equation\n",
    "simplify(1 - (1 - p)**2)"
   ]
  },
  {
   "cell_type": "markdown",
   "metadata": {},
   "source": [
    "**Both methods for solving this problem gave the same answer.** Notice that in the second calculation, we had to sum up fewer probabilities to get the answer. It can often be the case that computing the probability of the complement of an event and subtracting that from 1 to find the probability of the original event requires less work."
   ]
  },
  {
   "cell_type": "markdown",
   "metadata": {},
   "source": [
    "## 1.3 Expectation\n",
    "\n",
    "Consider the outcome of a single dice roll, and call it X. A reasonable question one might ask is “What is the average value of X?\". We define this notion of “average” as a weighted sum of outcomes. Since X can take on 6 values, each with probability $\\frac{1}{6}$ , the weighted\n",
    "average of these outcomes should be\n",
    "\n",
    "$$\n",
    "\\begin{eqnarray*}\n",
    "\\textrm{Weighted Average} &=& \\frac{1}{6} \\times 1 + \\frac{1}{6} \\times 2 + \\frac{1}{6} \\times 3 + \\frac{1}{6} \\times 4 + \\frac{1}{6} \\times 5 + \\frac{1}{6} \\times 6\\\\\n",
    " &=& \\frac{1}{6} \\times (1 + 2 + 3 + 4 + 5 + 6)\\\\\n",
    " &=& \\frac{21}{6}\\\\\n",
    " &=& 3.5\n",
    "\\end{eqnarray*}\n",
    "$$\n",
    "\n",
    "This may seem dubious to some. How can the average roll be a noninteger value? The confusion lies in the interpretation of the phrase average roll. A more correct interpretation would be the long term average of the dice rolls. Suppose we rolled the dice many times, and recorded each roll. Then we took the average of all those rolls. This average would be the fraction of 1’s, times 1, plus the fraction of 2’s, times 2, plus the fraction of 3’s, times 3, and so on. But this is exactly the computation we have done above! In the long run, the fraction of\n",
    "each of these outcomes is nothing but their probability, in this case, 16\n",
    "for each of the 6 outcomes.\n",
    "\n",
    "From this very specific dice rolling example, we can abstract the notion of the average value of a random quantity. The concept of average value is an important one in statistics, so much so that it even gets a special bold faced name. Below is the mathematical definition for the\n",
    "expectation, or average value, of a random quantity X.\n",
    "\n",
    "**Definition**. The **expected value**, or **expectation** of X, denoted by E(X), is defined to be\n",
    "\n",
    "$$\n",
    "E(X) = \\sum_{x \\in X(\\Omega)} x P(X=x)\n",
    "$$\n",
    "\n",
    "This expression may look intimidating, but it is actually conveying a very simple set of instructions, the same ones we followed to compute the average value of X.\n",
    "\n",
    "The $\\sum$ sign means to sum over, and the indices of the items we are summing are denoted below the $\\sum$ sign. The $\\in$ symbol is shorthand for “contained in”, so the expression below the $\\sum$ is telling us to sum over all items contained in our sample space $\\Omega$. We can think of the expression to the right of the $\\sum$ sign as the actual items we are summing, in this case, the weighted contribution of each item in our sample space.\n",
    "\n",
    "\n",
    "The notation $X(\\Omega)$ is used to deal with the fact that $\\Omega$ may not be a set of numbers, so a weighted sum of elements in $\\Omega$ isn’t even well defined. For instance, in the case of a coin flip, how can we compute $H \\times \\frac{1}{2} + T \\times \\frac{1}{2}$? \n",
    "\n",
    "We would first need to assign numerical values to H and T in order to compute a meaningful expected value. For a coin flip we typically make the following assignments,\n",
    "\n",
    "$$\n",
    "T \\longmapsto 0\\\\\n",
    "H \\longmapsto 1\n",
    "$$\n",
    "\n",
    "So when computing an expectation, the indices that we would sum over are contained in the set\n",
    "\n",
    "$$\n",
    "X(\\Omega) = \\{0, 1\\}\n",
    "$$\n",
    "\n",
    "Let’s use this set of instructions to compute the expected value for a coin flip.\n",
    "\n",
    "### Expectation of a Coin Flip\n",
    "\n",
    "Now let X denote the value of a coin flip with bias p. That is, with probability p we flip H, and in this case we say X = 1. Similarly, with probability $1 - p$ we flip T, and in this case we say X = 0. The expected value of the random quantity X is then\n",
    "\n",
    "$$\n",
    "\\displaystyle \\begin{eqnarray*}\n",
    "E(X) &=& \\sum_{x \\in X(\\Omega)} x P(X=x)\\\\\n",
    " &=& \\sum_{x \\in \\{0,1\\}} x P(X=x)\\\\\n",
    " &=& 0 \\times P(X = 0) + 1 \\times P(X = 1)\\\\\n",
    " &=& 0 \\times P(T) + 1 \\times P(H)\\\\\n",
    " &=& 0 \\times (1 - p) + 1 \\times p\\\\\n",
    " &=& p\n",
    "\\end{eqnarray*}\n",
    "$$\n",
    "\n",
    "So the expected value of this experiment is p. If we were flipping a fair coin, then $p = \\frac{1}{2}$, so the average value of X would be $\\frac{1}{2}$.\n",
    "\n",
    "Again, we can never get an outcome that would yield $X = \\frac{1}{2}$, but this is not the interpretation of the expectation of X. Remember, the correct interpretation is to consider what would happen if we flipped the coin many times, obtained a sequence of 0’s and 1’s, and took the average of those values. We would expect around half of the flips to give 0 and the other half to give 1, giving an average value of $\\frac{1}{2}$."
   ]
  },
  {
   "cell_type": "code",
   "execution_count": 8,
   "metadata": {},
   "outputs": [
    {
     "name": "stdout",
     "output_type": "stream",
     "text": [
      "0.500000000000000\n"
     ]
    }
   ],
   "source": [
    "from sympy.stats import FiniteRV, E\n",
    "\n",
    "# unbiased coin\n",
    "density = {0: 0.5, 1: 0.5}\n",
    "\n",
    "# Create a Finite Random Variable given a dict representing the density.\n",
    "X = FiniteRV('X', density)\n",
    "print(E(X))"
   ]
  },
  {
   "cell_type": "code",
   "execution_count": 9,
   "metadata": {},
   "outputs": [
    {
     "data": {
      "text/html": [
       "\n",
       "<div class=\"bk-root\">\n",
       "    <div class=\"bk-plotdiv\" id=\"9f58a121-c1b4-48f4-a553-8e3261febbb9\"></div>\n",
       "</div>"
      ]
     },
     "metadata": {},
     "output_type": "display_data"
    },
    {
     "data": {
      "application/javascript": [
       "(function(root) {\n",
       "  function embed_document(root) {\n",
       "    \n",
       "  var docs_json = {\"7c3ea7ba-fbe0-409c-9913-976d9277ee0c\":{\"roots\":{\"references\":[{\"attributes\":{\"children\":[{\"id\":\"1665ebc8-8228-46e1-a53f-7afb345def6f\",\"type\":\"Slider\"}]},\"id\":\"a65e7b99-517d-4c64-8d31-61c104a81e90\",\"type\":\"WidgetBox\"},{\"attributes\":{\"callback\":null,\"column_names\":[\"x\",\"y\"],\"data\":{\"x\":[0],\"y\":[0]}},\"id\":\"c1c23577-d395-4458-be09-ccd9bc2d5d92\",\"type\":\"ColumnDataSource\"},{\"attributes\":{\"toolbar\":{\"id\":\"6bb05809-7b6e-498a-b158-5e9ad3fccefe\",\"type\":\"ProxyToolbar\"},\"toolbar_location\":\"above\"},\"id\":\"8818f19a-f7b1-4d0d-87bb-f9874617f303\",\"type\":\"ToolbarBox\"},{\"attributes\":{\"children\":[{\"id\":\"8818f19a-f7b1-4d0d-87bb-f9874617f303\",\"type\":\"ToolbarBox\"},{\"id\":\"ebf84ba6-5c4f-4037-9905-730b58bee33b\",\"type\":\"Column\"}]},\"id\":\"5cdb7aa0-4e16-48cc-93a7-43236aac4403\",\"type\":\"Column\"},{\"attributes\":{\"callback\":null,\"column_names\":[\"x\",\"y\"],\"data\":{\"x\":[0],\"y\":[0]}},\"id\":\"61fa9c2b-6963-4632-9737-14dd306926f2\",\"type\":\"ColumnDataSource\"},{\"attributes\":{\"children\":[{\"id\":\"5cdb7aa0-4e16-48cc-93a7-43236aac4403\",\"type\":\"Column\"},{\"id\":\"be9fac80-3aba-4a5a-b1b0-34f8cd083461\",\"type\":\"Row\"},{\"id\":\"346f9b14-3f90-49d2-8429-5b5b477b227a\",\"subtype\":\"Figure\",\"type\":\"Plot\"}]},\"id\":\"be0faabe-a421-40eb-83e9-16707471c593\",\"type\":\"Column\"},{\"attributes\":{\"line_color\":\"blue\",\"x\":{\"field\":\"x\"},\"y\":{\"field\":\"y\"}},\"id\":\"cc416110-2219-48b5-add8-39d2dba1517a\",\"type\":\"Line\"},{\"attributes\":{\"children\":[{\"id\":\"7a1743e3-a03e-4d0f-ac12-f8a85422254e\",\"type\":\"Button\"}]},\"id\":\"920e4fef-9716-4d1d-9463-ae123968c042\",\"type\":\"WidgetBox\"},{\"attributes\":{\"data_source\":{\"id\":\"dd4f3fa4-a6f1-4e69-a042-77101cf34c82\",\"type\":\"ColumnDataSource\"},\"glyph\":{\"id\":\"decf9eaf-7b3a-4a55-a9bd-4055c5123d7a\",\"type\":\"Line\"},\"hover_glyph\":null,\"muted_glyph\":null,\"nonselection_glyph\":{\"id\":\"aa2ff222-4b39-479a-be1e-21f56d4e1d4f\",\"type\":\"Line\"},\"selection_glyph\":null,\"view\":{\"id\":\"ec3e8e10-395d-4069-b15a-f4d0ab8c1650\",\"type\":\"CDSView\"}},\"id\":\"1fe5cc4f-5827-4c44-a525-bf48c12bf1c7\",\"type\":\"GlyphRenderer\"},{\"attributes\":{\"children\":[{\"id\":\"ba78c608-60e8-4cda-8b05-11b9d0b28210\",\"type\":\"Slider\"}]},\"id\":\"09f1f806-7126-4a7e-a2c2-96a02d1e5a26\",\"type\":\"WidgetBox\"},{\"attributes\":{\"children\":[{\"id\":\"a4a270d5-4a94-4e02-b242-a1aa80f69a19\",\"type\":\"Button\"}]},\"id\":\"eef986bb-2301-473c-b586-8f66f0fc48a1\",\"type\":\"WidgetBox\"},{\"attributes\":{\"callback\":{\"id\":\"6a6465e6-c70b-42cd-a6f1-8a18babe8c92\",\"type\":\"CustomJS\"},\"end\":1.0,\"format\":\"0[.]00000\",\"start\":0.0,\"step\":0.01,\"title\":\"Face 1\",\"value\":0.16666666666666666},\"id\":\"1665ebc8-8228-46e1-a53f-7afb345def6f\",\"type\":\"Slider\"},{\"attributes\":{\"args\":{\"slider_1\":{\"id\":\"1665ebc8-8228-46e1-a53f-7afb345def6f\",\"type\":\"Slider\"},\"slider_2\":{\"id\":\"3f7dc147-3388-4ebf-9e18-425dd605bdab\",\"type\":\"Slider\"},\"slider_3\":{\"id\":\"ba78c608-60e8-4cda-8b05-11b9d0b28210\",\"type\":\"Slider\"},\"slider_4\":{\"id\":\"9f0a78fb-cc18-4722-8cb9-9ce076541511\",\"type\":\"Slider\"},\"slider_5\":{\"id\":\"ebcb83f3-854c-4d1d-bc15-236abbeaa044\",\"type\":\"Slider\"},\"slider_6\":{\"id\":\"24215c54-3f55-4a58-9fca-bad551fd32f8\",\"type\":\"Slider\"},\"source\":{\"id\":\"dd4f3fa4-a6f1-4e69-a042-77101cf34c82\",\"type\":\"ColumnDataSource\"},\"source_all\":{\"id\":\"61fa9c2b-6963-4632-9737-14dd306926f2\",\"type\":\"ColumnDataSource\"},\"source_avg\":{\"id\":\"c1c23577-d395-4458-be09-ccd9bc2d5d92\",\"type\":\"ColumnDataSource\"}},\"code\":\"\\n                                   \\n        data = source.data\\n        data_all = source_all.data\\n        data_avg = source_avg.data\\n        \\n        //calculate the new probabilites of sliders\\n        sliders = [slider_1,slider_2,slider_3,slider_4,slider_5,slider_6]\\n        index = parseInt(cb_obj.title.substring(5, 6)) - 1\\n        remain = 1 - sliders[index].value\\n        diff_values = 0\\n        sum_remain = 0\\n        for (i = 0; i < 6; i++) {\\n           if  (i != index)\\n                sum_remain += sliders[i].value\\n        }\\n        \\n        for (i = 0; i < 6; i++) {\\n           if (remain != 0)\\n               diff_values = Math.abs((sum_remain - remain)*(sliders[i].value/remain))\\n           if  (sum_remain > remain)\\n                sliders[i].value = Math.max(0, sliders[i].value - diff_values)\\n           else\\n                sliders[i].value = Math.min(1, sliders[i].value + diff_values)\\n        }\\n        \\n        //update the plot with the new expectation\\n        data_all['x'].length = 0\\n        data_all['y'].length = 0\\n        \\n        data_avg['x'].length = 0\\n        data_avg['y'].length = 0\\n        \\n        data['x'].length = 0\\n        data['y'].length = 0\\n        \\n        data_all['x'] = [0]\\n        data_all['y'] = [0]\\n        \\n        data_avg['x'] = [0]\\n        data_avg['y'] = [0]\\n        \\n        //calculate the new expectation\\n        expectation = 0\\n        for (i=0; i < 6; i++){\\n            expectation += sliders[i].value * (i+1)\\n        }\\n        \\n        data['x'] = Array.apply(null, {length: 200}).map(Number.call, Number)\\n        data['y'] = Array(200).fill(expectation)\\n        \\n        //console.log(remain,sum_remain,diff_values)\\n        \\n        source.change.emit()\\n        source_all.change.emit()\\n        source_avg.change.emit()\\n        \"},\"id\":\"6a6465e6-c70b-42cd-a6f1-8a18babe8c92\",\"type\":\"CustomJS\"},{\"attributes\":{\"plot\":null,\"text\":\"Expectation\"},\"id\":\"ab21ef7c-fa59-4ebf-918e-66a3a7c4b4ef\",\"type\":\"Title\"},{\"attributes\":{},\"id\":\"1af9117a-a25b-4a26-8953-f37f7a7e916b\",\"type\":\"BasicTickFormatter\"},{\"attributes\":{\"axis_label\":\"Number of rolls\",\"formatter\":{\"id\":\"8aa2f72f-276a-4464-b67d-3966fd4f15ca\",\"type\":\"BasicTickFormatter\"},\"plot\":{\"id\":\"346f9b14-3f90-49d2-8429-5b5b477b227a\",\"subtype\":\"Figure\",\"type\":\"Plot\"},\"ticker\":{\"id\":\"e8eea09f-b6a6-4de6-82f2-f82962e9af3d\",\"type\":\"BasicTicker\"}},\"id\":\"6d53c440-b37b-4a27-9558-d50ab39921d1\",\"type\":\"LinearAxis\"},{\"attributes\":{\"line_color\":\"red\",\"line_dash\":[6],\"x\":{\"field\":\"x\"},\"y\":{\"field\":\"y\"}},\"id\":\"decf9eaf-7b3a-4a55-a9bd-4055c5123d7a\",\"type\":\"Line\"},{\"attributes\":{\"dimension\":1,\"grid_line_color\":{\"value\":null},\"plot\":{\"id\":\"346f9b14-3f90-49d2-8429-5b5b477b227a\",\"subtype\":\"Figure\",\"type\":\"Plot\"},\"ticker\":{\"id\":\"f5667aad-6f69-42bf-b20e-ad7f3776f8b3\",\"type\":\"BasicTicker\"}},\"id\":\"949beb12-e14f-48a8-ab92-a875ff503537\",\"type\":\"Grid\"},{\"attributes\":{\"callback\":null,\"column_names\":[\"x\",\"y\"],\"data\":{\"x\":[0,1,2,3,4,5,6,7,8,9,10,11,12,13,14,15,16,17,18,19,20,21,22,23,24,25,26,27,28,29,30,31,32,33,34,35,36,37,38,39,40,41,42,43,44,45,46,47,48,49,50,51,52,53,54,55,56,57,58,59,60,61,62,63,64,65,66,67,68,69,70,71,72,73,74,75,76,77,78,79,80,81,82,83,84,85,86,87,88,89,90,91,92,93,94,95,96,97,98,99,100,101,102,103,104,105,106,107,108,109,110,111,112,113,114,115,116,117,118,119,120,121,122,123,124,125,126,127,128,129,130,131,132,133,134,135,136,137,138,139,140,141,142,143,144,145,146,147,148,149,150,151,152,153,154,155,156,157,158,159,160,161,162,163,164,165,166,167,168,169,170,171,172,173,174,175,176,177,178,179,180,181,182,183,184,185,186,187,188,189,190,191,192,193,194,195,196,197,198,199],\"y\":[3.5,3.5,3.5,3.5,3.5,3.5,3.5,3.5,3.5,3.5,3.5,3.5,3.5,3.5,3.5,3.5,3.5,3.5,3.5,3.5,3.5,3.5,3.5,3.5,3.5,3.5,3.5,3.5,3.5,3.5,3.5,3.5,3.5,3.5,3.5,3.5,3.5,3.5,3.5,3.5,3.5,3.5,3.5,3.5,3.5,3.5,3.5,3.5,3.5,3.5,3.5,3.5,3.5,3.5,3.5,3.5,3.5,3.5,3.5,3.5,3.5,3.5,3.5,3.5,3.5,3.5,3.5,3.5,3.5,3.5,3.5,3.5,3.5,3.5,3.5,3.5,3.5,3.5,3.5,3.5,3.5,3.5,3.5,3.5,3.5,3.5,3.5,3.5,3.5,3.5,3.5,3.5,3.5,3.5,3.5,3.5,3.5,3.5,3.5,3.5,3.5,3.5,3.5,3.5,3.5,3.5,3.5,3.5,3.5,3.5,3.5,3.5,3.5,3.5,3.5,3.5,3.5,3.5,3.5,3.5,3.5,3.5,3.5,3.5,3.5,3.5,3.5,3.5,3.5,3.5,3.5,3.5,3.5,3.5,3.5,3.5,3.5,3.5,3.5,3.5,3.5,3.5,3.5,3.5,3.5,3.5,3.5,3.5,3.5,3.5,3.5,3.5,3.5,3.5,3.5,3.5,3.5,3.5,3.5,3.5,3.5,3.5,3.5,3.5,3.5,3.5,3.5,3.5,3.5,3.5,3.5,3.5,3.5,3.5,3.5,3.5,3.5,3.5,3.5,3.5,3.5,3.5,3.5,3.5,3.5,3.5,3.5,3.5,3.5,3.5,3.5,3.5,3.5,3.5,3.5,3.5,3.5,3.5,3.5,3.5]}},\"id\":\"dd4f3fa4-a6f1-4e69-a042-77101cf34c82\",\"type\":\"ColumnDataSource\"},{\"attributes\":{\"grid_line_color\":{\"value\":null},\"plot\":{\"id\":\"346f9b14-3f90-49d2-8429-5b5b477b227a\",\"subtype\":\"Figure\",\"type\":\"Plot\"},\"ticker\":{\"id\":\"e8eea09f-b6a6-4de6-82f2-f82962e9af3d\",\"type\":\"BasicTicker\"}},\"id\":\"c27e6406-ba55-4977-b49d-4da53fc4f703\",\"type\":\"Grid\"},{\"attributes\":{\"callback\":null,\"end\":6,\"start\":1},\"id\":\"068e1447-e98b-4f84-b6f9-1b7913c87d52\",\"type\":\"Range1d\"},{\"attributes\":{\"data_source\":{\"id\":\"c1c23577-d395-4458-be09-ccd9bc2d5d92\",\"type\":\"ColumnDataSource\"},\"glyph\":{\"id\":\"cc416110-2219-48b5-add8-39d2dba1517a\",\"type\":\"Line\"},\"hover_glyph\":null,\"muted_glyph\":null,\"nonselection_glyph\":{\"id\":\"96a12c82-add6-4672-b1dd-fd61f2b3095e\",\"type\":\"Line\"},\"selection_glyph\":null,\"view\":{\"id\":\"ecaed7ad-f047-48cd-825f-35d1c8cc1fa7\",\"type\":\"CDSView\"}},\"id\":\"18953362-ba66-4352-81e4-15bb5d1894ad\",\"type\":\"GlyphRenderer\"},{\"attributes\":{},\"id\":\"e8eea09f-b6a6-4de6-82f2-f82962e9af3d\",\"type\":\"BasicTicker\"},{\"attributes\":{\"source\":{\"id\":\"dd4f3fa4-a6f1-4e69-a042-77101cf34c82\",\"type\":\"ColumnDataSource\"}},\"id\":\"ec3e8e10-395d-4069-b15a-f4d0ab8c1650\",\"type\":\"CDSView\"},{\"attributes\":{\"axis_label\":\"Value\",\"formatter\":{\"id\":\"1af9117a-a25b-4a26-8953-f37f7a7e916b\",\"type\":\"BasicTickFormatter\"},\"plot\":{\"id\":\"346f9b14-3f90-49d2-8429-5b5b477b227a\",\"subtype\":\"Figure\",\"type\":\"Plot\"},\"ticker\":{\"id\":\"f5667aad-6f69-42bf-b20e-ad7f3776f8b3\",\"type\":\"BasicTicker\"}},\"id\":\"58d0e27f-b56b-4cdd-910e-636b5700f489\",\"type\":\"LinearAxis\"},{\"attributes\":{\"callback\":{\"id\":\"6a6465e6-c70b-42cd-a6f1-8a18babe8c92\",\"type\":\"CustomJS\"},\"end\":1.0,\"format\":\"0[.]00000\",\"start\":0.0,\"step\":0.01,\"title\":\"Face 5\",\"value\":0.16666666666666666},\"id\":\"ebcb83f3-854c-4d1d-bc15-236abbeaa044\",\"type\":\"Slider\"},{\"attributes\":{\"children\":[{\"id\":\"24215c54-3f55-4a58-9fca-bad551fd32f8\",\"type\":\"Slider\"}]},\"id\":\"7a0b5665-3f5a-45cb-9b8c-a1c164519430\",\"type\":\"WidgetBox\"},{\"attributes\":{\"button_type\":\"primary\",\"callback\":{\"id\":\"21b6a57d-3cae-44ab-b752-e5967243edfe\",\"type\":\"CustomJS\"},\"icon\":null,\"label\":\"Roll 100 times\"},\"id\":\"a4a270d5-4a94-4e02-b242-a1aa80f69a19\",\"type\":\"Button\"},{\"attributes\":{\"below\":[{\"id\":\"6d53c440-b37b-4a27-9558-d50ab39921d1\",\"type\":\"LinearAxis\"}],\"left\":[{\"id\":\"58d0e27f-b56b-4cdd-910e-636b5700f489\",\"type\":\"LinearAxis\"}],\"plot_height\":300,\"renderers\":[{\"id\":\"6d53c440-b37b-4a27-9558-d50ab39921d1\",\"type\":\"LinearAxis\"},{\"id\":\"c27e6406-ba55-4977-b49d-4da53fc4f703\",\"type\":\"Grid\"},{\"id\":\"58d0e27f-b56b-4cdd-910e-636b5700f489\",\"type\":\"LinearAxis\"},{\"id\":\"949beb12-e14f-48a8-ab92-a875ff503537\",\"type\":\"Grid\"},{\"id\":\"331517c8-a4df-4ccb-93dc-f27052ce1694\",\"type\":\"BoxAnnotation\"},{\"id\":\"1fe5cc4f-5827-4c44-a525-bf48c12bf1c7\",\"type\":\"GlyphRenderer\"},{\"id\":\"18953362-ba66-4352-81e4-15bb5d1894ad\",\"type\":\"GlyphRenderer\"}],\"title\":{\"id\":\"ab21ef7c-fa59-4ebf-918e-66a3a7c4b4ef\",\"type\":\"Title\"},\"toolbar\":{\"id\":\"7c13ac5d-546b-455b-a435-2e75ef6ac33a\",\"type\":\"Toolbar\"},\"x_range\":{\"id\":\"756447d2-0e5e-4da0-b9a4-b1ecaa5835dc\",\"type\":\"DataRange1d\"},\"x_scale\":{\"id\":\"d1da03cc-27b9-41de-9f7a-1d0eea748cf3\",\"type\":\"LinearScale\"},\"y_range\":{\"id\":\"068e1447-e98b-4f84-b6f9-1b7913c87d52\",\"type\":\"Range1d\"},\"y_scale\":{\"id\":\"2cdc2b4f-7f16-48d6-ad64-c0b330b7ed80\",\"type\":\"LinearScale\"}},\"id\":\"346f9b14-3f90-49d2-8429-5b5b477b227a\",\"subtype\":\"Figure\",\"type\":\"Plot\"},{\"attributes\":{\"children\":[{\"id\":\"9f0a78fb-cc18-4722-8cb9-9ce076541511\",\"type\":\"Slider\"}]},\"id\":\"413fb984-3cf6-48ed-922c-b4ff3d6abbd7\",\"type\":\"WidgetBox\"},{\"attributes\":{\"callback\":{\"id\":\"6a6465e6-c70b-42cd-a6f1-8a18babe8c92\",\"type\":\"CustomJS\"},\"end\":1.0,\"format\":\"0[.]00000\",\"start\":0.0,\"step\":0.01,\"title\":\"Face 6\",\"value\":0.16666666666666666},\"id\":\"24215c54-3f55-4a58-9fca-bad551fd32f8\",\"type\":\"Slider\"},{\"attributes\":{},\"id\":\"6bb05809-7b6e-498a-b158-5e9ad3fccefe\",\"type\":\"ProxyToolbar\"},{\"attributes\":{\"children\":[{\"id\":\"c1a4df50-afe5-4fd7-86ca-7c3fd8c5775d\",\"type\":\"WidgetBox\"},{\"id\":\"7a0b5665-3f5a-45cb-9b8c-a1c164519430\",\"type\":\"WidgetBox\"}]},\"id\":\"77084527-9ea2-44ba-88b7-3114298b3e84\",\"type\":\"Row\"},{\"attributes\":{},\"id\":\"f5667aad-6f69-42bf-b20e-ad7f3776f8b3\",\"type\":\"BasicTicker\"},{\"attributes\":{},\"id\":\"d1da03cc-27b9-41de-9f7a-1d0eea748cf3\",\"type\":\"LinearScale\"},{\"attributes\":{},\"id\":\"2cdc2b4f-7f16-48d6-ad64-c0b330b7ed80\",\"type\":\"LinearScale\"},{\"attributes\":{\"bottom_units\":\"screen\",\"fill_alpha\":{\"value\":0.5},\"fill_color\":{\"value\":\"lightgrey\"},\"left_units\":\"screen\",\"level\":\"overlay\",\"line_alpha\":{\"value\":1.0},\"line_color\":{\"value\":\"black\"},\"line_dash\":[4,4],\"line_width\":{\"value\":2},\"plot\":null,\"render_mode\":\"css\",\"right_units\":\"screen\",\"top_units\":\"screen\"},\"id\":\"331517c8-a4df-4ccb-93dc-f27052ce1694\",\"type\":\"BoxAnnotation\"},{\"attributes\":{\"active_drag\":\"auto\",\"active_inspect\":\"auto\",\"active_scroll\":\"auto\",\"active_tap\":\"auto\",\"tools\":[{\"id\":\"63b9c21c-9516-45c7-9d7d-f52a83f3098b\",\"type\":\"PanTool\"},{\"id\":\"cd57cd53-b41f-4a87-abe4-c2f926c38dee\",\"type\":\"WheelZoomTool\"},{\"id\":\"87a3e0ab-2754-41c6-9cb1-22ee96c71fcc\",\"type\":\"BoxZoomTool\"},{\"id\":\"3cfba527-28fe-40de-8a67-b0dce3a311a1\",\"type\":\"SaveTool\"},{\"id\":\"7b79e871-66ea-4c2b-8b12-c56284064ad4\",\"type\":\"ResetTool\"},{\"id\":\"626bc4ea-d9ff-421c-8820-24890682c461\",\"type\":\"HelpTool\"},{\"id\":\"928ce83a-a79d-4c29-9f2e-6b5dccbec112\",\"type\":\"HoverTool\"},{\"id\":\"86f34924-0c18-4949-b9d9-64ea094e36c8\",\"type\":\"HoverTool\"}]},\"id\":\"7c13ac5d-546b-455b-a435-2e75ef6ac33a\",\"type\":\"Toolbar\"},{\"attributes\":{\"children\":[{\"id\":\"09f1f806-7126-4a7e-a2c2-96a02d1e5a26\",\"type\":\"WidgetBox\"},{\"id\":\"413fb984-3cf6-48ed-922c-b4ff3d6abbd7\",\"type\":\"WidgetBox\"}]},\"id\":\"03da985c-3581-4f36-9dc6-5fe522fbf09a\",\"type\":\"Row\"},{\"attributes\":{},\"id\":\"8aa2f72f-276a-4464-b67d-3966fd4f15ca\",\"type\":\"BasicTickFormatter\"},{\"attributes\":{\"line_alpha\":0.1,\"line_color\":\"#1f77b4\",\"x\":{\"field\":\"x\"},\"y\":{\"field\":\"y\"}},\"id\":\"96a12c82-add6-4672-b1dd-fd61f2b3095e\",\"type\":\"Line\"},{\"attributes\":{\"line_alpha\":0.1,\"line_color\":\"#1f77b4\",\"line_dash\":[6],\"x\":{\"field\":\"x\"},\"y\":{\"field\":\"y\"}},\"id\":\"aa2ff222-4b39-479a-be1e-21f56d4e1d4f\",\"type\":\"Line\"},{\"attributes\":{\"children\":[{\"id\":\"39afdbb6-d43d-477e-bb4c-7df89e88f735\",\"type\":\"Row\"},{\"id\":\"03da985c-3581-4f36-9dc6-5fe522fbf09a\",\"type\":\"Row\"},{\"id\":\"77084527-9ea2-44ba-88b7-3114298b3e84\",\"type\":\"Row\"}]},\"id\":\"ebf84ba6-5c4f-4037-9905-730b58bee33b\",\"type\":\"Column\"},{\"attributes\":{\"children\":[{\"id\":\"a65e7b99-517d-4c64-8d31-61c104a81e90\",\"type\":\"WidgetBox\"},{\"id\":\"888e0b54-6b9a-4d06-b9b8-b2c4072c0da3\",\"type\":\"WidgetBox\"}]},\"id\":\"39afdbb6-d43d-477e-bb4c-7df89e88f735\",\"type\":\"Row\"},{\"attributes\":{\"callback\":null},\"id\":\"756447d2-0e5e-4da0-b9a4-b1ecaa5835dc\",\"type\":\"DataRange1d\"},{\"attributes\":{\"button_type\":\"primary\",\"callback\":{\"id\":\"21b6a57d-3cae-44ab-b752-e5967243edfe\",\"type\":\"CustomJS\"},\"icon\":null,\"label\":\"Roll the dice\"},\"id\":\"7a1743e3-a03e-4d0f-ac12-f8a85422254e\",\"type\":\"Button\"},{\"attributes\":{\"source\":{\"id\":\"c1c23577-d395-4458-be09-ccd9bc2d5d92\",\"type\":\"ColumnDataSource\"}},\"id\":\"ecaed7ad-f047-48cd-825f-35d1c8cc1fa7\",\"type\":\"CDSView\"},{\"attributes\":{},\"id\":\"63b9c21c-9516-45c7-9d7d-f52a83f3098b\",\"type\":\"PanTool\"},{\"attributes\":{},\"id\":\"cd57cd53-b41f-4a87-abe4-c2f926c38dee\",\"type\":\"WheelZoomTool\"},{\"attributes\":{\"overlay\":{\"id\":\"331517c8-a4df-4ccb-93dc-f27052ce1694\",\"type\":\"BoxAnnotation\"}},\"id\":\"87a3e0ab-2754-41c6-9cb1-22ee96c71fcc\",\"type\":\"BoxZoomTool\"},{\"attributes\":{\"args\":{\"slider_1\":{\"id\":\"1665ebc8-8228-46e1-a53f-7afb345def6f\",\"type\":\"Slider\"},\"slider_2\":{\"id\":\"3f7dc147-3388-4ebf-9e18-425dd605bdab\",\"type\":\"Slider\"},\"slider_3\":{\"id\":\"ba78c608-60e8-4cda-8b05-11b9d0b28210\",\"type\":\"Slider\"},\"slider_4\":{\"id\":\"9f0a78fb-cc18-4722-8cb9-9ce076541511\",\"type\":\"Slider\"},\"slider_5\":{\"id\":\"ebcb83f3-854c-4d1d-bc15-236abbeaa044\",\"type\":\"Slider\"},\"slider_6\":{\"id\":\"24215c54-3f55-4a58-9fca-bad551fd32f8\",\"type\":\"Slider\"},\"source\":{\"id\":\"dd4f3fa4-a6f1-4e69-a042-77101cf34c82\",\"type\":\"ColumnDataSource\"},\"source_all\":{\"id\":\"61fa9c2b-6963-4632-9737-14dd306926f2\",\"type\":\"ColumnDataSource\"},\"source_avg\":{\"id\":\"c1c23577-d395-4458-be09-ccd9bc2d5d92\",\"type\":\"ColumnDataSource\"}},\"code\":\"\\n        data_all = source_all.data\\n        data_avg = source_avg.data\\n        data = source.data\\n        \\n        x = data['x']\\n        y = data['y']\\n        \\n        x_all = data_all['x']\\n        y_all = data_all['y']\\n        \\n        x_avg = data_avg['x']\\n        y_avg = data_avg['y']\\n        \\n        //probabilities are given by the sliders values\\n        probs = [slider_1,slider_2,slider_3,slider_4,slider_5,slider_6]\\n        \\n\\n        if (cb_obj.label == 'Roll the dice')\\n            n = 1\\n        else\\n            n = 100\\n            \\n        for (i =0;  i < n; i++){\\n            // assume sum of bias is 1\\n            randRoll = Math.random()\\n            sum = 0\\n            result = 1\\n            for (j = 0; j < 6; j++){\\n                sum += probs[j].value\\n                if (randRoll < sum)\\n                    break\\n                result+=1\\n            }\\n            //add a new results (face)\\n            x_all.push(x_all[x_all.length - 1]+1)\\n            y_all.push(result)\\n            \\n            //console.log(y_all)\\n            avg = 0\\n            //calculate the new average\\n            for (t = 1; t < y_all.length; t++){\\n                avg += y_all[t]\\n            }\\n            avg = avg/(y_all.length-1)\\n            \\n            //add the new average\\n            x_avg.push(x_avg[x_avg.length - 1]+1)\\n            y_avg.push(avg)\\n        }  \\n        \\n        //is it need to update the size of source?\\n        if (y_all.length > x.length){\\n            diff = y_all.length - x.length\\n            data['x'] = x.concat(Array.from({length: diff+80}, (v, k) => k+x.length))\\n            data['y'] = y.concat(Array.from({length: diff+80}, (v, k) => y[1]))\\n            //console.log(x,y)\\n        }\\n        \\n        source.change.emit()\\n        source_all.change.emit()\\n        source_avg.change.emit()\\n        \"},\"id\":\"21b6a57d-3cae-44ab-b752-e5967243edfe\",\"type\":\"CustomJS\"},{\"attributes\":{\"callback\":null,\"renderers\":[{\"id\":\"1fe5cc4f-5827-4c44-a525-bf48c12bf1c7\",\"type\":\"GlyphRenderer\"}],\"tooltips\":[[\"Expected value\",\"$y{0.000}\"]]},\"id\":\"928ce83a-a79d-4c29-9f2e-6b5dccbec112\",\"type\":\"HoverTool\"},{\"attributes\":{\"callback\":{\"id\":\"6a6465e6-c70b-42cd-a6f1-8a18babe8c92\",\"type\":\"CustomJS\"},\"end\":1.0,\"format\":\"0[.]00000\",\"start\":0.0,\"step\":0.01,\"title\":\"Face 3\",\"value\":0.16666666666666666},\"id\":\"ba78c608-60e8-4cda-8b05-11b9d0b28210\",\"type\":\"Slider\"},{\"attributes\":{},\"id\":\"3cfba527-28fe-40de-8a67-b0dce3a311a1\",\"type\":\"SaveTool\"},{\"attributes\":{\"callback\":{\"id\":\"6a6465e6-c70b-42cd-a6f1-8a18babe8c92\",\"type\":\"CustomJS\"},\"end\":1.0,\"format\":\"0[.]00000\",\"start\":0.0,\"step\":0.01,\"title\":\"Face 4\",\"value\":0.16666666666666666},\"id\":\"9f0a78fb-cc18-4722-8cb9-9ce076541511\",\"type\":\"Slider\"},{\"attributes\":{},\"id\":\"7b79e871-66ea-4c2b-8b12-c56284064ad4\",\"type\":\"ResetTool\"},{\"attributes\":{\"callback\":{\"id\":\"6a6465e6-c70b-42cd-a6f1-8a18babe8c92\",\"type\":\"CustomJS\"},\"end\":1.0,\"format\":\"0[.]00000\",\"start\":0.0,\"step\":0.01,\"title\":\"Face 2\",\"value\":0.16666666666666666},\"id\":\"3f7dc147-3388-4ebf-9e18-425dd605bdab\",\"type\":\"Slider\"},{\"attributes\":{},\"id\":\"626bc4ea-d9ff-421c-8820-24890682c461\",\"type\":\"HelpTool\"},{\"attributes\":{\"children\":[{\"id\":\"ebcb83f3-854c-4d1d-bc15-236abbeaa044\",\"type\":\"Slider\"}]},\"id\":\"c1a4df50-afe5-4fd7-86ca-7c3fd8c5775d\",\"type\":\"WidgetBox\"},{\"attributes\":{\"children\":[{\"id\":\"920e4fef-9716-4d1d-9463-ae123968c042\",\"type\":\"WidgetBox\"},{\"id\":\"eef986bb-2301-473c-b586-8f66f0fc48a1\",\"type\":\"WidgetBox\"}]},\"id\":\"be9fac80-3aba-4a5a-b1b0-34f8cd083461\",\"type\":\"Row\"},{\"attributes\":{\"children\":[{\"id\":\"3f7dc147-3388-4ebf-9e18-425dd605bdab\",\"type\":\"Slider\"}]},\"id\":\"888e0b54-6b9a-4d06-b9b8-b2c4072c0da3\",\"type\":\"WidgetBox\"},{\"attributes\":{\"callback\":null,\"renderers\":[{\"id\":\"18953362-ba66-4352-81e4-15bb5d1894ad\",\"type\":\"GlyphRenderer\"}],\"tooltips\":[[\"Average value\",\"$y{0.000}\"]]},\"id\":\"86f34924-0c18-4949-b9d9-64ea094e36c8\",\"type\":\"HoverTool\"}],\"root_ids\":[\"be0faabe-a421-40eb-83e9-16707471c593\"]},\"title\":\"Bokeh Application\",\"version\":\"0.12.13\"}};\n",
       "  var render_items = [{\"docid\":\"7c3ea7ba-fbe0-409c-9913-976d9277ee0c\",\"elementid\":\"9f58a121-c1b4-48f4-a553-8e3261febbb9\",\"modelid\":\"be0faabe-a421-40eb-83e9-16707471c593\"}];\n",
       "  root.Bokeh.embed.embed_items_notebook(docs_json, render_items);\n",
       "\n",
       "  }\n",
       "  if (root.Bokeh !== undefined) {\n",
       "    embed_document(root);\n",
       "  } else {\n",
       "    var attempts = 0;\n",
       "    var timer = setInterval(function(root) {\n",
       "      if (root.Bokeh !== undefined) {\n",
       "        embed_document(root);\n",
       "        clearInterval(timer);\n",
       "      }\n",
       "      attempts++;\n",
       "      if (attempts > 100) {\n",
       "        console.log(\"Bokeh: ERROR: Unable to run BokehJS code because BokehJS library is missing\")\n",
       "        clearInterval(timer);\n",
       "      }\n",
       "    }, 10, root)\n",
       "  }\n",
       "})(window);"
      ],
      "application/vnd.bokehjs_exec.v0+json": ""
     },
     "metadata": {
      "application/vnd.bokehjs_exec.v0+json": {
       "id": "be0faabe-a421-40eb-83e9-16707471c593"
      }
     },
     "output_type": "display_data"
    }
   ],
   "source": [
    "# initial expectation\n",
    "x = range(0,200)\n",
    "y = [3.5]*200\n",
    "\n",
    "# all raw data and average results\n",
    "x_avg = [0]\n",
    "y_avg = [0]\n",
    "\n",
    "x_all = [0]\n",
    "y_all = [0]\n",
    "\n",
    "# basic data structure \n",
    "source = ColumnDataSource(data=dict(x=x, y=y))\n",
    "source_avg = ColumnDataSource(data=dict(x=x_avg, y=y_avg))\n",
    "source_all = ColumnDataSource(data=dict(x=x_all, y=y_all))\n",
    "\n",
    "\n",
    "\n",
    "# create a generic figure\n",
    "plot = Figure(title=\"Expectation\", \n",
    "           plot_height=300, \n",
    "           plot_width=600, \n",
    "           y_range=[1,6], \n",
    "           x_axis_label='Number of rolls',\n",
    "           y_axis_label='Value')\n",
    "\n",
    "# add a line to expected value and other to average data\n",
    "plot_1 = plot.line(x='x', y='y', source=source, line_color=\"red\",line_dash='dashed')\n",
    "plot.add_tools(HoverTool(renderers=[plot_1], tooltips=[('Expected value', '$y{0.000}')]))\n",
    "\n",
    "plot_2 = plot.line(x='x', y='y', source=source_avg, line_color=\"blue\")\n",
    "plot.add_tools(HoverTool(renderers=[plot_2], tooltips=[('Average value', '$y{0.000}')]))\n",
    "\n",
    "\n",
    "plot.xgrid.grid_line_color = None\n",
    "plot.ygrid.grid_line_color = None\n",
    "\n",
    "# callbacks\n",
    "\n",
    "# After click to a button\n",
    "# toss the dice and get a value according to probabilities for each face\n",
    "# Update the plot with average values\n",
    "update_plot = CustomJS(args=dict(source_all=source_all,\n",
    "                                 source_avg=source_avg,\n",
    "                                 source=source), code=\"\"\"\n",
    "        data_all = source_all.data\n",
    "        data_avg = source_avg.data\n",
    "        data = source.data\n",
    "        \n",
    "        x = data['x']\n",
    "        y = data['y']\n",
    "        \n",
    "        x_all = data_all['x']\n",
    "        y_all = data_all['y']\n",
    "        \n",
    "        x_avg = data_avg['x']\n",
    "        y_avg = data_avg['y']\n",
    "        \n",
    "        //probabilities are given by the sliders values\n",
    "        probs = [slider_1,slider_2,slider_3,slider_4,slider_5,slider_6]\n",
    "        \n",
    "\n",
    "        if (cb_obj.label == 'Roll the dice')\n",
    "            n = 1\n",
    "        else\n",
    "            n = 100\n",
    "            \n",
    "        for (i =0;  i < n; i++){\n",
    "            // assume sum of bias is 1\n",
    "            randRoll = Math.random()\n",
    "            sum = 0\n",
    "            result = 1\n",
    "            for (j = 0; j < 6; j++){\n",
    "                sum += probs[j].value\n",
    "                if (randRoll < sum)\n",
    "                    break\n",
    "                result+=1\n",
    "            }\n",
    "            //add a new results (face)\n",
    "            x_all.push(x_all[x_all.length - 1]+1)\n",
    "            y_all.push(result)\n",
    "            \n",
    "            //console.log(y_all)\n",
    "            avg = 0\n",
    "            //calculate the new average\n",
    "            for (t = 1; t < y_all.length; t++){\n",
    "                avg += y_all[t]\n",
    "            }\n",
    "            avg = avg/(y_all.length-1)\n",
    "            \n",
    "            //add the new average\n",
    "            x_avg.push(x_avg[x_avg.length - 1]+1)\n",
    "            y_avg.push(avg)\n",
    "        }  \n",
    "        \n",
    "        //is it need to update the size of source?\n",
    "        if (y_all.length > x.length){\n",
    "            diff = y_all.length - x.length\n",
    "            data['x'] = x.concat(Array.from({length: diff+80}, (v, k) => k+x.length))\n",
    "            data['y'] = y.concat(Array.from({length: diff+80}, (v, k) => y[1]))\n",
    "            //console.log(x,y)\n",
    "        }\n",
    "        \n",
    "        source.change.emit()\n",
    "        source_all.change.emit()\n",
    "        source_avg.change.emit()\n",
    "        \"\"\")\n",
    "\n",
    "# select appropriate probabilities for each face of dices\n",
    "# for each configurations update the plot with new expected values\n",
    "update_slider = CustomJS(args=dict(source_all=source_all,\n",
    "                                   source_avg=source_avg,\n",
    "                                   source=source), code=\"\"\"\n",
    "                                   \n",
    "        data = source.data\n",
    "        data_all = source_all.data\n",
    "        data_avg = source_avg.data\n",
    "        \n",
    "        //calculate the new probabilites of sliders\n",
    "        sliders = [slider_1,slider_2,slider_3,slider_4,slider_5,slider_6]\n",
    "        index = parseInt(cb_obj.title.substring(5, 6)) - 1\n",
    "        remain = 1 - sliders[index].value\n",
    "        diff_values = 0\n",
    "        sum_remain = 0\n",
    "        for (i = 0; i < 6; i++) {\n",
    "           if  (i != index)\n",
    "                sum_remain += sliders[i].value\n",
    "        }\n",
    "        \n",
    "        for (i = 0; i < 6; i++) {\n",
    "           if (remain != 0)\n",
    "               diff_values = Math.abs((sum_remain - remain)*(sliders[i].value/remain))\n",
    "           if  (sum_remain > remain)\n",
    "                sliders[i].value = Math.max(0, sliders[i].value - diff_values)\n",
    "           else\n",
    "                sliders[i].value = Math.min(1, sliders[i].value + diff_values)\n",
    "        }\n",
    "        \n",
    "        //update the plot with the new expectation\n",
    "        data_all['x'].length = 0\n",
    "        data_all['y'].length = 0\n",
    "        \n",
    "        data_avg['x'].length = 0\n",
    "        data_avg['y'].length = 0\n",
    "        \n",
    "        data['x'].length = 0\n",
    "        data['y'].length = 0\n",
    "        \n",
    "        data_all['x'] = [0]\n",
    "        data_all['y'] = [0]\n",
    "        \n",
    "        data_avg['x'] = [0]\n",
    "        data_avg['y'] = [0]\n",
    "        \n",
    "        //calculate the new expectation\n",
    "        expectation = 0\n",
    "        for (i=0; i < 6; i++){\n",
    "            expectation += sliders[i].value * (i+1)\n",
    "        }\n",
    "        \n",
    "        data['x'] = Array.apply(null, {length: 200}).map(Number.call, Number)\n",
    "        data['y'] = Array(200).fill(expectation)\n",
    "        \n",
    "        //console.log(remain,sum_remain,diff_values)\n",
    "        \n",
    "        source.change.emit()\n",
    "        source_all.change.emit()\n",
    "        source_avg.change.emit()\n",
    "        \"\"\")\n",
    "\n",
    "# create widgets\n",
    "button_roll_the_dice = Button(label=\"Roll the dice\", \n",
    "                         button_type=\"primary\",\n",
    "                         callback=update_plot)\n",
    "\n",
    "button_roll_times = Button(label=\"Roll 100 times\", \n",
    "                         button_type=\"primary\",\n",
    "                         callback=update_plot)\n",
    "\n",
    "unbiased = 1/6\n",
    "\n",
    "slider_1 = Slider(start=0.0, end=1.0, value=unbiased,step=.01, title=\"Face 1\",\n",
    "                     callback=update_slider,format=\"0[.]00000\")\n",
    "slider_2 = Slider(start=0.0, end=1.0, value=unbiased,step=.01, title=\"Face 2\",\n",
    "                     callback=update_slider,format=\"0[.]00000\")\n",
    "slider_3 = Slider(start=0.0, end=1.0, value=unbiased,step=.01, title=\"Face 3\",\n",
    "                     callback=update_slider,format=\"0[.]00000\")\n",
    "slider_4 = Slider(start=0.0, end=1.0, value=unbiased,step=.01, title=\"Face 4\",\n",
    "                     callback=update_slider,format=\"0[.]00000\")\n",
    "slider_5 = Slider(start=0.0, end=1.0, value=unbiased,step=.01, title=\"Face 5\",\n",
    "                     callback=update_slider,format=\"0[.]00000\")\n",
    "slider_6 = Slider(start=0.0, end=1.0, value=unbiased,step=.01, title=\"Face 6\",\n",
    "                     callback=update_slider,format=\"0[.]00000\")\n",
    "\n",
    "# config callbacks\n",
    "update_slider.args[\"slider_1\"] = slider_1\n",
    "update_slider.args[\"slider_2\"] = slider_2\n",
    "update_slider.args[\"slider_3\"] = slider_3\n",
    "update_slider.args[\"slider_4\"] = slider_4\n",
    "update_slider.args[\"slider_5\"] = slider_5\n",
    "update_slider.args[\"slider_6\"] = slider_6\n",
    "\n",
    "update_plot.args[\"slider_1\"] = slider_1\n",
    "update_plot.args[\"slider_2\"] = slider_2\n",
    "update_plot.args[\"slider_3\"] = slider_3\n",
    "update_plot.args[\"slider_4\"] = slider_4\n",
    "update_plot.args[\"slider_5\"] = slider_5\n",
    "update_plot.args[\"slider_6\"] = slider_6\n",
    "\n",
    "\n",
    "# show the final figure\n",
    "layout_slide = gridplot([slider_1,slider_2,slider_3,slider_4,slider_5,slider_6],\n",
    "                       ncols=2)\n",
    "layout_row = row(button_roll_the_dice,button_roll_times)\n",
    "show(column(layout_slide,layout_row,plot))"
   ]
  },
  {
   "cell_type": "code",
   "execution_count": 10,
   "metadata": {},
   "outputs": [
    {
     "name": "stdout",
     "output_type": "stream",
     "text": [
      "3.23400000000000\n"
     ]
    }
   ],
   "source": [
    "from sympy.stats import FiniteRV, E\n",
    "\n",
    "density = {1: 0.0780, 2: 0.0780, 3: 0.6100, 4: 0.0780, 5: 0.0780, 6: 0.0780}\n",
    "\n",
    "# Create a Finite Random Variable given a dict representing the density.\n",
    "X = FiniteRV('X', density)\n",
    "\n",
    "print(E(X))"
   ]
  },
  {
   "cell_type": "markdown",
   "metadata": {},
   "source": [
    "<br>\n",
    "<div class=\"alert alert-info\">\n",
    "<b>Exercise Start.</b>\n",
    "</div>\n",
    "\n",
    "**Show the following properties of expectation using sympy**: \n",
    "\n",
    "\n",
    "1. If X and Y are two random variables, then: \n",
    "$$E(X + Y) = E(X) + E(Y)$$\n",
    "2. If X is a random variable and c is a constant, then:\n",
    "$$E(cX) = cE(X)$$\n",
    "3. If X and Y are independent random variables, then:\n",
    "$$E[XY] = E[X]E[Y]$$"
   ]
  },
  {
   "cell_type": "code",
   "execution_count": 11,
   "metadata": {},
   "outputs": [
    {
     "name": "stdout",
     "output_type": "stream",
     "text": [
      "E(X): 0.500000000000000\n",
      "E(Y): 0.600000000000000\n",
      "E(X+Y): 1.10000000000000\n"
     ]
    }
   ],
   "source": [
    "#1\n",
    "from sympy.stats import FiniteRV, E\n",
    "\n",
    "# unbiased coin\n",
    "density = {0: 0.5, 1: 0.5}\n",
    "# Create a Finite Random Variable given a dict representing the density.\n",
    "X = FiniteRV('X', density)\n",
    "print('E(X):',E(X))\n",
    "\n",
    "\n",
    "densityY = {0: 0.4, 1: 0.6}\n",
    "Y = FiniteRV('Y', densityY)\n",
    "print('E(Y):',E(Y))\n",
    "\n",
    "print('E(X+Y):',E(X+Y))"
   ]
  },
  {
   "cell_type": "code",
   "execution_count": 12,
   "metadata": {},
   "outputs": [
    {
     "name": "stdout",
     "output_type": "stream",
     "text": [
      "E(cX) 1.50000000000000\n",
      "c*E(X) 1.50000000000000\n"
     ]
    }
   ],
   "source": [
    "#2\n",
    "print('E(cX)',E(3*X))\n",
    "print('c*E(X)',3*E(X))"
   ]
  },
  {
   "cell_type": "code",
   "execution_count": 13,
   "metadata": {},
   "outputs": [
    {
     "name": "stdout",
     "output_type": "stream",
     "text": [
      "E(X*Y): 0.300000000000000\n",
      "E(X)*E(Y): 0.300000000000000\n"
     ]
    }
   ],
   "source": [
    "#3\n",
    "print('E(X*Y):',E(X*Y))\n",
    "print('E(X)*E(Y):',E(X)*E(Y))"
   ]
  },
  {
   "cell_type": "markdown",
   "metadata": {},
   "source": [
    "## 1.4 Variance\n",
    "\n",
    "The variance of a random variable X is a nonnegative number that summarizes on average how much X differs from its mean, or expectation. The first expression that comes to mind is\n",
    "\n",
    "$$X − E(X)$$\n",
    "\n",
    "i.e. the difference between X and its mean. This itself is a random variable, since even though EX is just a number, X is still random. Hence we would need to take an expectation to turn this expression into the average amount by which X differs from its expected value. This leads us to\n",
    "\n",
    "$$E(X − E(X))$$\n",
    "\n",
    "This is almost the definition for variance. We require that the variance always be nonnegative, so the expression inside the expectation should always be $\\geq 0$. Instead of taking the expectation of the difference, we take the expectation of the squared difference.\n",
    "\n",
    "**Definition**: The variance of X, denoted by Var(X) is defined\n",
    "$$Var(X) = E[(X − E(X))^2]$$\n",
    "\n",
    "Below we give some useful properties of the variance.\n",
    "\n",
    "*Proposition*. If X is a random variable with mean $E(X)$ and $c$ is a real number,\n",
    "\n",
    "1. $Var(X) ≥ 0$\n",
    "2. $Var(cX) = c^2Var(X)$\n",
    "3. $Var(X) = E(X^2) − E(X)^2$"
   ]
  },
  {
   "cell_type": "code",
   "execution_count": 14,
   "metadata": {},
   "outputs": [
    {
     "data": {
      "image/png": "[encoded data removed]",
      "text/latex": [
       "$$\\frac{35}{12}$$"
      ],
      "text/plain": [
       "35\n",
       "──\n",
       "12"
      ]
     },
     "execution_count": 14,
     "metadata": {},
     "output_type": "execute_result"
    }
   ],
   "source": [
    "from sympy.stats import variance, Die\n",
    "from sympy import simplify\n",
    "\n",
    "X = Die('X',6)\n",
    "variance(X)"
   ]
  },
  {
   "cell_type": "code",
   "execution_count": 15,
   "metadata": {},
   "outputs": [
    {
     "data": {
      "image/png": "[encoded data removed]",
      "text/latex": [
       "$$2$$"
      ],
      "text/plain": [
       "2"
      ]
     },
     "execution_count": 15,
     "metadata": {},
     "output_type": "execute_result"
    }
   ],
   "source": [
    "Y = Die('Y',5)\n",
    "variance(Y)"
   ]
  },
  {
   "cell_type": "markdown",
   "metadata": {},
   "source": [
    "<br>\n",
    "<div class=\"alert alert-info\">\n",
    "<b>Exercise Start.</b>\n",
    "</div>\n",
    "\n",
    "1. Compute the variance of a dice roll, i.e. a uniform random variable over the sample space $\\Omega = \\{1, 2, 3, 4, 5, 6\\}$\n",
    "$$\n",
    "\\begin{eqnarray*}\n",
    "VAR(X) &=& E(X^2) - E(X)^2\\\\\n",
    "&=& (\\sum_{k=1}^{6}k^2 . \\frac{1}{6}) - 3.5^2\\\\\n",
    "&\\approx& 2.92\n",
    "\\end{eqnarray*}\n",
    "$$\n",
    "2. Now you can do the same using sympy\n",
    "3. Calculate the variance assuming that the Dice is biased, which probability density is\n",
    "```python\n",
    "    density_ = {1: 0.0780, 2: 0.0780, 3: 0.6100, 4: 0.0780, 5: 0.0780, 6: 0.0780}\n",
    "```\n",
    "4. Prove using sympy the propositions\n",
    "    - $Var(cX) = c^2Var(X)$\n",
    "    - $Var(X) = E(X^2) − E(X)^2$\n"
   ]
  },
  {
   "cell_type": "code",
   "execution_count": 16,
   "metadata": {},
   "outputs": [
    {
     "data": {
      "image/png": "[encoded data removed]",
      "text/latex": [
       "$$2.9166666666666665$$"
      ],
      "text/plain": [
       "2.9166666666666665"
      ]
     },
     "execution_count": 16,
     "metadata": {},
     "output_type": "execute_result"
    }
   ],
   "source": [
    "#2\n",
    "from sympy.stats import density\n",
    "X = Die('X',6)\n",
    "float(variance(X))"
   ]
  },
  {
   "cell_type": "code",
   "execution_count": 17,
   "metadata": {},
   "outputs": [
    {
     "data": {
      "image/png": "[encoded data removed]",
      "text/latex": [
       "$$1.427244$$"
      ],
      "text/plain": [
       "1.427244"
      ]
     },
     "execution_count": 17,
     "metadata": {},
     "output_type": "execute_result"
    }
   ],
   "source": [
    "#3\n",
    "density = {1: 0.0780, 2: 0.0780, 3: 0.6100, 4: 0.0780, 5: 0.0780, 6: 0.0780}\n",
    "Px = 0\n",
    "Px2 = 0\n",
    "for key, value in density.items():\n",
    "    Px += key*value\n",
    "    Px2 += (key**2)*value\n",
    "var = Px2 - Px**2\n",
    "var"
   ]
  },
  {
   "cell_type": "code",
   "execution_count": 18,
   "metadata": {},
   "outputs": [
    {
     "name": "stdout",
     "output_type": "stream",
     "text": [
      "1.42724400000000\n"
     ]
    }
   ],
   "source": [
    "#3 - Outra forma\n",
    "from sympy.stats import FiniteRV, E\n",
    "\n",
    "density = {1: 0.0780, 2: 0.0780, 3: 0.6100, 4: 0.0780, 5: 0.0780, 6: 0.0780}\n",
    "\n",
    "# Create a Finite Random Variable given a dict representing the density.\n",
    "X = FiniteRV('X', density)\n",
    "print(variance(X))"
   ]
  },
  {
   "cell_type": "code",
   "execution_count": 19,
   "metadata": {},
   "outputs": [
    {
     "name": "stdout",
     "output_type": "stream",
     "text": [
      "5.70897600000000 5.70897600000000\n"
     ]
    }
   ],
   "source": [
    "#4\n",
    "D6 = Die('D6',6)\n",
    "var1 = variance(2*X)\n",
    "var2 = (2**2)*variance(X)\n",
    "print(var1, var2)"
   ]
  },
  {
   "cell_type": "code",
   "execution_count": 26,
   "metadata": {},
   "outputs": [
    {
     "data": {
      "image/png": "[encoded data removed]",
      "text/latex": [
       "$$2.916666666666668$$"
      ],
      "text/plain": [
       "2.916666666666668"
      ]
     },
     "execution_count": 26,
     "metadata": {},
     "output_type": "execute_result"
    }
   ],
   "source": [
    "D6 = Die('D6',6)\n",
    "Ex = 0\n",
    "Ex2 = 0\n",
    "for i in range (1,6):\n",
    "    Ex += i*1/6\n",
    "    Ex2 += (i**2)*1/6\n",
    "var = Ex2 - Ex**2\n",
    "var"
   ]
  },
  {
   "cell_type": "code",
   "execution_count": 31,
   "metadata": {},
   "outputs": [
    {
     "data": {
      "image/png": "[encoded data removed]",
      "text/latex": [
       "$$\\frac{35}{12}$$"
      ],
      "text/plain": [
       "35\n",
       "──\n",
       "12"
      ]
     },
     "execution_count": 31,
     "metadata": {},
     "output_type": "execute_result"
    }
   ],
   "source": [
    "X = Die('X',6)\n",
    "variance(X)"
   ]
  },
  {
   "cell_type": "code",
   "execution_count": 32,
   "metadata": {},
   "outputs": [
    {
     "data": {
      "image/png": "[encoded data removed]",
      "text/latex": [
       "$$\\frac{35}{12}$$"
      ],
      "text/plain": [
       "35\n",
       "──\n",
       "12"
      ]
     },
     "execution_count": 32,
     "metadata": {},
     "output_type": "execute_result"
    }
   ],
   "source": [
    "E(X**2) - E(X)**2"
   ]
  },
  {
   "cell_type": "markdown",
   "metadata": {},
   "source": [
    "# 2 Conditional Probability\n",
    "\n",
    "Suppose we had a bag that contained two coins. One coin is a fair coin, and the other has a bias of 0.95, that is, if you flip this biased coin, it will come up heads with probability 0.95 and tails with probability 0.05. Holding the bag in one hand, you blindly reach in with\n",
    "your other, and pick out a coin. You flip this coin 3 times and see that all three times, the coin came up heads. You suspect that this coin is “likely” the biased coin, but how “likely” is it?\n",
    "\n",
    "This problem highlights a typical situation in which new information changes the likelihood of an event. The original event was “we pick the biased coin”. Before reaching in to grab a coin and then flipping it, we would reason that the probability of this event occurring (picking the biased coin) is $\\frac{1}{2}$.\n",
    "\n",
    "After flipping the coin a couple of times and seeing that it landed heads all three times, we gain new information, and our probability should no longer be $\\frac{1}{2}$. In fact, it\n",
    "should be much higher. In this case, we “condition” on the event of flipping 3 heads out of 3 total flips. We would write this new probability as\n",
    "\n",
    "$$P(\\textrm{picking the biased coin} \\  |  \\ \\textrm{flipping 3 heads out of 3 total flips})$$\n",
    "\n",
    "The \"bar\" between the two events in the probability expression above represents \"conditioned on\", and is defined below.\n",
    "\n",
    "\n",
    "**Definition** The probability of an event A conditioned on an event B is denoted and defined\n",
    "\n",
    "$$P(A | B) = \\frac{P(A ∩ B)}{P(B)}$$\n",
    "\n",
    "\n",
    "The intuition of this definition can be gained by playing with the visualization on the website. Suppose we drop a ball uniformly at random in the visualization. If we ask “What is the probability that a ball hits the orange shelf?\", we can compute this probability by simply dividing the length of the orange shelf by the length of the entire space. Now suppose we are given the information that our ball landed on the green shelf. What is the probability of landing on the orange shelf now? Our green shelf has become our “new” sample space, and the proportion of the green shelf that overlaps with the orange shelf is now the only region in which we could have possibly landed on the orange shelf. To compute this new conditional probability, we would divide the length of the overlapping, or “intersecting”, regions of the orange and green shelves by the total length of the green shelf.\n",
    "\n",
    "\n",
    "## 2.1 Bayes Rule\n",
    "\n",
    "Now that we’ve understood where the definition of conditional probability comes from, we can use it to prove a useful identity.\n",
    "\n",
    "**Theorem (Bayes Rule)**. Let A and B be two subsets of our sample space $\\Omega$. Then\n",
    "\n",
    "$$P(A | B) = \\frac{P(B | A)P(A)}{P(B)}$$\n",
    "\n",
    "\n",
    "Proof. By the definition of conditional probability,\n",
    "\n",
    "$$P(A | B) = \\frac{P(A ∩ B)}{P(B)}$$\n",
    "\n",
    "Similarly,\n",
    "\n",
    "$$P(B | A) = \\frac{P(A ∩ B)}{P(A)}$$\n",
    "\n",
    "Multiplying both sides by P(A) gives\n",
    "\n",
    "$$P(B | A)P(A) = P(A ∩ B)$$\n",
    "\n",
    "Plugging this into our first equation, we conclude\n",
    "\n",
    "$$P(A | B) = \\frac{P(B | A)P(A)}{P(B)}$$\n",
    "\n",
    "### 2.1.1 Coins in a Bag\n",
    "\n",
    "\n",
    "Let’s return to our first example in this section and try to use our new theorem to find a solution. Define the events\n",
    "\n",
    "$$A = \\{\\textrm{Picking the biased coin}\\}$$\n",
    "\n",
    "$$B = \\{\\textrm{Flipping 3 heads out of 3 total flips} \\}$$\n",
    "\n",
    "\n",
    "We were interested in computing the probability $P(A | B)$. By Bayes Rule,\n",
    "\n",
    "$$ P(A | B) = \\frac{P(B | A)P(A)}{P(B)}$$\n",
    "\n",
    "$P(B | A)$, i.e. the probability of flipping 3 heads out of 3 total flips given that we picked the biased coin, is simply $(0.95)^3 ≈ 0.857$. The probability $P(A)$, i.e. the probability that we picked the biased coin is $\\frac{1}{2}$ since we blindly picked a coin from the bag. Now all we need to do is compute $P(B)$, the overall probability of flipping 3 heads in this\n",
    "experiment.\n",
    "\n",
    "$$\n",
    "\\begin{eqnarray*}\n",
    "P(B) &=& P(B|A)P(A) + P(B|A^c)P(A^c)\\\\\n",
    "&=& 0.857 \\times 0.5 + 0.125 \\times 0.5\\\\\n",
    "&=& 0.491\n",
    "\\end{eqnarray*}\n",
    "$$\n",
    "\n",
    "\n",
    "Plugging this back into the formula given by Bayes Rule,\n",
    "\n",
    "$$\n",
    "\\begin{eqnarray*}\n",
    "P(A | B) &=& \\frac{0.857 \\times 0.5}{0.491}\n",
    "&=& 0.873\n",
    "\\end{eqnarray*}\n",
    "$$\n",
    "Thus, given that we flipped 3 heads out of a total 3 flips, the probability\n",
    "that we picked the biased coin is roughly 87.3%.\n",
    "\n",
    "\n",
    "<br>\n",
    "<div class=\"alert alert-info\">\n",
    "<b>Case Study -  Analyzing the Bayes's rule in a real problem </b>\n",
    "</div>\n",
    "\n",
    "### Reference\n",
    "\n",
    "[William Koehrsen's Github](\n",
    "https://github.com/WillKoehrsen/ai-projects/blob/master/bayesian_inference/bayes_rule_applied.ipynb)\n",
    "[William's Blog](https://towardsdatascience.com/bayes-rule-applied-75965e4482ff\n",
    ")    "
   ]
  },
  {
   "cell_type": "code",
   "execution_count": null,
   "metadata": {},
   "outputs": [],
   "source": []
  }
 ],
 "metadata": {
  "kernelspec": {
   "display_name": "Python 3",
   "language": "python",
   "name": "python3"
  },
  "language_info": {
   "codemirror_mode": {
    "name": "ipython",
    "version": 3
   },
   "file_extension": ".py",
   "mimetype": "text/x-python",
   "name": "python",
   "nbconvert_exporter": "python",
   "pygments_lexer": "ipython3",
   "version": "3.6.4"
  }
 },
 "nbformat": 4,
 "nbformat_minor": 2
}
