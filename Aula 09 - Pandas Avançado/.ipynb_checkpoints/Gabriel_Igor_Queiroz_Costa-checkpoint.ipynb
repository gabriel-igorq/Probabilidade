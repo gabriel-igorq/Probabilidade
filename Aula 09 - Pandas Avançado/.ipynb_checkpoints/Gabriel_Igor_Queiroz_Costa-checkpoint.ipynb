{
 "cells": [
  {
   "cell_type": "markdown",
   "metadata": {},
   "source": [
    "## Unidade 01 - Avaliação 01\n",
    "\n",
    "- **Aluno**: --preencher o nome completo--\n",
    "- **Matrícula**: --preencer com a matrícula--\n",
    "\n",
    "<br>\n",
    "<div class=\"alert alert-info\">\n",
    "<b>Avisos.</b>\n",
    "</div>\n",
    "\n",
    "\n",
    "1. O notebook deverá ser renomeado para o nome completo do aluno seguindo o formato: Ivanovitch_Medeiros_Dantas_da_Silva.ipynb\n",
    "2. Todas as questões devem ser respondidas através de códigos escritos em linguagem Python e no espaço destinado para esse fim. Criem células Markdown para destacar quando inicia e termina as questões. \n",
    "3. O notebook resultante deverá ser enviado através do Sigaa conforme tarefa cadastrada pelo professor. Ressalta-se que após o horário de final da aula, a submissão da tarefa estará fechada no Sigaa. \n",
    "4. O arquivo da base de dados não deve ser alterado. "
   ]
  },
  {
   "cell_type": "markdown",
   "metadata": {},
   "source": [
    "## Base de dados\n",
    "\n",
    "Nessa avaliação será utilizado a base de dados referente ao desempenho dos alunos do Instituto Metropole Digital em disciplinas do núcleo comum do curso de Bacharelado em Tecnologia da Informação. As informações sobre os alunos e disciplinas estão codificadas a fim de manter o anonimato e privacidade dos dados. \n",
    "\n",
    "A base de dados está em formato de planilha em excel. Para carregar esse arquivo em formato de **dataframe** utilizar o código abaixo: \n",
    "\n",
    ">```python\n",
    "# Importar as bibliotecas necessárias\n",
    "import pandas as pd\n",
    "# Atribuir o nome da planilha para a variável \"arquivo\"\n",
    "arquivo = 'imd_notas.xlsx'\n",
    "# Carregar a base de dados para um objeto pandas.io.excel.ExcelFile\n",
    "excel = pd.ExcelFile(arquivo)\n",
    "# Imprimir o nome das planilhas\n",
    "print(excel.sheet_names)\n",
    "# Carregar a planilha excel para um objeto dataframe\n",
    "dados = excel.parse(0)\n",
    "# Imprimir as cinco primeiras linhas do dataframe\n",
    "dados.head()\n",
    "```"
   ]
  },
  {
   "cell_type": "code",
   "execution_count": 2,
   "metadata": {},
   "outputs": [
    {
     "name": "stdout",
     "output_type": "stream",
     "text": [
      "['Notas']\n"
     ]
    },
    {
     "data": {
      "text/html": [
       "<div>\n",
       "<style scoped>\n",
       "    .dataframe tbody tr th:only-of-type {\n",
       "        vertical-align: middle;\n",
       "    }\n",
       "\n",
       "    .dataframe tbody tr th {\n",
       "        vertical-align: top;\n",
       "    }\n",
       "\n",
       "    .dataframe thead th {\n",
       "        text-align: right;\n",
       "    }\n",
       "</style>\n",
       "<table border=\"1\" class=\"dataframe\">\n",
       "  <thead>\n",
       "    <tr style=\"text-align: right;\">\n",
       "      <th></th>\n",
       "      <th>a_ID</th>\n",
       "      <th>CEP</th>\n",
       "      <th>ano_ingresso</th>\n",
       "      <th>periodo_ingresso</th>\n",
       "      <th>status</th>\n",
       "      <th>ano_disciplina</th>\n",
       "      <th>periodo_disciplina</th>\n",
       "      <th>nota</th>\n",
       "      <th>disciplina_ID</th>\n",
       "      <th>status.disciplina</th>\n",
       "      <th>enen-nota</th>\n",
       "    </tr>\n",
       "  </thead>\n",
       "  <tbody>\n",
       "    <tr>\n",
       "      <th>0</th>\n",
       "      <td>0</td>\n",
       "      <td>59015430</td>\n",
       "      <td>2014</td>\n",
       "      <td>1</td>\n",
       "      <td>CANCELADO</td>\n",
       "      <td>2014</td>\n",
       "      <td>2</td>\n",
       "      <td>2.6</td>\n",
       "      <td>0</td>\n",
       "      <td>Reprovado</td>\n",
       "      <td>618.0</td>\n",
       "    </tr>\n",
       "    <tr>\n",
       "      <th>1</th>\n",
       "      <td>0</td>\n",
       "      <td>59015430</td>\n",
       "      <td>2014</td>\n",
       "      <td>1</td>\n",
       "      <td>CANCELADO</td>\n",
       "      <td>2015</td>\n",
       "      <td>1</td>\n",
       "      <td>8.0</td>\n",
       "      <td>0</td>\n",
       "      <td>Aprovado</td>\n",
       "      <td>618.0</td>\n",
       "    </tr>\n",
       "    <tr>\n",
       "      <th>2</th>\n",
       "      <td>1</td>\n",
       "      <td>59073120</td>\n",
       "      <td>2014</td>\n",
       "      <td>1</td>\n",
       "      <td>CANCELADO</td>\n",
       "      <td>2014</td>\n",
       "      <td>2</td>\n",
       "      <td>0.1</td>\n",
       "      <td>0</td>\n",
       "      <td>Reprovado</td>\n",
       "      <td>615.0</td>\n",
       "    </tr>\n",
       "    <tr>\n",
       "      <th>3</th>\n",
       "      <td>2</td>\n",
       "      <td>59072580</td>\n",
       "      <td>2014</td>\n",
       "      <td>1</td>\n",
       "      <td>ATIVO</td>\n",
       "      <td>2014</td>\n",
       "      <td>2</td>\n",
       "      <td>6.1</td>\n",
       "      <td>0</td>\n",
       "      <td>Aprovado</td>\n",
       "      <td>600.0</td>\n",
       "    </tr>\n",
       "    <tr>\n",
       "      <th>4</th>\n",
       "      <td>3</td>\n",
       "      <td>59088150</td>\n",
       "      <td>2014</td>\n",
       "      <td>1</td>\n",
       "      <td>ATIVO</td>\n",
       "      <td>2014</td>\n",
       "      <td>1</td>\n",
       "      <td>3.0</td>\n",
       "      <td>0</td>\n",
       "      <td>Reprovado</td>\n",
       "      <td>673.0</td>\n",
       "    </tr>\n",
       "  </tbody>\n",
       "</table>\n",
       "</div>"
      ],
      "text/plain": [
       "   a_ID       CEP  ano_ingresso  periodo_ingresso     status  ano_disciplina  \\\n",
       "0     0  59015430          2014                 1  CANCELADO            2014   \n",
       "1     0  59015430          2014                 1  CANCELADO            2015   \n",
       "2     1  59073120          2014                 1  CANCELADO            2014   \n",
       "3     2  59072580          2014                 1      ATIVO            2014   \n",
       "4     3  59088150          2014                 1      ATIVO            2014   \n",
       "\n",
       "   periodo_disciplina  nota  disciplina_ID status.disciplina  enen-nota  \n",
       "0                   2   2.6              0         Reprovado      618.0  \n",
       "1                   1   8.0              0          Aprovado      618.0  \n",
       "2                   2   0.1              0         Reprovado      615.0  \n",
       "3                   2   6.1              0          Aprovado      600.0  \n",
       "4                   1   3.0              0         Reprovado      673.0  "
      ]
     },
     "execution_count": 2,
     "metadata": {},
     "output_type": "execute_result"
    }
   ],
   "source": [
    "# Importar as bibliotecas necessárias\n",
    "import pandas as pd\n",
    "# Atribuir o nome da planilha para a variável \"arquivo\"\n",
    "arquivo = 'imd_notas.xlsx'\n",
    "# Carregar a base de dados para um objeto pandas.io.excel.ExcelFile\n",
    "excel = pd.ExcelFile(arquivo)\n",
    "# Imprimir o nome das planilhas\n",
    "print(excel.sheet_names)\n",
    "# Carregar a planilha excel para um objeto dataframe\n",
    "dados = excel.parse(0)\n",
    "# Imprimir as cinco primeiras linhas do dataframe\n",
    "dados.head()"
   ]
  },
  {
   "cell_type": "markdown",
   "metadata": {},
   "source": [
    "## a) (2.0 pontos) Investigando a base de dados\n",
    "\n",
    "1. (0.2 pontos) Quais as colunas da base de dados?\n",
    "2. (0.5 pontos)Quais colunas apresentam valores nulos (faltantes)? Em caso afirmativo, quantas linhas de cada coluna apresentam valores nulos?\n",
    "3. (0.5 pontos) Quantos CEPs diferentes estão presentes na base de dados?\n",
    "4. (0.4 pontos) Quantos alunos foram registrados?\n",
    "5. (0.2 pontos) Qual o período em anos dos registros presentes na base de dados?\n",
    "6. (0.2 ponto) Quantas disciplinas foram analisadas?"
   ]
  },
  {
   "cell_type": "markdown",
   "metadata": {
    "scrolled": true
   },
   "source": [
    "Questão 1 -  Início"
   ]
  },
  {
   "cell_type": "code",
   "execution_count": 5,
   "metadata": {
    "collapsed": true
   },
   "outputs": [
    {
     "data": {
      "text/plain": [
       "Index(['a_ID', 'CEP', 'ano_ingresso', 'periodo_ingresso', 'status',\n",
       "       'ano_disciplina', 'periodo_disciplina', 'nota', 'disciplina_ID',\n",
       "       'status.disciplina', 'enen-nota'],\n",
       "      dtype='object')"
      ]
     },
     "execution_count": 5,
     "metadata": {},
     "output_type": "execute_result"
    }
   ],
   "source": [
    "colunas = dados.columns\n",
    "colunas"
   ]
  },
  {
   "cell_type": "markdown",
   "metadata": {},
   "source": [
    "Questão 1 - Fim"
   ]
  },
  {
   "cell_type": "code",
   "execution_count": 7,
   "metadata": {
    "collapsed": true
   },
   "outputs": [
    {
     "data": {
      "text/plain": [
       "a_ID                    0\n",
       "CEP                     0\n",
       "ano_ingresso            0\n",
       "periodo_ingresso        0\n",
       "status                  0\n",
       "ano_disciplina          0\n",
       "periodo_disciplina      0\n",
       "nota                    0\n",
       "disciplina_ID           0\n",
       "status.disciplina       0\n",
       "enen-nota             289\n",
       "dtype: int64"
      ]
     },
     "execution_count": 7,
     "metadata": {},
     "output_type": "execute_result"
    }
   ],
   "source": [
    "#2\n",
    "dados.isnull().sum()"
   ]
  },
  {
   "cell_type": "code",
   "execution_count": 10,
   "metadata": {},
   "outputs": [
    {
     "data": {
      "text/plain": [
       "627"
      ]
     },
     "execution_count": 10,
     "metadata": {},
     "output_type": "execute_result"
    }
   ],
   "source": [
    "#3\n",
    "len(set(dados[\"CEP\"]))"
   ]
  },
  {
   "cell_type": "code",
   "execution_count": 11,
   "metadata": {},
   "outputs": [
    {
     "data": {
      "text/plain": [
       "900"
      ]
     },
     "execution_count": 11,
     "metadata": {},
     "output_type": "execute_result"
    }
   ],
   "source": [
    "#4\n",
    "len(set(dados[\"a_ID\"]))"
   ]
  },
  {
   "cell_type": "code",
   "execution_count": 12,
   "metadata": {},
   "outputs": [
    {
     "data": {
      "text/plain": [
       "{2014, 2015, 2016}"
      ]
     },
     "execution_count": 12,
     "metadata": {},
     "output_type": "execute_result"
    }
   ],
   "source": [
    "#5\n",
    "set(dados[\"ano_ingresso\"])"
   ]
  },
  {
   "cell_type": "code",
   "execution_count": 13,
   "metadata": {},
   "outputs": [
    {
     "data": {
      "text/plain": [
       "7"
      ]
     },
     "execution_count": 13,
     "metadata": {},
     "output_type": "execute_result"
    }
   ],
   "source": [
    "#6\n",
    "len(set(dados[\"disciplina_ID\"]))"
   ]
  },
  {
   "cell_type": "markdown",
   "metadata": {},
   "source": [
    "## b) (2.0 pontos) Investigando a localização dos alunos\n",
    "\n",
    "\n",
    "1. (2.0 pontos) Listar a quantidade total de alunos presentes nos cinco CEPs com mais registros.\n",
    "\n",
    "<dica - consultar as funções duplicated() e value_counts()"
   ]
  },
  {
   "cell_type": "code",
   "execution_count": 41,
   "metadata": {},
   "outputs": [],
   "source": [
    "# <inserir o seu código aqui>"
   ]
  },
  {
   "cell_type": "markdown",
   "metadata": {},
   "source": [
    "## c) (6.0 pontos) Investigando o desempenho das disciplinas\n",
    "\n",
    "1. (1 ponto) Calcular as notas médias para cada disciplina.\n",
    "2. (1,5 pontos) Calcular as notas médias para cada disciplina agrupadas por ano.\n",
    "3. (2,0 pontos) Calcular o número de alunos aprovados e reprovados por disciplina e agrupados por ano.\n",
    "4. (1,5 pontos) Calcular a quantidade de alunos classificados de acordo com a coluna status da base de dados. "
   ]
  },
  {
   "cell_type": "code",
   "execution_count": 28,
   "metadata": {},
   "outputs": [],
   "source": [
    "# <inserir o seu código aqui>"
   ]
  }
 ],
 "metadata": {
  "kernelspec": {
   "display_name": "Python 3",
   "language": "python",
   "name": "python3"
  },
  "language_info": {
   "codemirror_mode": {
    "name": "ipython",
    "version": 3
   },
   "file_extension": ".py",
   "mimetype": "text/x-python",
   "name": "python",
   "nbconvert_exporter": "python",
   "pygments_lexer": "ipython3",
   "version": "3.6.4"
  }
 },
 "nbformat": 4,
 "nbformat_minor": 2
}
